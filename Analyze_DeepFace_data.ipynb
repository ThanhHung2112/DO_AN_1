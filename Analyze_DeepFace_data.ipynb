{
 "cells": [
  {
   "cell_type": "markdown",
   "metadata": {},
   "source": [
    "# Các Công Việc:\n",
    "\n",
    "1. Các thống kê về dữ liệu : (Góc mặt, chất lượng)\n",
    "2. Biểu đồ Boxplot\n",
    "3. Biểu đồ đánh giá độ chính xác trong dự đoán về giới tính,tuổi ..  Nhận xét\n",
    "4. Phát biểu giả thuyết và nhận xét các phép kiểm định, vẽ các biểu đồ còn lại"
   ]
  },
  {
   "cell_type": "code",
   "execution_count": 2,
   "metadata": {
    "vscode": {
     "languageId": "r"
    }
   },
   "outputs": [
    {
     "name": "stderr",
     "output_type": "stream",
     "text": [
      "You can cite this package as:\n",
      "     Patil, I. (2021). Visualizations with statistical details: The 'ggstatsplot' approach.\n",
      "     Journal of Open Source Software, 6(61), 3167, doi:10.21105/joss.03167\n",
      "\n",
      "Loading required package: ggplot2\n",
      "\n",
      "-- \u001b[1mAttaching packages\u001b[22m --------------------------------------- tidyverse 1.3.1 --\n",
      "\n",
      "\u001b[32mv\u001b[39m \u001b[34mtibble \u001b[39m 3.1.6     \u001b[32mv\u001b[39m \u001b[34mdplyr  \u001b[39m 1.0.7\n",
      "\u001b[32mv\u001b[39m \u001b[34mtidyr  \u001b[39m 1.1.4     \u001b[32mv\u001b[39m \u001b[34mstringr\u001b[39m 1.4.0\n",
      "\u001b[32mv\u001b[39m \u001b[34mreadr  \u001b[39m 2.1.1     \u001b[32mv\u001b[39m \u001b[34mforcats\u001b[39m 0.5.1\n",
      "\u001b[32mv\u001b[39m \u001b[34mpurrr  \u001b[39m 0.3.4     \n",
      "\n",
      "-- \u001b[1mConflicts\u001b[22m ------------------------------------------ tidyverse_conflicts() --\n",
      "\u001b[31mx\u001b[39m \u001b[34mdplyr\u001b[39m::\u001b[32mfilter()\u001b[39m masks \u001b[34mstats\u001b[39m::filter()\n",
      "\u001b[31mx\u001b[39m \u001b[34mdplyr\u001b[39m::\u001b[32mlag()\u001b[39m    masks \u001b[34mstats\u001b[39m::lag()\n",
      "\n",
      "Loading required package: lattice\n",
      "\n",
      "Loading required package: survival\n",
      "\n",
      "Loading required package: Formula\n",
      "\n",
      "\n",
      "Attaching package: 'Hmisc'\n",
      "\n",
      "\n",
      "The following objects are masked from 'package:dplyr':\n",
      "\n",
      "    src, summarize\n",
      "\n",
      "\n",
      "The following objects are masked from 'package:base':\n",
      "\n",
      "    format.pval, units\n",
      "\n",
      "\n",
      "------------------------------------------------------------------------------\n",
      "\n",
      "You have loaded plyr after dplyr - this is likely to cause problems.\n",
      "If you need functions from both plyr and dplyr, please load plyr first, then dplyr:\n",
      "library(plyr); library(dplyr)\n",
      "\n",
      "------------------------------------------------------------------------------\n",
      "\n",
      "\n",
      "Attaching package: 'plyr'\n",
      "\n",
      "\n",
      "The following objects are masked from 'package:Hmisc':\n",
      "\n",
      "    is.discrete, summarize\n",
      "\n",
      "\n",
      "The following objects are masked from 'package:dplyr':\n",
      "\n",
      "    arrange, count, desc, failwith, id, mutate, rename, summarise,\n",
      "    summarize\n",
      "\n",
      "\n",
      "The following object is masked from 'package:purrr':\n",
      "\n",
      "    compact\n",
      "\n",
      "\n",
      "The following object is masked from 'package:ggpubr':\n",
      "\n",
      "    mutate\n",
      "\n",
      "\n",
      "corrplot 0.92 loaded\n",
      "\n"
     ]
    }
   ],
   "source": [
    "# packages\n",
    "# install.packages(\"ggcharts\")\n",
    "# install.packages(\"rhandsontable\")\n",
    "# install.packages(\"gridExtra\")\n",
    "# install.packages(\"Hmisc\")\n",
    "# install.packages(\"tidyverse\")\n",
    "# install.packages(\"plyr\")\n",
    "# install.packages(\"corrplot\")\n",
    "# install.packages(\"ggpubr\")\n",
    "# install.packages(\"ggstatsplot\")\n",
    "# install.packages(\"palmerpenguins\")\n",
    "library(ggstatsplot)\n",
    "library(palmerpenguins)\n",
    "library(ggpubr)\n",
    "library(tidyverse)\n",
    "library(Hmisc)\n",
    "library(rhandsontable)\n",
    "library(readxl)\n",
    "library(plyr)\n",
    "library(corrplot)\n",
    "# turn off warning\n",
    "options(warn=0)"
   ]
  },
  {
   "cell_type": "markdown",
   "metadata": {},
   "source": [
    "Đọc Dữ liệu\n"
   ]
  },
  {
   "cell_type": "code",
   "execution_count": 3,
   "metadata": {
    "vscode": {
     "languageId": "r"
    }
   },
   "outputs": [],
   "source": [
    "df <- read.csv('Data_analyze.csv', header = TRUE, quote = \"\\\"\",  fill = TRUE, comment.char = \"\", encoding = \"UTF-8\")\n",
    "df <- subset( df, select = - X)\n",
    "df <- subset( df, select = - Age_group)"
   ]
  },
  {
   "cell_type": "code",
   "execution_count": 4,
   "metadata": {
    "vscode": {
     "languageId": "r"
    }
   },
   "outputs": [
    {
     "data": {
      "text/html": [
       "<table class=\"dataframe\">\n",
       "<caption>A data.frame: 6 × 9</caption>\n",
       "<thead>\n",
       "\t<tr><th></th><th scope=col>Img</th><th scope=col>Age</th><th scope=col>Gender</th><th scope=col>Quality</th><th scope=col>Face_angle</th><th scope=col>Guess_age</th><th scope=col>Guess_gender</th><th scope=col>Guess_race</th><th scope=col>Guess_emotion</th></tr>\n",
       "\t<tr><th></th><th scope=col>&lt;chr&gt;</th><th scope=col>&lt;int&gt;</th><th scope=col>&lt;chr&gt;</th><th scope=col>&lt;chr&gt;</th><th scope=col>&lt;chr&gt;</th><th scope=col>&lt;int&gt;</th><th scope=col>&lt;chr&gt;</th><th scope=col>&lt;chr&gt;</th><th scope=col>&lt;chr&gt;</th></tr>\n",
       "</thead>\n",
       "<tbody>\n",
       "\t<tr><th scope=row>1</th><td>img1</td><td>3</td><td>Boy </td><td>Normal</td><td>Straight</td><td>28</td><td>Man  </td><td>asian</td><td>angry  </td></tr>\n",
       "\t<tr><th scope=row>2</th><td>img2</td><td>4</td><td>Girl</td><td>Normal</td><td>Straight</td><td>28</td><td>Man  </td><td>asian</td><td>angry  </td></tr>\n",
       "\t<tr><th scope=row>3</th><td>img3</td><td>2</td><td>Girl</td><td>Poor  </td><td>Straight</td><td>20</td><td>Woman</td><td>asian</td><td>happy  </td></tr>\n",
       "\t<tr><th scope=row>4</th><td>img4</td><td>4</td><td>Girl</td><td>Normal</td><td>Straight</td><td>33</td><td>Woman</td><td>asian</td><td>happy  </td></tr>\n",
       "\t<tr><th scope=row>5</th><td>img5</td><td>3</td><td>Girl</td><td>Normal</td><td>Right   </td><td>29</td><td>Man  </td><td>asian</td><td>neutral</td></tr>\n",
       "\t<tr><th scope=row>6</th><td>img6</td><td>1</td><td>Girl</td><td>Good  </td><td>Straight</td><td>29</td><td>Woman</td><td>asian</td><td>fear   </td></tr>\n",
       "</tbody>\n",
       "</table>\n"
      ],
      "text/latex": [
       "A data.frame: 6 × 9\n",
       "\\begin{tabular}{r|lllllllll}\n",
       "  & Img & Age & Gender & Quality & Face\\_angle & Guess\\_age & Guess\\_gender & Guess\\_race & Guess\\_emotion\\\\\n",
       "  & <chr> & <int> & <chr> & <chr> & <chr> & <int> & <chr> & <chr> & <chr>\\\\\n",
       "\\hline\n",
       "\t1 & img1 & 3 & Boy  & Normal & Straight & 28 & Man   & asian & angry  \\\\\n",
       "\t2 & img2 & 4 & Girl & Normal & Straight & 28 & Man   & asian & angry  \\\\\n",
       "\t3 & img3 & 2 & Girl & Poor   & Straight & 20 & Woman & asian & happy  \\\\\n",
       "\t4 & img4 & 4 & Girl & Normal & Straight & 33 & Woman & asian & happy  \\\\\n",
       "\t5 & img5 & 3 & Girl & Normal & Right    & 29 & Man   & asian & neutral\\\\\n",
       "\t6 & img6 & 1 & Girl & Good   & Straight & 29 & Woman & asian & fear   \\\\\n",
       "\\end{tabular}\n"
      ],
      "text/markdown": [
       "\n",
       "A data.frame: 6 × 9\n",
       "\n",
       "| <!--/--> | Img &lt;chr&gt; | Age &lt;int&gt; | Gender &lt;chr&gt; | Quality &lt;chr&gt; | Face_angle &lt;chr&gt; | Guess_age &lt;int&gt; | Guess_gender &lt;chr&gt; | Guess_race &lt;chr&gt; | Guess_emotion &lt;chr&gt; |\n",
       "|---|---|---|---|---|---|---|---|---|---|\n",
       "| 1 | img1 | 3 | Boy  | Normal | Straight | 28 | Man   | asian | angry   |\n",
       "| 2 | img2 | 4 | Girl | Normal | Straight | 28 | Man   | asian | angry   |\n",
       "| 3 | img3 | 2 | Girl | Poor   | Straight | 20 | Woman | asian | happy   |\n",
       "| 4 | img4 | 4 | Girl | Normal | Straight | 33 | Woman | asian | happy   |\n",
       "| 5 | img5 | 3 | Girl | Normal | Right    | 29 | Man   | asian | neutral |\n",
       "| 6 | img6 | 1 | Girl | Good   | Straight | 29 | Woman | asian | fear    |\n",
       "\n"
      ],
      "text/plain": [
       "  Img  Age Gender Quality Face_angle Guess_age Guess_gender Guess_race\n",
       "1 img1 3   Boy    Normal  Straight   28        Man          asian     \n",
       "2 img2 4   Girl   Normal  Straight   28        Man          asian     \n",
       "3 img3 2   Girl   Poor    Straight   20        Woman        asian     \n",
       "4 img4 4   Girl   Normal  Straight   33        Woman        asian     \n",
       "5 img5 3   Girl   Normal  Right      29        Man          asian     \n",
       "6 img6 1   Girl   Good    Straight   29        Woman        asian     \n",
       "  Guess_emotion\n",
       "1 angry        \n",
       "2 angry        \n",
       "3 happy        \n",
       "4 happy        \n",
       "5 neutral      \n",
       "6 fear         "
      ]
     },
     "metadata": {},
     "output_type": "display_data"
    }
   ],
   "source": [
    "head(df)"
   ]
  },
  {
   "cell_type": "code",
   "execution_count": 5,
   "metadata": {
    "vscode": {
     "languageId": "r"
    }
   },
   "outputs": [
    {
     "name": "stdout",
     "output_type": "stream",
     "text": [
      "'data.frame':\t247 obs. of  9 variables:\n",
      " $ Img          : chr  \"img1\" \"img2\" \"img3\" \"img4\" ...\n",
      " $ Age          : int  3 4 2 4 3 1 3 2 1 1 ...\n",
      " $ Gender       : chr  \"Boy\" \"Girl\" \"Girl\" \"Girl\" ...\n",
      " $ Quality      : chr  \"Normal\" \"Normal\" \"Poor\" \"Normal\" ...\n",
      " $ Face_angle   : chr  \"Straight\" \"Straight\" \"Straight\" \"Straight\" ...\n",
      " $ Guess_age    : int  28 28 20 33 29 29 28 28 28 20 ...\n",
      " $ Guess_gender : chr  \"Man\" \"Man\" \"Woman\" \"Woman\" ...\n",
      " $ Guess_race   : chr  \"asian\" \"asian\" \"asian\" \"asian\" ...\n",
      " $ Guess_emotion: chr  \"angry\" \"angry\" \"happy\" \"happy\" ...\n"
     ]
    }
   ],
   "source": [
    "# shows the structure of the data frame\n",
    "str(df)"
   ]
  },
  {
   "cell_type": "code",
   "execution_count": 6,
   "metadata": {
    "vscode": {
     "languageId": "r"
    }
   },
   "outputs": [
    {
     "data": {
      "text/plain": [
       "df \n",
       "\n",
       " 9  Variables      247  Observations\n",
       "--------------------------------------------------------------------------------\n",
       "Img \n",
       "       n  missing distinct \n",
       "     247        0      247 \n",
       "\n",
       "lowest : img1   img10  img101 img102 img103, highest: img87  img88  img89  img9   img90 \n",
       "--------------------------------------------------------------------------------\n",
       "Age \n",
       "       n  missing distinct     Info     Mean      Gmd      .05      .10 \n",
       "     247        0       81        1    34.23     26.9      4.0      6.6 \n",
       "     .25      .50      .75      .90      .95 \n",
       "    14.0     28.0     53.0     72.0     77.0 \n",
       "\n",
       "lowest :  1  2  3  4  5, highest: 80 82 85 86 87\n",
       "--------------------------------------------------------------------------------\n",
       "Gender \n",
       "       n  missing distinct \n",
       "     247        0        5 \n",
       "\n",
       "lowest : boy  Boy  Boy  girl Girl, highest: boy  Boy  Boy  girl Girl\n",
       "                                        \n",
       "Value        boy   Boy   Boy  girl  Girl\n",
       "Frequency     13   121     1    16    96\n",
       "Proportion 0.053 0.490 0.004 0.065 0.389\n",
       "--------------------------------------------------------------------------------\n",
       "Quality \n",
       "       n  missing distinct \n",
       "     247        0        4 \n",
       "                                      \n",
       "Value        Good Hidden Normal   Poor\n",
       "Frequency     116      8     38     85\n",
       "Proportion  0.470  0.032  0.154  0.344\n",
       "--------------------------------------------------------------------------------\n",
       "Face_angle \n",
       "       n  missing distinct \n",
       "     247        0        3 \n",
       "                                     \n",
       "Value          Left    Right Straight\n",
       "Frequency        30       26      191\n",
       "Proportion    0.121    0.105    0.773\n",
       "--------------------------------------------------------------------------------\n",
       "Guess_age \n",
       "       n  missing distinct     Info     Mean      Gmd      .05      .10 \n",
       "     247        0       38    0.997    32.23    8.753     22.0     24.0 \n",
       "     .25      .50      .75      .90      .95 \n",
       "    27.0     30.0     36.0     45.4     48.7 \n",
       "\n",
       "lowest : 19 20 21 22 23, highest: 52 54 55 56 61\n",
       "--------------------------------------------------------------------------------\n",
       "Guess_gender \n",
       "       n  missing distinct \n",
       "     247        0        2 \n",
       "                      \n",
       "Value        Man Woman\n",
       "Frequency    170    77\n",
       "Proportion 0.688 0.312\n",
       "--------------------------------------------------------------------------------\n",
       "Guess_race \n",
       "       n  missing distinct \n",
       "     247        0        4 \n",
       "                                                                          \n",
       "Value                asian          indian latino hispanic           white\n",
       "Frequency              230               1               4              12\n",
       "Proportion           0.931           0.004           0.016           0.049\n",
       "--------------------------------------------------------------------------------\n",
       "Guess_emotion \n",
       "       n  missing distinct \n",
       "     247        0        6 \n",
       "\n",
       "lowest : angry    fear     happy    neutral  sad     \n",
       "highest: fear     happy    neutral  sad      surprise\n",
       "                                                                \n",
       "Value         angry     fear    happy  neutral      sad surprise\n",
       "Frequency        19       18       95       83       31        1\n",
       "Proportion    0.077    0.073    0.385    0.336    0.126    0.004\n",
       "--------------------------------------------------------------------------------"
      ]
     },
     "metadata": {},
     "output_type": "display_data"
    }
   ],
   "source": [
    "describe(df)"
   ]
  },
  {
   "cell_type": "code",
   "execution_count": 7,
   "metadata": {
    "vscode": {
     "languageId": "r"
    }
   },
   "outputs": [],
   "source": [
    "Age_group <- list()\n",
    "for (i in df[,c('Age')]) {\n",
    "    if (i <= 5){\n",
    "        Age_group <- c(Age_group, 'less than 5')\n",
    "    } else if (i <= 10) {\n",
    "       Age_group <- c(Age_group, '5 to 10')\n",
    "    } else if (i <= 15) {\n",
    "       Age_group <- c(Age_group, '10 to 15')\n",
    "    } else if (i <= 20) {\n",
    "       Age_group <- c(Age_group, '15 to 20')\n",
    "    } else if (i <= 30) {\n",
    "       Age_group <- c(Age_group, '20 to 30')\n",
    "    } else if (i <= 40) {\n",
    "       Age_group <- c(Age_group, '30 to 40')\n",
    "    } else if (i <= 50) {\n",
    "       Age_group <- c(Age_group, '40 to 50')\n",
    "    } else if (i <= 60) {\n",
    "       Age_group <- c(Age_group, '50 to 60')\n",
    "    } else if (i <= 70) {\n",
    "       Age_group <- c(Age_group, '60 to 70')\n",
    "    } else {\n",
    "       Age_group <- c(Age_group, '70 and up')\n",
    "    }  \n",
    "}"
   ]
  },
  {
   "cell_type": "code",
   "execution_count": 8,
   "metadata": {
    "vscode": {
     "languageId": "r"
    }
   },
   "outputs": [],
   "source": [
    "index = 1\n",
    "for (i in df[,c('Gender')]) {\n",
    "    if (i == 'Boy' || i == 'boy'){\n",
    "        df[,c('Gender')][index] <- 'Man'\n",
    "    } else {\n",
    "        df[,c('Gender')][index] <- 'Woman'\n",
    "    }\n",
    "    index <- index + 1 \n",
    "}"
   ]
  },
  {
   "cell_type": "markdown",
   "metadata": {},
   "source": [
    "Kiểm Tra dự đoán của DeepFace :"
   ]
  },
  {
   "cell_type": "code",
   "execution_count": 9,
   "metadata": {
    "vscode": {
     "languageId": "r"
    }
   },
   "outputs": [],
   "source": [
    "Verify_gender <- list()\n",
    "index = 1\n",
    "for (i in df[,c('Gender')]) {\n",
    "    if (i == df[,c('Guess_gender')][index]){\n",
    "        Verify_gender <- c(Verify_gender,'TRUE')\n",
    "    } else {\n",
    "        Verify_gender <- c(Verify_gender,'FALSE')\n",
    "    }\n",
    "    index <- index + 1 \n",
    "}"
   ]
  },
  {
   "cell_type": "markdown",
   "metadata": {},
   "source": [
    "Độ lệch dự đoán tuổi\n"
   ]
  },
  {
   "cell_type": "code",
   "execution_count": 10,
   "metadata": {
    "vscode": {
     "languageId": "r"
    }
   },
   "outputs": [],
   "source": [
    "Deviant <- list()\n",
    "index = 1\n",
    "for (i in df[,c('Age')]) {\n",
    "    Deviant <- c(Deviant,df[,c('Guess_age')][index] - i)\n",
    "    index <- index + 1\n",
    "}"
   ]
  },
  {
   "cell_type": "markdown",
   "metadata": {},
   "source": [
    "Đánh giá độ chính xác dự đoán tuổi:\n",
    "\n",
    "+ Lệch dưới 5 : God Prediction\n",
    "+ Lệch từ 5 -10 tuổi : Not Good Prediction\n",
    "+ Lệch Trên 10 tuổi : Bad Prediction"
   ]
  },
  {
   "cell_type": "code",
   "execution_count": 11,
   "metadata": {
    "vscode": {
     "languageId": "r"
    }
   },
   "outputs": [],
   "source": [
    "Age_accuracy <- list()\n",
    "index = 1\n",
    "for (i in df[,c('Age')]) {\n",
    "    if (abs(df[,c('Guess_age')][index] - i) <=5) {\n",
    "       Age_accuracy <- c(Age_accuracy, \"Good prediction\")\n",
    "    } else if (abs(df[,c('Guess_age')][index] - i) <=10) {\n",
    "       Age_accuracy <- c(Age_accuracy, \"Not Good prediction\")\n",
    "    } else {\n",
    "        Age_accuracy <- c(Age_accuracy, \"Bad prediction\")\n",
    "    }\n",
    "    \n",
    "    index <- index + 1\n",
    "}"
   ]
  },
  {
   "cell_type": "code",
   "execution_count": 12,
   "metadata": {
    "vscode": {
     "languageId": "r"
    }
   },
   "outputs": [],
   "source": [
    "df <- df %>%\n",
    "  add_column(Deviant = as.integer(Deviant),\n",
    "             .after = \"Guess_age\")\n",
    "df <- df %>%\n",
    "  add_column(Verify_gender = as.character(Verify_gender),\n",
    "             .after = \"Guess_gender\")\n",
    "df <- df %>%\n",
    "  add_column(Age_accuracy = as.character(Age_accuracy),\n",
    "             .after = \"Deviant\")\n",
    "df <- df %>%\n",
    "  add_column(Age_group = as.character(Age_group),\n",
    "             .after = \"Guess_emotion\")"
   ]
  },
  {
   "cell_type": "code",
   "execution_count": 13,
   "metadata": {
    "vscode": {
     "languageId": "r"
    }
   },
   "outputs": [
    {
     "data": {
      "text/html": [
       "<table class=\"dataframe\">\n",
       "<caption>A data.frame: 10 × 13</caption>\n",
       "<thead>\n",
       "\t<tr><th></th><th scope=col>Img</th><th scope=col>Age</th><th scope=col>Gender</th><th scope=col>Quality</th><th scope=col>Face_angle</th><th scope=col>Guess_age</th><th scope=col>Deviant</th><th scope=col>Age_accuracy</th><th scope=col>Guess_gender</th><th scope=col>Verify_gender</th><th scope=col>Guess_race</th><th scope=col>Guess_emotion</th><th scope=col>Age_group</th></tr>\n",
       "\t<tr><th></th><th scope=col>&lt;chr&gt;</th><th scope=col>&lt;int&gt;</th><th scope=col>&lt;chr&gt;</th><th scope=col>&lt;chr&gt;</th><th scope=col>&lt;chr&gt;</th><th scope=col>&lt;int&gt;</th><th scope=col>&lt;int&gt;</th><th scope=col>&lt;chr&gt;</th><th scope=col>&lt;chr&gt;</th><th scope=col>&lt;chr&gt;</th><th scope=col>&lt;chr&gt;</th><th scope=col>&lt;chr&gt;</th><th scope=col>&lt;chr&gt;</th></tr>\n",
       "</thead>\n",
       "<tbody>\n",
       "\t<tr><th scope=row>1</th><td>img1 </td><td>3</td><td>Man  </td><td>Normal</td><td>Straight</td><td>28</td><td>25</td><td>Bad prediction</td><td>Man  </td><td>TRUE </td><td>asian</td><td>angry   </td><td>less than 5</td></tr>\n",
       "\t<tr><th scope=row>2</th><td>img2 </td><td>4</td><td>Woman</td><td>Normal</td><td>Straight</td><td>28</td><td>24</td><td>Bad prediction</td><td>Man  </td><td>FALSE</td><td>asian</td><td>angry   </td><td>less than 5</td></tr>\n",
       "\t<tr><th scope=row>3</th><td>img3 </td><td>2</td><td>Woman</td><td>Poor  </td><td>Straight</td><td>20</td><td>18</td><td>Bad prediction</td><td>Woman</td><td>TRUE </td><td>asian</td><td>happy   </td><td>less than 5</td></tr>\n",
       "\t<tr><th scope=row>4</th><td>img4 </td><td>4</td><td>Woman</td><td>Normal</td><td>Straight</td><td>33</td><td>29</td><td>Bad prediction</td><td>Woman</td><td>TRUE </td><td>asian</td><td>happy   </td><td>less than 5</td></tr>\n",
       "\t<tr><th scope=row>5</th><td>img5 </td><td>3</td><td>Woman</td><td>Normal</td><td>Right   </td><td>29</td><td>26</td><td>Bad prediction</td><td>Man  </td><td>FALSE</td><td>asian</td><td>neutral </td><td>less than 5</td></tr>\n",
       "\t<tr><th scope=row>6</th><td>img6 </td><td>1</td><td>Woman</td><td>Good  </td><td>Straight</td><td>29</td><td>28</td><td>Bad prediction</td><td>Woman</td><td>TRUE </td><td>asian</td><td>fear    </td><td>less than 5</td></tr>\n",
       "\t<tr><th scope=row>7</th><td>img7 </td><td>3</td><td>Man  </td><td>Good  </td><td>Left    </td><td>28</td><td>25</td><td>Bad prediction</td><td>Man  </td><td>TRUE </td><td>asian</td><td>surprise</td><td>less than 5</td></tr>\n",
       "\t<tr><th scope=row>8</th><td>img8 </td><td>2</td><td>Man  </td><td>Poor  </td><td>Straight</td><td>28</td><td>26</td><td>Bad prediction</td><td>Man  </td><td>TRUE </td><td>asian</td><td>neutral </td><td>less than 5</td></tr>\n",
       "\t<tr><th scope=row>9</th><td>img9 </td><td>1</td><td>Man  </td><td>Poor  </td><td>Straight</td><td>28</td><td>27</td><td>Bad prediction</td><td>Woman</td><td>FALSE</td><td>asian</td><td>fear    </td><td>less than 5</td></tr>\n",
       "\t<tr><th scope=row>10</th><td>img10</td><td>1</td><td>Man  </td><td>Poor  </td><td>Straight</td><td>20</td><td>19</td><td>Bad prediction</td><td>Man  </td><td>TRUE </td><td>asian</td><td>sad     </td><td>less than 5</td></tr>\n",
       "</tbody>\n",
       "</table>\n"
      ],
      "text/latex": [
       "A data.frame: 10 × 13\n",
       "\\begin{tabular}{r|lllllllllllll}\n",
       "  & Img & Age & Gender & Quality & Face\\_angle & Guess\\_age & Deviant & Age\\_accuracy & Guess\\_gender & Verify\\_gender & Guess\\_race & Guess\\_emotion & Age\\_group\\\\\n",
       "  & <chr> & <int> & <chr> & <chr> & <chr> & <int> & <int> & <chr> & <chr> & <chr> & <chr> & <chr> & <chr>\\\\\n",
       "\\hline\n",
       "\t1 & img1  & 3 & Man   & Normal & Straight & 28 & 25 & Bad prediction & Man   & TRUE  & asian & angry    & less than 5\\\\\n",
       "\t2 & img2  & 4 & Woman & Normal & Straight & 28 & 24 & Bad prediction & Man   & FALSE & asian & angry    & less than 5\\\\\n",
       "\t3 & img3  & 2 & Woman & Poor   & Straight & 20 & 18 & Bad prediction & Woman & TRUE  & asian & happy    & less than 5\\\\\n",
       "\t4 & img4  & 4 & Woman & Normal & Straight & 33 & 29 & Bad prediction & Woman & TRUE  & asian & happy    & less than 5\\\\\n",
       "\t5 & img5  & 3 & Woman & Normal & Right    & 29 & 26 & Bad prediction & Man   & FALSE & asian & neutral  & less than 5\\\\\n",
       "\t6 & img6  & 1 & Woman & Good   & Straight & 29 & 28 & Bad prediction & Woman & TRUE  & asian & fear     & less than 5\\\\\n",
       "\t7 & img7  & 3 & Man   & Good   & Left     & 28 & 25 & Bad prediction & Man   & TRUE  & asian & surprise & less than 5\\\\\n",
       "\t8 & img8  & 2 & Man   & Poor   & Straight & 28 & 26 & Bad prediction & Man   & TRUE  & asian & neutral  & less than 5\\\\\n",
       "\t9 & img9  & 1 & Man   & Poor   & Straight & 28 & 27 & Bad prediction & Woman & FALSE & asian & fear     & less than 5\\\\\n",
       "\t10 & img10 & 1 & Man   & Poor   & Straight & 20 & 19 & Bad prediction & Man   & TRUE  & asian & sad      & less than 5\\\\\n",
       "\\end{tabular}\n"
      ],
      "text/markdown": [
       "\n",
       "A data.frame: 10 × 13\n",
       "\n",
       "| <!--/--> | Img &lt;chr&gt; | Age &lt;int&gt; | Gender &lt;chr&gt; | Quality &lt;chr&gt; | Face_angle &lt;chr&gt; | Guess_age &lt;int&gt; | Deviant &lt;int&gt; | Age_accuracy &lt;chr&gt; | Guess_gender &lt;chr&gt; | Verify_gender &lt;chr&gt; | Guess_race &lt;chr&gt; | Guess_emotion &lt;chr&gt; | Age_group &lt;chr&gt; |\n",
       "|---|---|---|---|---|---|---|---|---|---|---|---|---|---|\n",
       "| 1 | img1  | 3 | Man   | Normal | Straight | 28 | 25 | Bad prediction | Man   | TRUE  | asian | angry    | less than 5 |\n",
       "| 2 | img2  | 4 | Woman | Normal | Straight | 28 | 24 | Bad prediction | Man   | FALSE | asian | angry    | less than 5 |\n",
       "| 3 | img3  | 2 | Woman | Poor   | Straight | 20 | 18 | Bad prediction | Woman | TRUE  | asian | happy    | less than 5 |\n",
       "| 4 | img4  | 4 | Woman | Normal | Straight | 33 | 29 | Bad prediction | Woman | TRUE  | asian | happy    | less than 5 |\n",
       "| 5 | img5  | 3 | Woman | Normal | Right    | 29 | 26 | Bad prediction | Man   | FALSE | asian | neutral  | less than 5 |\n",
       "| 6 | img6  | 1 | Woman | Good   | Straight | 29 | 28 | Bad prediction | Woman | TRUE  | asian | fear     | less than 5 |\n",
       "| 7 | img7  | 3 | Man   | Good   | Left     | 28 | 25 | Bad prediction | Man   | TRUE  | asian | surprise | less than 5 |\n",
       "| 8 | img8  | 2 | Man   | Poor   | Straight | 28 | 26 | Bad prediction | Man   | TRUE  | asian | neutral  | less than 5 |\n",
       "| 9 | img9  | 1 | Man   | Poor   | Straight | 28 | 27 | Bad prediction | Woman | FALSE | asian | fear     | less than 5 |\n",
       "| 10 | img10 | 1 | Man   | Poor   | Straight | 20 | 19 | Bad prediction | Man   | TRUE  | asian | sad      | less than 5 |\n",
       "\n"
      ],
      "text/plain": [
       "   Img   Age Gender Quality Face_angle Guess_age Deviant Age_accuracy  \n",
       "1  img1  3   Man    Normal  Straight   28        25      Bad prediction\n",
       "2  img2  4   Woman  Normal  Straight   28        24      Bad prediction\n",
       "3  img3  2   Woman  Poor    Straight   20        18      Bad prediction\n",
       "4  img4  4   Woman  Normal  Straight   33        29      Bad prediction\n",
       "5  img5  3   Woman  Normal  Right      29        26      Bad prediction\n",
       "6  img6  1   Woman  Good    Straight   29        28      Bad prediction\n",
       "7  img7  3   Man    Good    Left       28        25      Bad prediction\n",
       "8  img8  2   Man    Poor    Straight   28        26      Bad prediction\n",
       "9  img9  1   Man    Poor    Straight   28        27      Bad prediction\n",
       "10 img10 1   Man    Poor    Straight   20        19      Bad prediction\n",
       "   Guess_gender Verify_gender Guess_race Guess_emotion Age_group  \n",
       "1  Man          TRUE          asian      angry         less than 5\n",
       "2  Man          FALSE         asian      angry         less than 5\n",
       "3  Woman        TRUE          asian      happy         less than 5\n",
       "4  Woman        TRUE          asian      happy         less than 5\n",
       "5  Man          FALSE         asian      neutral       less than 5\n",
       "6  Woman        TRUE          asian      fear          less than 5\n",
       "7  Man          TRUE          asian      surprise      less than 5\n",
       "8  Man          TRUE          asian      neutral       less than 5\n",
       "9  Woman        FALSE         asian      fear          less than 5\n",
       "10 Man          TRUE          asian      sad           less than 5"
      ]
     },
     "metadata": {},
     "output_type": "display_data"
    }
   ],
   "source": [
    "head(df, 10)"
   ]
  },
  {
   "cell_type": "code",
   "execution_count": 14,
   "metadata": {
    "vscode": {
     "languageId": "r"
    }
   },
   "outputs": [],
   "source": [
    "Mode <- function(dataframe){\n",
    "    mode <- c()\n",
    "    name <- c()\n",
    "\n",
    "    getmode <- function(v) {\n",
    "        uniqv <- unique(v)\n",
    "        uniqv[which.max(tabulate(match(v, uniqv)))]\n",
    "    }\n",
    "    for (i in names(dataframe)){\n",
    "        name <- c(name,i)\n",
    "    } \n",
    "    for (i in 1:length(dataframe)){\n",
    "        mode <- c(mode, getmode(df[,i]))\n",
    "    }\n",
    "    data.frame(name,mode)\n",
    "}"
   ]
  },
  {
   "cell_type": "markdown",
   "metadata": {},
   "source": [
    "(1)Làm thêm các thống kê về số lượng \n",
    "+ Góc mặt ( Số góc mặt thẳng, trái ,phải , che) \n",
    "+ Chất lượng ảnh (tương tự ở trên)\n"
   ]
  },
  {
   "cell_type": "code",
   "execution_count": 15,
   "metadata": {
    "vscode": {
     "languageId": "r"
    }
   },
   "outputs": [
    {
     "data": {
      "text/html": [
       "<table class=\"dataframe\">\n",
       "<caption>A data.frame: 13 × 2</caption>\n",
       "<thead>\n",
       "\t<tr><th scope=col>name</th><th scope=col>mode</th></tr>\n",
       "\t<tr><th scope=col>&lt;chr&gt;</th><th scope=col>&lt;chr&gt;</th></tr>\n",
       "</thead>\n",
       "<tbody>\n",
       "\t<tr><td>Img          </td><td>img1          </td></tr>\n",
       "\t<tr><td>Age          </td><td>14            </td></tr>\n",
       "\t<tr><td>Gender       </td><td>Man           </td></tr>\n",
       "\t<tr><td>Quality      </td><td>Good          </td></tr>\n",
       "\t<tr><td>Face_angle   </td><td>Straight      </td></tr>\n",
       "\t<tr><td>Guess_age    </td><td>28            </td></tr>\n",
       "\t<tr><td>Deviant      </td><td>18            </td></tr>\n",
       "\t<tr><td>Age_accuracy </td><td>Bad prediction</td></tr>\n",
       "\t<tr><td>Guess_gender </td><td>Man           </td></tr>\n",
       "\t<tr><td>Verify_gender</td><td>TRUE          </td></tr>\n",
       "\t<tr><td>Guess_race   </td><td>asian         </td></tr>\n",
       "\t<tr><td>Guess_emotion</td><td>happy         </td></tr>\n",
       "\t<tr><td>Age_group    </td><td>20 to 30      </td></tr>\n",
       "</tbody>\n",
       "</table>\n"
      ],
      "text/latex": [
       "A data.frame: 13 × 2\n",
       "\\begin{tabular}{ll}\n",
       " name & mode\\\\\n",
       " <chr> & <chr>\\\\\n",
       "\\hline\n",
       "\t Img           & img1          \\\\\n",
       "\t Age           & 14            \\\\\n",
       "\t Gender        & Man           \\\\\n",
       "\t Quality       & Good          \\\\\n",
       "\t Face\\_angle    & Straight      \\\\\n",
       "\t Guess\\_age     & 28            \\\\\n",
       "\t Deviant       & 18            \\\\\n",
       "\t Age\\_accuracy  & Bad prediction\\\\\n",
       "\t Guess\\_gender  & Man           \\\\\n",
       "\t Verify\\_gender & TRUE          \\\\\n",
       "\t Guess\\_race    & asian         \\\\\n",
       "\t Guess\\_emotion & happy         \\\\\n",
       "\t Age\\_group     & 20 to 30      \\\\\n",
       "\\end{tabular}\n"
      ],
      "text/markdown": [
       "\n",
       "A data.frame: 13 × 2\n",
       "\n",
       "| name &lt;chr&gt; | mode &lt;chr&gt; |\n",
       "|---|---|\n",
       "| Img           | img1           |\n",
       "| Age           | 14             |\n",
       "| Gender        | Man            |\n",
       "| Quality       | Good           |\n",
       "| Face_angle    | Straight       |\n",
       "| Guess_age     | 28             |\n",
       "| Deviant       | 18             |\n",
       "| Age_accuracy  | Bad prediction |\n",
       "| Guess_gender  | Man            |\n",
       "| Verify_gender | TRUE           |\n",
       "| Guess_race    | asian          |\n",
       "| Guess_emotion | happy          |\n",
       "| Age_group     | 20 to 30       |\n",
       "\n"
      ],
      "text/plain": [
       "   name          mode          \n",
       "1  Img           img1          \n",
       "2  Age           14            \n",
       "3  Gender        Man           \n",
       "4  Quality       Good          \n",
       "5  Face_angle    Straight      \n",
       "6  Guess_age     28            \n",
       "7  Deviant       18            \n",
       "8  Age_accuracy  Bad prediction\n",
       "9  Guess_gender  Man           \n",
       "10 Verify_gender TRUE          \n",
       "11 Guess_race    asian         \n",
       "12 Guess_emotion happy         \n",
       "13 Age_group     20 to 30      "
      ]
     },
     "metadata": {},
     "output_type": "display_data"
    }
   ],
   "source": [
    "Mode(df)"
   ]
  },
  {
   "cell_type": "markdown",
   "metadata": {},
   "source": [
    "(2) Biểu đồ Box Plot về dư đoán tuổi ở các nhóm:\n",
    "\n",
    "Cột Y tuổi dự đoán \n",
    "\n",
    "Cột X Các Nhóm tuổi"
   ]
  },
  {
   "cell_type": "markdown",
   "metadata": {},
   "source": [
    "Đánh giá dự đoán về giới tính:"
   ]
  },
  {
   "cell_type": "code",
   "execution_count": 16,
   "metadata": {
    "vscode": {
     "languageId": "r"
    }
   },
   "outputs": [
    {
     "data": {
      "text/html": [
       "<table class=\"dataframe\">\n",
       "<caption>A data.frame: 2 × 2</caption>\n",
       "<thead>\n",
       "\t<tr><th></th><th scope=col>Var1</th><th scope=col>Freq</th></tr>\n",
       "\t<tr><th></th><th scope=col>&lt;fct&gt;</th><th scope=col>&lt;int&gt;</th></tr>\n",
       "</thead>\n",
       "<tbody>\n",
       "\t<tr><th scope=row>1</th><td>FALSE</td><td> 92</td></tr>\n",
       "\t<tr><th scope=row>2</th><td>TRUE </td><td>155</td></tr>\n",
       "</tbody>\n",
       "</table>\n"
      ],
      "text/latex": [
       "A data.frame: 2 × 2\n",
       "\\begin{tabular}{r|ll}\n",
       "  & Var1 & Freq\\\\\n",
       "  & <fct> & <int>\\\\\n",
       "\\hline\n",
       "\t1 & FALSE &  92\\\\\n",
       "\t2 & TRUE  & 155\\\\\n",
       "\\end{tabular}\n"
      ],
      "text/markdown": [
       "\n",
       "A data.frame: 2 × 2\n",
       "\n",
       "| <!--/--> | Var1 &lt;fct&gt; | Freq &lt;int&gt; |\n",
       "|---|---|---|\n",
       "| 1 | FALSE |  92 |\n",
       "| 2 | TRUE  | 155 |\n",
       "\n"
      ],
      "text/plain": [
       "  Var1  Freq\n",
       "1 FALSE  92 \n",
       "2 TRUE  155 "
      ]
     },
     "metadata": {},
     "output_type": "display_data"
    }
   ],
   "source": [
    "tab = data.frame(table(df$Verify_gender))\n",
    "head(tab)"
   ]
  },
  {
   "cell_type": "markdown",
   "metadata": {},
   "source": [
    "**Phước**  \n",
    "(3)\n",
    "Biểu đồ đánh giá độ chính xác trong dự đoán về giới tính \n",
    "\n",
    "( Bar chart cột ngang, vẽ theo tỉ lệ phần trăm TRUE, FALSE)\n",
    "\n",
    "Nhận xét độ chính xác của việc dự đoán Giới tính của DEEPFACE"
   ]
  },
  {
   "cell_type": "markdown",
   "metadata": {},
   "source": [
    "----\n",
    "Bảng dự đoán dân tộc\n",
    "\n",
    "**Phước**\n",
    "\n",
    "Biểu đồ bar chart đánh giá phần trăm dự đoán đúng (asian) Phần trăm dự đoán sai( các dân tộc còn lại)\n",
    "\n",
    "Nhận xét :"
   ]
  },
  {
   "cell_type": "code",
   "execution_count": 17,
   "metadata": {
    "vscode": {
     "languageId": "r"
    }
   },
   "outputs": [
    {
     "data": {
      "text/html": [
       "<table class=\"dataframe\">\n",
       "<caption>A data.frame: 4 × 2</caption>\n",
       "<thead>\n",
       "\t<tr><th></th><th scope=col>Var1</th><th scope=col>Freq</th></tr>\n",
       "\t<tr><th></th><th scope=col>&lt;fct&gt;</th><th scope=col>&lt;int&gt;</th></tr>\n",
       "</thead>\n",
       "<tbody>\n",
       "\t<tr><th scope=row>1</th><td>asian          </td><td>230</td></tr>\n",
       "\t<tr><th scope=row>2</th><td>indian         </td><td>  1</td></tr>\n",
       "\t<tr><th scope=row>3</th><td>latino hispanic</td><td>  4</td></tr>\n",
       "\t<tr><th scope=row>4</th><td>white          </td><td> 12</td></tr>\n",
       "</tbody>\n",
       "</table>\n"
      ],
      "text/latex": [
       "A data.frame: 4 × 2\n",
       "\\begin{tabular}{r|ll}\n",
       "  & Var1 & Freq\\\\\n",
       "  & <fct> & <int>\\\\\n",
       "\\hline\n",
       "\t1 & asian           & 230\\\\\n",
       "\t2 & indian          &   1\\\\\n",
       "\t3 & latino hispanic &   4\\\\\n",
       "\t4 & white           &  12\\\\\n",
       "\\end{tabular}\n"
      ],
      "text/markdown": [
       "\n",
       "A data.frame: 4 × 2\n",
       "\n",
       "| <!--/--> | Var1 &lt;fct&gt; | Freq &lt;int&gt; |\n",
       "|---|---|---|\n",
       "| 1 | asian           | 230 |\n",
       "| 2 | indian          |   1 |\n",
       "| 3 | latino hispanic |   4 |\n",
       "| 4 | white           |  12 |\n",
       "\n"
      ],
      "text/plain": [
       "  Var1            Freq\n",
       "1 asian           230 \n",
       "2 indian            1 \n",
       "3 latino hispanic   4 \n",
       "4 white            12 "
      ]
     },
     "metadata": {},
     "output_type": "display_data"
    }
   ],
   "source": [
    "tab = data.frame(table(df$Guess_race))\n",
    "head(tab)"
   ]
  },
  {
   "cell_type": "markdown",
   "metadata": {},
   "source": [
    "**Bảng đánh giá độ chính xác của dự đoán về tuổi**\n",
    "\n",
    "\n",
    "**Phước**\n",
    "\n",
    "Biểu đồ đánh giá dự đoán về tuổi theo phần trăm (bar chart)"
   ]
  },
  {
   "cell_type": "code",
   "execution_count": 18,
   "metadata": {
    "vscode": {
     "languageId": "r"
    }
   },
   "outputs": [
    {
     "data": {
      "text/html": [
       "<table class=\"dataframe\">\n",
       "<caption>A matrix: 2 × 3 of type chr</caption>\n",
       "<tbody>\n",
       "\t<tr><th scope=row>Var1</th><td>Bad prediction</td><td>Good prediction</td><td>Not Good prediction</td></tr>\n",
       "\t<tr><th scope=row>Freq</th><td>159           </td><td> 48            </td><td> 40                </td></tr>\n",
       "</tbody>\n",
       "</table>\n"
      ],
      "text/latex": [
       "A matrix: 2 × 3 of type chr\n",
       "\\begin{tabular}{r|lll}\n",
       "\tVar1 & Bad prediction & Good prediction & Not Good prediction\\\\\n",
       "\tFreq & 159            &  48             &  40                \\\\\n",
       "\\end{tabular}\n"
      ],
      "text/markdown": [
       "\n",
       "A matrix: 2 × 3 of type chr\n",
       "\n",
       "| Var1 | Bad prediction | Good prediction | Not Good prediction |\n",
       "| Freq | 159            |  48             |  40                 |\n",
       "\n"
      ],
      "text/plain": [
       "     [,1]           [,2]            [,3]               \n",
       "Var1 Bad prediction Good prediction Not Good prediction\n",
       "Freq 159             48              40                "
      ]
     },
     "metadata": {},
     "output_type": "display_data"
    }
   ],
   "source": [
    "tab = data.frame(table(df$Age_accuracy))\n",
    "t(tab)"
   ]
  },
  {
   "cell_type": "markdown",
   "metadata": {},
   "source": [
    "Bảng trung bình dự đoán tuổi của các nhóm tuổi"
   ]
  },
  {
   "cell_type": "code",
   "execution_count": 19,
   "metadata": {
    "vscode": {
     "languageId": "r"
    }
   },
   "outputs": [
    {
     "data": {
      "text/html": [
       "<table class=\"dataframe\">\n",
       "<caption>A data.frame: 10 × 2</caption>\n",
       "<thead>\n",
       "\t<tr><th></th><th scope=col>Age_group</th><th scope=col>Guess_age</th></tr>\n",
       "\t<tr><th></th><th scope=col>&lt;chr&gt;</th><th scope=col>&lt;dbl&gt;</th></tr>\n",
       "</thead>\n",
       "<tbody>\n",
       "\t<tr><th scope=row>1</th><td>10 to 15   </td><td>27.20000</td></tr>\n",
       "\t<tr><th scope=row>2</th><td>15 to 20   </td><td>26.10000</td></tr>\n",
       "\t<tr><th scope=row>3</th><td>20 to 30   </td><td>29.12195</td></tr>\n",
       "\t<tr><th scope=row>4</th><td>30 to 40   </td><td>28.66667</td></tr>\n",
       "\t<tr><th scope=row>5</th><td>40 to 50   </td><td>34.16667</td></tr>\n",
       "\t<tr><th scope=row>6</th><td>5 to 10    </td><td>27.28571</td></tr>\n",
       "\t<tr><th scope=row>7</th><td>50 to 60   </td><td>38.89286</td></tr>\n",
       "\t<tr><th scope=row>8</th><td>60 to 70   </td><td>38.42857</td></tr>\n",
       "\t<tr><th scope=row>9</th><td>70 and up  </td><td>45.53571</td></tr>\n",
       "\t<tr><th scope=row>10</th><td>less than 5</td><td>26.65000</td></tr>\n",
       "</tbody>\n",
       "</table>\n"
      ],
      "text/latex": [
       "A data.frame: 10 × 2\n",
       "\\begin{tabular}{r|ll}\n",
       "  & Age\\_group & Guess\\_age\\\\\n",
       "  & <chr> & <dbl>\\\\\n",
       "\\hline\n",
       "\t1 & 10 to 15    & 27.20000\\\\\n",
       "\t2 & 15 to 20    & 26.10000\\\\\n",
       "\t3 & 20 to 30    & 29.12195\\\\\n",
       "\t4 & 30 to 40    & 28.66667\\\\\n",
       "\t5 & 40 to 50    & 34.16667\\\\\n",
       "\t6 & 5 to 10     & 27.28571\\\\\n",
       "\t7 & 50 to 60    & 38.89286\\\\\n",
       "\t8 & 60 to 70    & 38.42857\\\\\n",
       "\t9 & 70 and up   & 45.53571\\\\\n",
       "\t10 & less than 5 & 26.65000\\\\\n",
       "\\end{tabular}\n"
      ],
      "text/markdown": [
       "\n",
       "A data.frame: 10 × 2\n",
       "\n",
       "| <!--/--> | Age_group &lt;chr&gt; | Guess_age &lt;dbl&gt; |\n",
       "|---|---|---|\n",
       "| 1 | 10 to 15    | 27.20000 |\n",
       "| 2 | 15 to 20    | 26.10000 |\n",
       "| 3 | 20 to 30    | 29.12195 |\n",
       "| 4 | 30 to 40    | 28.66667 |\n",
       "| 5 | 40 to 50    | 34.16667 |\n",
       "| 6 | 5 to 10     | 27.28571 |\n",
       "| 7 | 50 to 60    | 38.89286 |\n",
       "| 8 | 60 to 70    | 38.42857 |\n",
       "| 9 | 70 and up   | 45.53571 |\n",
       "| 10 | less than 5 | 26.65000 |\n",
       "\n"
      ],
      "text/plain": [
       "   Age_group   Guess_age\n",
       "1  10 to 15    27.20000 \n",
       "2  15 to 20    26.10000 \n",
       "3  20 to 30    29.12195 \n",
       "4  30 to 40    28.66667 \n",
       "5  40 to 50    34.16667 \n",
       "6  5 to 10     27.28571 \n",
       "7  50 to 60    38.89286 \n",
       "8  60 to 70    38.42857 \n",
       "9  70 and up   45.53571 \n",
       "10 less than 5 26.65000 "
      ]
     },
     "metadata": {},
     "output_type": "display_data"
    }
   ],
   "source": [
    "data = aggregate(Guess_age ~ Age_group, df, mean)\n",
    "head(data, 10)"
   ]
  },
  {
   "cell_type": "markdown",
   "metadata": {},
   "source": [
    "----\n",
    "# Các Phép kiểm định\n",
    "\n",
    "Sử dụng kiểm định Chisquare để kiểm tra các yếu tố như Góc mặt, chất lượng ảnh có ảnh hưởng đến độ chính xác các dự đoán của DF không\n"
   ]
  },
  {
   "cell_type": "markdown",
   "metadata": {},
   "source": [
    "**Phát biểu giả thuyết:**\n",
    "**Phước**\n",
    "+ H0:\n",
    "+ H1:"
   ]
  },
  {
   "cell_type": "code",
   "execution_count": 52,
   "metadata": {
    "vscode": {
     "languageId": "r"
    }
   },
   "outputs": [
    {
     "data": {
      "text/plain": [
       "\n",
       "\tPearson's Chi-squared test\n",
       "\n",
       "data:  df$Verify_gender and df$Age_group\n",
       "X-squared = 14.159, df = 9, p-value = 0.1168\n"
      ]
     },
     "metadata": {},
     "output_type": "display_data"
    },
    {
     "data": {
      "text/html": [
       "<table class=\"dataframe\">\n",
       "<caption>A data.frame: 6 × 3</caption>\n",
       "<thead>\n",
       "\t<tr><th></th><th scope=col>Verify_gender</th><th scope=col>Age_group</th><th scope=col>Count</th></tr>\n",
       "\t<tr><th></th><th scope=col>&lt;fct&gt;</th><th scope=col>&lt;fct&gt;</th><th scope=col>&lt;int&gt;</th></tr>\n",
       "</thead>\n",
       "<tbody>\n",
       "\t<tr><th scope=row>1</th><td>FALSE</td><td>10 to 15</td><td>15</td></tr>\n",
       "\t<tr><th scope=row>2</th><td>TRUE </td><td>10 to 15</td><td>15</td></tr>\n",
       "\t<tr><th scope=row>3</th><td>FALSE</td><td>15 to 20</td><td>10</td></tr>\n",
       "\t<tr><th scope=row>4</th><td>TRUE </td><td>15 to 20</td><td>10</td></tr>\n",
       "\t<tr><th scope=row>5</th><td>FALSE</td><td>20 to 30</td><td>13</td></tr>\n",
       "\t<tr><th scope=row>6</th><td>TRUE </td><td>20 to 30</td><td>28</td></tr>\n",
       "</tbody>\n",
       "</table>\n"
      ],
      "text/latex": [
       "A data.frame: 6 × 3\n",
       "\\begin{tabular}{r|lll}\n",
       "  & Verify\\_gender & Age\\_group & Count\\\\\n",
       "  & <fct> & <fct> & <int>\\\\\n",
       "\\hline\n",
       "\t1 & FALSE & 10 to 15 & 15\\\\\n",
       "\t2 & TRUE  & 10 to 15 & 15\\\\\n",
       "\t3 & FALSE & 15 to 20 & 10\\\\\n",
       "\t4 & TRUE  & 15 to 20 & 10\\\\\n",
       "\t5 & FALSE & 20 to 30 & 13\\\\\n",
       "\t6 & TRUE  & 20 to 30 & 28\\\\\n",
       "\\end{tabular}\n"
      ],
      "text/markdown": [
       "\n",
       "A data.frame: 6 × 3\n",
       "\n",
       "| <!--/--> | Verify_gender &lt;fct&gt; | Age_group &lt;fct&gt; | Count &lt;int&gt; |\n",
       "|---|---|---|---|\n",
       "| 1 | FALSE | 10 to 15 | 15 |\n",
       "| 2 | TRUE  | 10 to 15 | 15 |\n",
       "| 3 | FALSE | 15 to 20 | 10 |\n",
       "| 4 | TRUE  | 15 to 20 | 10 |\n",
       "| 5 | FALSE | 20 to 30 | 13 |\n",
       "| 6 | TRUE  | 20 to 30 | 28 |\n",
       "\n"
      ],
      "text/plain": [
       "  Verify_gender Age_group Count\n",
       "1 FALSE         10 to 15  15   \n",
       "2 TRUE          10 to 15  15   \n",
       "3 FALSE         15 to 20  10   \n",
       "4 TRUE          15 to 20  10   \n",
       "5 FALSE         20 to 30  13   \n",
       "6 TRUE          20 to 30  28   "
      ]
     },
     "metadata": {},
     "output_type": "display_data"
    }
   ],
   "source": [
    "Tab = data.frame(table(df$Verify_gender,df$Age_group))\n",
    "chisq.test(df$Verify_gender,df$Age_group)\n",
    "\n",
    "colnames(Tab) <- c('Verify_gender','Age_group','Count')\n",
    "head(Tab)"
   ]
  },
  {
   "cell_type": "code",
   "execution_count": 53,
   "metadata": {
    "vscode": {
     "languageId": "r"
    }
   },
   "outputs": [
    {
     "data": {
      "image/png": "[encoded data removed]",
      "text/plain": [
       "Plot with title \"Plot shows the accuracy in Gender Prediction\""
      ]
     },
     "metadata": {
      "image/png": {
       "height": 420,
       "width": 420
      }
     },
     "output_type": "display_data"
    }
   ],
   "source": [
    "my_bar <- barplot(Tab$Count , border=F , names.arg=Tab$Age_group, \n",
    "                  las=2 , \n",
    "                  col=c(rgb(0.3,0.1,0.4,0.6) , rgb(0.3,0.5,0.4,0.6) ) , #, rgb(0.3,0.9,0.4,0.6) ,  rgb(0.3,0.9,0.4,0.6)\n",
    "                  ylim=c(0,30) , \n",
    "                  main=\"Plot shows the accuracy in Gender Prediction\" )\n",
    "par(mar=c(6,4,4,4))\n",
    "# Add abline\n",
    "l = 4.85/2\n",
    "abline(v=c(l ,2*l, 3*l,4*l, 5*l, 6*l, 7*l, 8*l,9*l) , col=\"black\")\n",
    " \n",
    "# Add the text \n",
    "text(my_bar, Tab$Count+0.4 , paste(\"\", Tab$Count, sep=\"\") ,cex=0.8) \n",
    " \n",
    "#Legende\n",
    "legend(\"topleft\", legend = c(\"FALSE\",\"TRUE\") , \n",
    "     col = c(rgb(0.3,0.1,0.4,0.6) , rgb(0.3,0.5,0.4,0.6)) , \n",
    "     bty = \"n\", pch=20 , pt.cex = 2, cex = 0.8, horiz = FALSE, inset = c(0.05, 0.05))\n"
   ]
  },
  {
   "cell_type": "markdown",
   "metadata": {},
   "source": [
    "**Nhận xét:**\n",
    "P value ... \n",
    "\n",
    "**Phước**"
   ]
  },
  {
   "cell_type": "markdown",
   "metadata": {},
   "source": [
    "**Phát biểu giả thuyết:**\n",
    "**Phước**\n",
    "+ H0:\n",
    "+ H1:"
   ]
  },
  {
   "cell_type": "code",
   "execution_count": 23,
   "metadata": {
    "vscode": {
     "languageId": "r"
    }
   },
   "outputs": [
    {
     "data": {
      "text/plain": [
       "       \n",
       "        Good Hidden Normal Poor\n",
       "  FALSE   36      5     17   34\n",
       "  TRUE    80      3     21   51"
      ]
     },
     "metadata": {},
     "output_type": "display_data"
    },
    {
     "name": "stderr",
     "output_type": "stream",
     "text": [
      "Warning message in chisq.test(df$Verify_gender, df$Quality):\n",
      "\"Chi-squared approximation may be incorrect\"\n"
     ]
    },
    {
     "data": {
      "text/plain": [
       "\n",
       "\tPearson's Chi-squared test\n",
       "\n",
       "data:  df$Verify_gender and df$Quality\n",
       "X-squared = 5.2858, df = 3, p-value = 0.152\n"
      ]
     },
     "metadata": {},
     "output_type": "display_data"
    }
   ],
   "source": [
    "table(df$Verify_gender,df$Quality)\n",
    "chisq.test(df$Verify_gender,df$Quality)"
   ]
  },
  {
   "cell_type": "code",
   "execution_count": 55,
   "metadata": {
    "vscode": {
     "languageId": "r"
    }
   },
   "outputs": [
    {
     "name": "stderr",
     "output_type": "stream",
     "text": [
      "Warning message in chisq.test(df$Age_accuracy, df$Quality):\n",
      "\"Chi-squared approximation may be incorrect\"\n"
     ]
    },
    {
     "data": {
      "text/plain": [
       "\n",
       "\tPearson's Chi-squared test\n",
       "\n",
       "data:  df$Age_accuracy and df$Quality\n",
       "X-squared = 6.8631, df = 6, p-value = 0.3337\n"
      ]
     },
     "metadata": {},
     "output_type": "display_data"
    },
    {
     "data": {
      "text/html": [
       "<table class=\"dataframe\">\n",
       "<caption>A data.frame: 6 × 3</caption>\n",
       "<thead>\n",
       "\t<tr><th></th><th scope=col>Prediction</th><th scope=col>Quality</th><th scope=col>Count</th></tr>\n",
       "\t<tr><th></th><th scope=col>&lt;fct&gt;</th><th scope=col>&lt;fct&gt;</th><th scope=col>&lt;int&gt;</th></tr>\n",
       "</thead>\n",
       "<tbody>\n",
       "\t<tr><th scope=row>1</th><td>Bad prediction     </td><td>Good  </td><td>79</td></tr>\n",
       "\t<tr><th scope=row>2</th><td>Good prediction    </td><td>Good  </td><td>18</td></tr>\n",
       "\t<tr><th scope=row>3</th><td>Not Good prediction</td><td>Good  </td><td>19</td></tr>\n",
       "\t<tr><th scope=row>4</th><td>Bad prediction     </td><td>Hidden</td><td> 7</td></tr>\n",
       "\t<tr><th scope=row>5</th><td>Good prediction    </td><td>Hidden</td><td> 0</td></tr>\n",
       "\t<tr><th scope=row>6</th><td>Not Good prediction</td><td>Hidden</td><td> 1</td></tr>\n",
       "</tbody>\n",
       "</table>\n"
      ],
      "text/latex": [
       "A data.frame: 6 × 3\n",
       "\\begin{tabular}{r|lll}\n",
       "  & Prediction & Quality & Count\\\\\n",
       "  & <fct> & <fct> & <int>\\\\\n",
       "\\hline\n",
       "\t1 & Bad prediction      & Good   & 79\\\\\n",
       "\t2 & Good prediction     & Good   & 18\\\\\n",
       "\t3 & Not Good prediction & Good   & 19\\\\\n",
       "\t4 & Bad prediction      & Hidden &  7\\\\\n",
       "\t5 & Good prediction     & Hidden &  0\\\\\n",
       "\t6 & Not Good prediction & Hidden &  1\\\\\n",
       "\\end{tabular}\n"
      ],
      "text/markdown": [
       "\n",
       "A data.frame: 6 × 3\n",
       "\n",
       "| <!--/--> | Prediction &lt;fct&gt; | Quality &lt;fct&gt; | Count &lt;int&gt; |\n",
       "|---|---|---|---|\n",
       "| 1 | Bad prediction      | Good   | 79 |\n",
       "| 2 | Good prediction     | Good   | 18 |\n",
       "| 3 | Not Good prediction | Good   | 19 |\n",
       "| 4 | Bad prediction      | Hidden |  7 |\n",
       "| 5 | Good prediction     | Hidden |  0 |\n",
       "| 6 | Not Good prediction | Hidden |  1 |\n",
       "\n"
      ],
      "text/plain": [
       "  Prediction          Quality Count\n",
       "1 Bad prediction      Good    79   \n",
       "2 Good prediction     Good    18   \n",
       "3 Not Good prediction Good    19   \n",
       "4 Bad prediction      Hidden   7   \n",
       "5 Good prediction     Hidden   0   \n",
       "6 Not Good prediction Hidden   1   "
      ]
     },
     "metadata": {},
     "output_type": "display_data"
    }
   ],
   "source": [
    "Tab = data.frame(table(df$Age_accuracy,df$Quality))\n",
    "chisq.test(df$Age_accuracy,df$Quality)\n",
    "\n",
    "colnames(Tab) <- c( 'Prediction','Quality','Count')\n",
    "head(Tab)"
   ]
  },
  {
   "cell_type": "code",
   "execution_count": 66,
   "metadata": {
    "vscode": {
     "languageId": "r"
    }
   },
   "outputs": [
    {
     "data": {
      "image/png": "[encoded data removed]",
      "text/plain": [
       "Plot with title \"Plot shows the accuracy in Age Prediction Depends on Quality\""
      ]
     },
     "metadata": {
      "image/png": {
       "height": 420,
       "width": 420
      }
     },
     "output_type": "display_data"
    }
   ],
   "source": [
    "my_bar <- barplot(Tab$Count , border=F , names.arg=Tab$Quality, \n",
    "                  las=2 , \n",
    "                  col=c(rgb(0.3,0.1,0.4,0.6) , rgb(0.3,0.5,0.4,0.6) , rgb(0.3,0.9,0.4,0.6)) , #, rgb(0.3,0.9,0.4,0.6) ,  rgb(0.3,0.9,0.4,0.6)\n",
    "                  ylim=c(0, 120) , \n",
    "                  main=\"Plot shows the accuracy in Age Prediction Depends on Quality\" )\n",
    "par(mar=c(6,4,4,4))\n",
    "# Add abline\n",
    "l = 4.85/4*3\n",
    "abline(v=c(l ,2*l, 3*l,4*l, 5*l) , col=\"black\")\n",
    " \n",
    "# Add the text \n",
    "text(my_bar, Tab$Count+2 , paste(\"\", Tab$Count, sep=\"\") ,cex=1) \n",
    " \n",
    "#Legende\n",
    "legend(\"topleft\", legend = c(\"Bad prediction\",\"Good prediction\",\"Not Good prediction\") , \n",
    "     col = c(rgb(0.3,0.1,0.4,0.6) , rgb(0.3,0.5,0.4,0.6), rgb(0.3,0.9,0.4,0.6)) , \n",
    "     bty = \"n\", pch=20 , pt.cex = 2, cex = 0.8, horiz = FALSE, inset = c(0.05, 0.05))"
   ]
  },
  {
   "cell_type": "markdown",
   "metadata": {},
   "source": []
  },
  {
   "cell_type": "markdown",
   "metadata": {},
   "source": [
    "## Tương tự các phép kiểm định còn lại"
   ]
  },
  {
   "cell_type": "code",
   "execution_count": 25,
   "metadata": {
    "vscode": {
     "languageId": "r"
    }
   },
   "outputs": [
    {
     "data": {
      "text/plain": [
       "                     \n",
       "                      Left Right Straight\n",
       "  Bad prediction        14    16      129\n",
       "  Good prediction        7     7       34\n",
       "  Not Good prediction    9     3       28"
      ]
     },
     "metadata": {},
     "output_type": "display_data"
    },
    {
     "name": "stderr",
     "output_type": "stream",
     "text": [
      "Warning message in chisq.test(df$Age_accuracy, df$Face_angle):\n",
      "\"Chi-squared approximation may be incorrect\"\n"
     ]
    },
    {
     "data": {
      "text/plain": [
       "\n",
       "\tPearson's Chi-squared test\n",
       "\n",
       "data:  df$Age_accuracy and df$Face_angle\n",
       "X-squared = 7.1948, df = 4, p-value = 0.1259\n"
      ]
     },
     "metadata": {},
     "output_type": "display_data"
    }
   ],
   "source": [
    "table(df$Age_accuracy,df$Face_angle)\n",
    "chisq.test(df$Age_accuracy,df$Face_angle)"
   ]
  },
  {
   "cell_type": "code",
   "execution_count": 26,
   "metadata": {
    "vscode": {
     "languageId": "r"
    }
   },
   "outputs": [
    {
     "data": {
      "text/plain": [
       "       \n",
       "        Left Right Straight\n",
       "  FALSE   16    11       65\n",
       "  TRUE    14    15      126"
      ]
     },
     "metadata": {},
     "output_type": "display_data"
    },
    {
     "data": {
      "text/plain": [
       "\n",
       "\tPearson's Chi-squared test\n",
       "\n",
       "data:  df$Verify_gender and df$Face_angle\n",
       "X-squared = 4.4511, df = 2, p-value = 0.108\n"
      ]
     },
     "metadata": {},
     "output_type": "display_data"
    }
   ],
   "source": [
    "table(df$Verify_gender,df$Face_angle)\n",
    "chisq.test(df$Verify_gender,df$Face_angle)"
   ]
  }
 ],
 "metadata": {
  "kernelspec": {
   "display_name": "R",
   "language": "R",
   "name": "ir"
  },
  "language_info": {
   "codemirror_mode": "r",
   "file_extension": ".r",
   "mimetype": "text/x-r-source",
   "name": "R",
   "pygments_lexer": "r",
   "version": "4.1.2"
  },
  "orig_nbformat": 4
 },
 "nbformat": 4,
 "nbformat_minor": 2
}
