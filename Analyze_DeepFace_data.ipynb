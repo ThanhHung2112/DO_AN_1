{
 "cells": [
  {
   "cell_type": "markdown",
   "metadata": {},
   "source": [
    "# Các Công Việc:\n",
    "\n",
    "1. Các thống kê về dữ liệu : (Góc mặt, chất lượng)\n",
    "2. Biểu đồ Boxplot\n",
    "3. Biểu đồ đánh giá độ chính xác trong dự đoán về giới tính,tuổi ..  Nhận xét\n",
    "4. Phát biểu giả thuyết và nhận xét các phép kiểm định, vẽ các biểu đồ còn lại"
   ]
  },
  {
   "cell_type": "code",
   "execution_count": 1,
   "metadata": {
    "vscode": {
     "languageId": "r"
    }
   },
   "outputs": [
    {
     "name": "stderr",
     "output_type": "stream",
     "text": [
      "Warning message:\n",
      "\"package 'ggstatsplot' was built under R version 4.1.3\"\n",
      "Registered S3 method overwritten by 'parameters':\n",
      "  method                         from      \n",
      "  format.parameters_distribution datawizard\n",
      "\n",
      "You can cite this package as:\n",
      "     Patil, I. (2021). Visualizations with statistical details: The 'ggstatsplot' approach.\n",
      "     Journal of Open Source Software, 6(61), 3167, doi:10.21105/joss.03167\n",
      "\n",
      "Warning message:\n",
      "\"package 'palmerpenguins' was built under R version 4.1.3\"\n",
      "Warning message:\n",
      "\"package 'ggpubr' was built under R version 4.1.3\"\n",
      "Loading required package: ggplot2\n",
      "\n",
      "Warning message:\n",
      "\"package 'tidyverse' was built under R version 4.1.3\"\n",
      "-- \u001b[1mAttaching packages\u001b[22m ------------------------------------------------------------------------------- tidyverse 1.3.1 --\n",
      "\n",
      "\u001b[32mv\u001b[39m \u001b[34mtibble \u001b[39m 3.1.6     \u001b[32mv\u001b[39m \u001b[34mdplyr  \u001b[39m 1.0.7\n",
      "\u001b[32mv\u001b[39m \u001b[34mtidyr  \u001b[39m 1.1.4     \u001b[32mv\u001b[39m \u001b[34mstringr\u001b[39m 1.4.0\n",
      "\u001b[32mv\u001b[39m \u001b[34mreadr  \u001b[39m 2.1.1     \u001b[32mv\u001b[39m \u001b[34mforcats\u001b[39m 0.5.1\n",
      "\u001b[32mv\u001b[39m \u001b[34mpurrr  \u001b[39m 0.3.4     \n",
      "\n",
      "-- \u001b[1mConflicts\u001b[22m ---------------------------------------------------------------------------------- tidyverse_conflicts() --\n",
      "\u001b[31mx\u001b[39m \u001b[34mdplyr\u001b[39m::\u001b[32mfilter()\u001b[39m masks \u001b[34mstats\u001b[39m::filter()\n",
      "\u001b[31mx\u001b[39m \u001b[34mdplyr\u001b[39m::\u001b[32mlag()\u001b[39m    masks \u001b[34mstats\u001b[39m::lag()\n",
      "\n",
      "Warning message:\n",
      "\"package 'Hmisc' was built under R version 4.1.3\"\n",
      "Loading required package: lattice\n",
      "\n",
      "Loading required package: survival\n",
      "\n",
      "Loading required package: Formula\n",
      "\n",
      "\n",
      "Attaching package: 'Hmisc'\n",
      "\n",
      "\n",
      "The following objects are masked from 'package:dplyr':\n",
      "\n",
      "    src, summarize\n",
      "\n",
      "\n",
      "The following objects are masked from 'package:base':\n",
      "\n",
      "    format.pval, units\n",
      "\n",
      "\n",
      "Warning message:\n",
      "\"package 'rhandsontable' was built under R version 4.1.3\"\n",
      "------------------------------------------------------------------------------\n",
      "\n",
      "You have loaded plyr after dplyr - this is likely to cause problems.\n",
      "If you need functions from both plyr and dplyr, please load plyr first, then dplyr:\n",
      "library(plyr); library(dplyr)\n",
      "\n",
      "------------------------------------------------------------------------------\n",
      "\n",
      "\n",
      "Attaching package: 'plyr'\n",
      "\n",
      "\n",
      "The following objects are masked from 'package:Hmisc':\n",
      "\n",
      "    is.discrete, summarize\n",
      "\n",
      "\n",
      "The following objects are masked from 'package:dplyr':\n",
      "\n",
      "    arrange, count, desc, failwith, id, mutate, rename, summarise,\n",
      "    summarize\n",
      "\n",
      "\n",
      "The following object is masked from 'package:purrr':\n",
      "\n",
      "    compact\n",
      "\n",
      "\n",
      "The following object is masked from 'package:ggpubr':\n",
      "\n",
      "    mutate\n",
      "\n",
      "\n",
      "Warning message:\n",
      "\"package 'corrplot' was built under R version 4.1.3\"\n",
      "corrplot 0.92 loaded\n",
      "\n"
     ]
    }
   ],
   "source": [
    "\n",
    "# install.packages(\"ggcharts\")\n",
    "# install.packages(\"rhandsontable\")\n",
    "# install.packages(\"gridExtra\")\n",
    "# install.packages(\"Hmisc\")\n",
    "# install.packages(\"tidyverse\")\n",
    "# install.packages(\"plyr\")\n",
    "# install.packages(\"corrplot\")\n",
    "# install.packages(\"ggpubr\")\n",
    "# install.packages(\"ggstatsplot\")\n",
    "# install.packages(\"palmerpenguins\")\n",
    "library(ggstatsplot)\n",
    "library(palmerpenguins)\n",
    "library(ggpubr)\n",
    "library(tidyverse)\n",
    "library(Hmisc)\n",
    "library(rhandsontable)\n",
    "library(readxl)\n",
    "library(plyr)\n",
    "library(corrplot)\n",
    "# turn off warning\n",
    "options(warn=0)"
   ]
  },
  {
   "cell_type": "markdown",
   "metadata": {},
   "source": [
    "Đọc Dữ liệu\n"
   ]
  },
  {
   "cell_type": "code",
   "execution_count": 2,
   "metadata": {
    "vscode": {
     "languageId": "r"
    }
   },
   "outputs": [],
   "source": [
    "df <- read.csv('Data_analyze.csv', header = TRUE, quote = \"\\\"\",  fill = TRUE, comment.char = \"\", encoding = \"UTF-8\")\n",
    "df <- subset( df, select = - X)\n",
    "df <- subset( df, select = - Age_group)"
   ]
  },
  {
   "cell_type": "code",
   "execution_count": 3,
   "metadata": {
    "vscode": {
     "languageId": "r"
    }
   },
   "outputs": [
    {
     "data": {
      "text/html": [
       "<table class=\"dataframe\">\n",
       "<caption>A data.frame: 247 × 9</caption>\n",
       "<thead>\n",
       "\t<tr><th></th><th scope=col>Img</th><th scope=col>Age</th><th scope=col>Gender</th><th scope=col>Quality</th><th scope=col>Face_angle</th><th scope=col>Guess_age</th><th scope=col>Guess_gender</th><th scope=col>Guess_race</th><th scope=col>Guess_emotion</th></tr>\n",
       "\t<tr><th></th><th scope=col>&lt;chr&gt;</th><th scope=col>&lt;int&gt;</th><th scope=col>&lt;chr&gt;</th><th scope=col>&lt;chr&gt;</th><th scope=col>&lt;chr&gt;</th><th scope=col>&lt;int&gt;</th><th scope=col>&lt;chr&gt;</th><th scope=col>&lt;chr&gt;</th><th scope=col>&lt;chr&gt;</th></tr>\n",
       "</thead>\n",
       "<tbody>\n",
       "\t<tr><th scope=row>1</th><td>img1 </td><td> 3</td><td>Boy </td><td>Normal</td><td>Straight</td><td>28</td><td>Man  </td><td>asian</td><td>angry   </td></tr>\n",
       "\t<tr><th scope=row>2</th><td>img2 </td><td> 4</td><td>Girl</td><td>Normal</td><td>Straight</td><td>28</td><td>Man  </td><td>asian</td><td>angry   </td></tr>\n",
       "\t<tr><th scope=row>3</th><td>img3 </td><td> 2</td><td>Girl</td><td>Poor  </td><td>Straight</td><td>20</td><td>Woman</td><td>asian</td><td>happy   </td></tr>\n",
       "\t<tr><th scope=row>4</th><td>img4 </td><td> 4</td><td>Girl</td><td>Normal</td><td>Straight</td><td>33</td><td>Woman</td><td>asian</td><td>happy   </td></tr>\n",
       "\t<tr><th scope=row>5</th><td>img5 </td><td> 3</td><td>Girl</td><td>Normal</td><td>Right   </td><td>29</td><td>Man  </td><td>asian</td><td>neutral </td></tr>\n",
       "\t<tr><th scope=row>6</th><td>img6 </td><td> 1</td><td>Girl</td><td>Good  </td><td>Straight</td><td>29</td><td>Woman</td><td>asian</td><td>fear    </td></tr>\n",
       "\t<tr><th scope=row>7</th><td>img7 </td><td> 3</td><td>Boy </td><td>Good  </td><td>Left    </td><td>28</td><td>Man  </td><td>asian</td><td>surprise</td></tr>\n",
       "\t<tr><th scope=row>8</th><td>img8 </td><td> 2</td><td>Boy </td><td>Poor  </td><td>Straight</td><td>28</td><td>Man  </td><td>asian</td><td>neutral </td></tr>\n",
       "\t<tr><th scope=row>9</th><td>img9 </td><td> 1</td><td>Boy </td><td>Poor  </td><td>Straight</td><td>28</td><td>Woman</td><td>asian</td><td>fear    </td></tr>\n",
       "\t<tr><th scope=row>10</th><td>img10</td><td> 1</td><td>boy </td><td>Poor  </td><td>Straight</td><td>20</td><td>Man  </td><td>asian</td><td>sad     </td></tr>\n",
       "\t<tr><th scope=row>11</th><td>img11</td><td> 1</td><td>Girl</td><td>Poor  </td><td>Left    </td><td>27</td><td>Man  </td><td>asian</td><td>happy   </td></tr>\n",
       "\t<tr><th scope=row>12</th><td>img12</td><td> 4</td><td>Girl</td><td>Poor  </td><td>Straight</td><td>23</td><td>Man  </td><td>asian</td><td>fear    </td></tr>\n",
       "\t<tr><th scope=row>13</th><td>img13</td><td> 5</td><td>Girl</td><td>Poor  </td><td>Right   </td><td>25</td><td>Woman</td><td>asian</td><td>fear    </td></tr>\n",
       "\t<tr><th scope=row>14</th><td>img14</td><td> 4</td><td>Girl</td><td>Poor  </td><td>Straight</td><td>22</td><td>Man  </td><td>asian</td><td>angry   </td></tr>\n",
       "\t<tr><th scope=row>15</th><td>img15</td><td> 4</td><td>Girl</td><td>Poor  </td><td>Straight</td><td>27</td><td>Man  </td><td>asian</td><td>neutral </td></tr>\n",
       "\t<tr><th scope=row>16</th><td>img16</td><td> 4</td><td>Girl</td><td>Poor  </td><td>Left    </td><td>25</td><td>Man  </td><td>asian</td><td>neutral </td></tr>\n",
       "\t<tr><th scope=row>17</th><td>img17</td><td> 4</td><td>Boy </td><td>Poor  </td><td>Straight</td><td>36</td><td>Woman</td><td>asian</td><td>happy   </td></tr>\n",
       "\t<tr><th scope=row>18</th><td>img18</td><td> 2</td><td>Boy </td><td>Poor  </td><td>Right   </td><td>23</td><td>Man  </td><td>asian</td><td>sad     </td></tr>\n",
       "\t<tr><th scope=row>19</th><td>img19</td><td> 2</td><td>Boy </td><td>Poor  </td><td>Straight</td><td>30</td><td>Man  </td><td>asian</td><td>happy   </td></tr>\n",
       "\t<tr><th scope=row>20</th><td>img20</td><td> 2</td><td>Boy </td><td>Normal</td><td>Straight</td><td>24</td><td>Man  </td><td>asian</td><td>sad     </td></tr>\n",
       "\t<tr><th scope=row>21</th><td>img31</td><td> 6</td><td>Boy </td><td>Good  </td><td>Straight</td><td>29</td><td>Man  </td><td>asian</td><td>sad     </td></tr>\n",
       "\t<tr><th scope=row>22</th><td>img32</td><td>10</td><td>Girl</td><td>Good  </td><td>Straight</td><td>24</td><td>Woman</td><td>asian</td><td>neutral </td></tr>\n",
       "\t<tr><th scope=row>23</th><td>img33</td><td> 7</td><td>Girl</td><td>Good  </td><td>Straight</td><td>31</td><td>Woman</td><td>asian</td><td>sad     </td></tr>\n",
       "\t<tr><th scope=row>24</th><td>img34</td><td>10</td><td>Girl</td><td>Normal</td><td>Straight</td><td>23</td><td>Woman</td><td>asian</td><td>sad     </td></tr>\n",
       "\t<tr><th scope=row>25</th><td>img35</td><td> 7</td><td>Girl</td><td>Good  </td><td>Straight</td><td>33</td><td>Man  </td><td>asian</td><td>happy   </td></tr>\n",
       "\t<tr><th scope=row>26</th><td>img36</td><td> 6</td><td>Girl</td><td>Hidden</td><td>Straight</td><td>21</td><td>Man  </td><td>asian</td><td>fear    </td></tr>\n",
       "\t<tr><th scope=row>27</th><td>img37</td><td>10</td><td>Girl</td><td>Good  </td><td>Straight</td><td>28</td><td>Woman</td><td>asian</td><td>fear    </td></tr>\n",
       "\t<tr><th scope=row>28</th><td>img38</td><td> 6</td><td>Boy </td><td>Poor  </td><td>Straight</td><td>30</td><td>Woman</td><td>asian</td><td>neutral </td></tr>\n",
       "\t<tr><th scope=row>29</th><td>img39</td><td> 6</td><td>Girl</td><td>Poor  </td><td>Straight</td><td>27</td><td>Man  </td><td>asian</td><td>happy   </td></tr>\n",
       "\t<tr><th scope=row>30</th><td>img40</td><td> 6</td><td>Boy </td><td>Poor  </td><td>Straight</td><td>20</td><td>Woman</td><td>asian</td><td>neutral </td></tr>\n",
       "\t<tr><th scope=row>...</th><td>...</td><td>...</td><td>...</td><td>...</td><td>...</td><td>...</td><td>...</td><td>...</td><td>...</td></tr>\n",
       "\t<tr><th scope=row>218</th><td>img296</td><td>63</td><td>Boy </td><td>Normal</td><td>Left    </td><td>42</td><td>Man  </td><td>asian</td><td>happy  </td></tr>\n",
       "\t<tr><th scope=row>219</th><td>img297</td><td>65</td><td>Boy </td><td>Normal</td><td>Straight</td><td>36</td><td>Man  </td><td>asian</td><td>neutral</td></tr>\n",
       "\t<tr><th scope=row>220</th><td>img298</td><td>60</td><td>boy </td><td>Good  </td><td>Straight</td><td>44</td><td>Man  </td><td>asian</td><td>happy  </td></tr>\n",
       "\t<tr><th scope=row>221</th><td>img299</td><td>62</td><td>boy </td><td>Normal</td><td>Straight</td><td>42</td><td>Man  </td><td>asian</td><td>neutral</td></tr>\n",
       "\t<tr><th scope=row>222</th><td>img300</td><td>62</td><td>boy </td><td>Poor  </td><td>Straight</td><td>32</td><td>Man  </td><td>asian</td><td>happy  </td></tr>\n",
       "\t<tr><th scope=row>223</th><td>img311</td><td>80</td><td>Girl</td><td>Good  </td><td>Left    </td><td>27</td><td>Man  </td><td>asian</td><td>happy  </td></tr>\n",
       "\t<tr><th scope=row>224</th><td>img312</td><td>73</td><td>Girl</td><td>Good  </td><td>Straight</td><td>61</td><td>Man  </td><td>asian</td><td>happy  </td></tr>\n",
       "\t<tr><th scope=row>225</th><td>img313</td><td>75</td><td>Girl</td><td>Good  </td><td>Straight</td><td>41</td><td>Man  </td><td>white</td><td>fear   </td></tr>\n",
       "\t<tr><th scope=row>226</th><td>img314</td><td>74</td><td>Girl</td><td>Good  </td><td>Straight</td><td>56</td><td>Woman</td><td>asian</td><td>happy  </td></tr>\n",
       "\t<tr><th scope=row>227</th><td>img315</td><td>79</td><td>Girl</td><td>Good  </td><td>Straight</td><td>37</td><td>Man  </td><td>asian</td><td>neutral</td></tr>\n",
       "\t<tr><th scope=row>228</th><td>img316</td><td>72</td><td>Girl</td><td>Good  </td><td>Straight</td><td>42</td><td>Woman</td><td>asian</td><td>neutral</td></tr>\n",
       "\t<tr><th scope=row>229</th><td>img317</td><td>76</td><td>Girl</td><td>Good  </td><td>Right   </td><td>46</td><td>Woman</td><td>asian</td><td>angry  </td></tr>\n",
       "\t<tr><th scope=row>230</th><td>img318</td><td>75</td><td>Girl</td><td>Good  </td><td>Straight</td><td>46</td><td>Man  </td><td>asian</td><td>sad    </td></tr>\n",
       "\t<tr><th scope=row>231</th><td>img319</td><td>82</td><td>Girl</td><td>Good  </td><td>Straight</td><td>46</td><td>Woman</td><td>asian</td><td>happy  </td></tr>\n",
       "\t<tr><th scope=row>232</th><td>img320</td><td>80</td><td>Girl</td><td>Good  </td><td>Left    </td><td>41</td><td>Man  </td><td>asian</td><td>neutral</td></tr>\n",
       "\t<tr><th scope=row>233</th><td>img321</td><td>72</td><td>Girl</td><td>Good  </td><td>Straight</td><td>47</td><td>Man  </td><td>asian</td><td>happy  </td></tr>\n",
       "\t<tr><th scope=row>234</th><td>img322</td><td>77</td><td>Girl</td><td>Good  </td><td>Straight</td><td>51</td><td>Woman</td><td>asian</td><td>happy  </td></tr>\n",
       "\t<tr><th scope=row>235</th><td>img323</td><td>72</td><td>Boy </td><td>Good  </td><td>Straight</td><td>47</td><td>Woman</td><td>asian</td><td>fear   </td></tr>\n",
       "\t<tr><th scope=row>236</th><td>img324</td><td>71</td><td>Boy </td><td>Good  </td><td>Straight</td><td>39</td><td>Man  </td><td>asian</td><td>sad    </td></tr>\n",
       "\t<tr><th scope=row>237</th><td>img325</td><td>77</td><td>Boy </td><td>Good  </td><td>Left    </td><td>52</td><td>Man  </td><td>asian</td><td>happy  </td></tr>\n",
       "\t<tr><th scope=row>238</th><td>img326</td><td>74</td><td>Boy </td><td>Good  </td><td>Straight</td><td>47</td><td>Man  </td><td>asian</td><td>happy  </td></tr>\n",
       "\t<tr><th scope=row>239</th><td>img327</td><td>74</td><td>Boy </td><td>Good  </td><td>Straight</td><td>51</td><td>Man  </td><td>asian</td><td>fear   </td></tr>\n",
       "\t<tr><th scope=row>240</th><td>img328</td><td>78</td><td>Boy </td><td>Good  </td><td>Straight</td><td>48</td><td>Man  </td><td>asian</td><td>happy  </td></tr>\n",
       "\t<tr><th scope=row>241</th><td>img329</td><td>80</td><td>Boy </td><td>Good  </td><td>Straight</td><td>45</td><td>Man  </td><td>asian</td><td>sad    </td></tr>\n",
       "\t<tr><th scope=row>242</th><td>img330</td><td>78</td><td>Boy </td><td>Good  </td><td>Straight</td><td>42</td><td>Man  </td><td>white</td><td>sad    </td></tr>\n",
       "\t<tr><th scope=row>243</th><td>img331</td><td>73</td><td>Boy </td><td>Good  </td><td>Straight</td><td>55</td><td>Man  </td><td>asian</td><td>neutral</td></tr>\n",
       "\t<tr><th scope=row>244</th><td>img332</td><td>77</td><td>Boy </td><td>Good  </td><td>Straight</td><td>46</td><td>Man  </td><td>asian</td><td>angry  </td></tr>\n",
       "\t<tr><th scope=row>245</th><td>img333</td><td>73</td><td>Boy </td><td>Good  </td><td>Straight</td><td>52</td><td>Man  </td><td>asian</td><td>fear   </td></tr>\n",
       "\t<tr><th scope=row>246</th><td>img334</td><td>87</td><td>Boy </td><td>Good  </td><td>Straight</td><td>50</td><td>Man  </td><td>asian</td><td>neutral</td></tr>\n",
       "\t<tr><th scope=row>247</th><td>img335</td><td>86</td><td>Boy </td><td>Good  </td><td>Straight</td><td>33</td><td>Man  </td><td>asian</td><td>happy  </td></tr>\n",
       "</tbody>\n",
       "</table>\n"
      ],
      "text/latex": [
       "A data.frame: 247 × 9\n",
       "\\begin{tabular}{r|lllllllll}\n",
       "  & Img & Age & Gender & Quality & Face\\_angle & Guess\\_age & Guess\\_gender & Guess\\_race & Guess\\_emotion\\\\\n",
       "  & <chr> & <int> & <chr> & <chr> & <chr> & <int> & <chr> & <chr> & <chr>\\\\\n",
       "\\hline\n",
       "\t1 & img1  &  3 & Boy  & Normal & Straight & 28 & Man   & asian & angry   \\\\\n",
       "\t2 & img2  &  4 & Girl & Normal & Straight & 28 & Man   & asian & angry   \\\\\n",
       "\t3 & img3  &  2 & Girl & Poor   & Straight & 20 & Woman & asian & happy   \\\\\n",
       "\t4 & img4  &  4 & Girl & Normal & Straight & 33 & Woman & asian & happy   \\\\\n",
       "\t5 & img5  &  3 & Girl & Normal & Right    & 29 & Man   & asian & neutral \\\\\n",
       "\t6 & img6  &  1 & Girl & Good   & Straight & 29 & Woman & asian & fear    \\\\\n",
       "\t7 & img7  &  3 & Boy  & Good   & Left     & 28 & Man   & asian & surprise\\\\\n",
       "\t8 & img8  &  2 & Boy  & Poor   & Straight & 28 & Man   & asian & neutral \\\\\n",
       "\t9 & img9  &  1 & Boy  & Poor   & Straight & 28 & Woman & asian & fear    \\\\\n",
       "\t10 & img10 &  1 & boy  & Poor   & Straight & 20 & Man   & asian & sad     \\\\\n",
       "\t11 & img11 &  1 & Girl & Poor   & Left     & 27 & Man   & asian & happy   \\\\\n",
       "\t12 & img12 &  4 & Girl & Poor   & Straight & 23 & Man   & asian & fear    \\\\\n",
       "\t13 & img13 &  5 & Girl & Poor   & Right    & 25 & Woman & asian & fear    \\\\\n",
       "\t14 & img14 &  4 & Girl & Poor   & Straight & 22 & Man   & asian & angry   \\\\\n",
       "\t15 & img15 &  4 & Girl & Poor   & Straight & 27 & Man   & asian & neutral \\\\\n",
       "\t16 & img16 &  4 & Girl & Poor   & Left     & 25 & Man   & asian & neutral \\\\\n",
       "\t17 & img17 &  4 & Boy  & Poor   & Straight & 36 & Woman & asian & happy   \\\\\n",
       "\t18 & img18 &  2 & Boy  & Poor   & Right    & 23 & Man   & asian & sad     \\\\\n",
       "\t19 & img19 &  2 & Boy  & Poor   & Straight & 30 & Man   & asian & happy   \\\\\n",
       "\t20 & img20 &  2 & Boy  & Normal & Straight & 24 & Man   & asian & sad     \\\\\n",
       "\t21 & img31 &  6 & Boy  & Good   & Straight & 29 & Man   & asian & sad     \\\\\n",
       "\t22 & img32 & 10 & Girl & Good   & Straight & 24 & Woman & asian & neutral \\\\\n",
       "\t23 & img33 &  7 & Girl & Good   & Straight & 31 & Woman & asian & sad     \\\\\n",
       "\t24 & img34 & 10 & Girl & Normal & Straight & 23 & Woman & asian & sad     \\\\\n",
       "\t25 & img35 &  7 & Girl & Good   & Straight & 33 & Man   & asian & happy   \\\\\n",
       "\t26 & img36 &  6 & Girl & Hidden & Straight & 21 & Man   & asian & fear    \\\\\n",
       "\t27 & img37 & 10 & Girl & Good   & Straight & 28 & Woman & asian & fear    \\\\\n",
       "\t28 & img38 &  6 & Boy  & Poor   & Straight & 30 & Woman & asian & neutral \\\\\n",
       "\t29 & img39 &  6 & Girl & Poor   & Straight & 27 & Man   & asian & happy   \\\\\n",
       "\t30 & img40 &  6 & Boy  & Poor   & Straight & 20 & Woman & asian & neutral \\\\\n",
       "\t... & ... & ... & ... & ... & ... & ... & ... & ... & ...\\\\\n",
       "\t218 & img296 & 63 & Boy  & Normal & Left     & 42 & Man   & asian & happy  \\\\\n",
       "\t219 & img297 & 65 & Boy  & Normal & Straight & 36 & Man   & asian & neutral\\\\\n",
       "\t220 & img298 & 60 & boy  & Good   & Straight & 44 & Man   & asian & happy  \\\\\n",
       "\t221 & img299 & 62 & boy  & Normal & Straight & 42 & Man   & asian & neutral\\\\\n",
       "\t222 & img300 & 62 & boy  & Poor   & Straight & 32 & Man   & asian & happy  \\\\\n",
       "\t223 & img311 & 80 & Girl & Good   & Left     & 27 & Man   & asian & happy  \\\\\n",
       "\t224 & img312 & 73 & Girl & Good   & Straight & 61 & Man   & asian & happy  \\\\\n",
       "\t225 & img313 & 75 & Girl & Good   & Straight & 41 & Man   & white & fear   \\\\\n",
       "\t226 & img314 & 74 & Girl & Good   & Straight & 56 & Woman & asian & happy  \\\\\n",
       "\t227 & img315 & 79 & Girl & Good   & Straight & 37 & Man   & asian & neutral\\\\\n",
       "\t228 & img316 & 72 & Girl & Good   & Straight & 42 & Woman & asian & neutral\\\\\n",
       "\t229 & img317 & 76 & Girl & Good   & Right    & 46 & Woman & asian & angry  \\\\\n",
       "\t230 & img318 & 75 & Girl & Good   & Straight & 46 & Man   & asian & sad    \\\\\n",
       "\t231 & img319 & 82 & Girl & Good   & Straight & 46 & Woman & asian & happy  \\\\\n",
       "\t232 & img320 & 80 & Girl & Good   & Left     & 41 & Man   & asian & neutral\\\\\n",
       "\t233 & img321 & 72 & Girl & Good   & Straight & 47 & Man   & asian & happy  \\\\\n",
       "\t234 & img322 & 77 & Girl & Good   & Straight & 51 & Woman & asian & happy  \\\\\n",
       "\t235 & img323 & 72 & Boy  & Good   & Straight & 47 & Woman & asian & fear   \\\\\n",
       "\t236 & img324 & 71 & Boy  & Good   & Straight & 39 & Man   & asian & sad    \\\\\n",
       "\t237 & img325 & 77 & Boy  & Good   & Left     & 52 & Man   & asian & happy  \\\\\n",
       "\t238 & img326 & 74 & Boy  & Good   & Straight & 47 & Man   & asian & happy  \\\\\n",
       "\t239 & img327 & 74 & Boy  & Good   & Straight & 51 & Man   & asian & fear   \\\\\n",
       "\t240 & img328 & 78 & Boy  & Good   & Straight & 48 & Man   & asian & happy  \\\\\n",
       "\t241 & img329 & 80 & Boy  & Good   & Straight & 45 & Man   & asian & sad    \\\\\n",
       "\t242 & img330 & 78 & Boy  & Good   & Straight & 42 & Man   & white & sad    \\\\\n",
       "\t243 & img331 & 73 & Boy  & Good   & Straight & 55 & Man   & asian & neutral\\\\\n",
       "\t244 & img332 & 77 & Boy  & Good   & Straight & 46 & Man   & asian & angry  \\\\\n",
       "\t245 & img333 & 73 & Boy  & Good   & Straight & 52 & Man   & asian & fear   \\\\\n",
       "\t246 & img334 & 87 & Boy  & Good   & Straight & 50 & Man   & asian & neutral\\\\\n",
       "\t247 & img335 & 86 & Boy  & Good   & Straight & 33 & Man   & asian & happy  \\\\\n",
       "\\end{tabular}\n"
      ],
      "text/markdown": [
       "\n",
       "A data.frame: 247 × 9\n",
       "\n",
       "| <!--/--> | Img &lt;chr&gt; | Age &lt;int&gt; | Gender &lt;chr&gt; | Quality &lt;chr&gt; | Face_angle &lt;chr&gt; | Guess_age &lt;int&gt; | Guess_gender &lt;chr&gt; | Guess_race &lt;chr&gt; | Guess_emotion &lt;chr&gt; |\n",
       "|---|---|---|---|---|---|---|---|---|---|\n",
       "| 1 | img1  |  3 | Boy  | Normal | Straight | 28 | Man   | asian | angry    |\n",
       "| 2 | img2  |  4 | Girl | Normal | Straight | 28 | Man   | asian | angry    |\n",
       "| 3 | img3  |  2 | Girl | Poor   | Straight | 20 | Woman | asian | happy    |\n",
       "| 4 | img4  |  4 | Girl | Normal | Straight | 33 | Woman | asian | happy    |\n",
       "| 5 | img5  |  3 | Girl | Normal | Right    | 29 | Man   | asian | neutral  |\n",
       "| 6 | img6  |  1 | Girl | Good   | Straight | 29 | Woman | asian | fear     |\n",
       "| 7 | img7  |  3 | Boy  | Good   | Left     | 28 | Man   | asian | surprise |\n",
       "| 8 | img8  |  2 | Boy  | Poor   | Straight | 28 | Man   | asian | neutral  |\n",
       "| 9 | img9  |  1 | Boy  | Poor   | Straight | 28 | Woman | asian | fear     |\n",
       "| 10 | img10 |  1 | boy  | Poor   | Straight | 20 | Man   | asian | sad      |\n",
       "| 11 | img11 |  1 | Girl | Poor   | Left     | 27 | Man   | asian | happy    |\n",
       "| 12 | img12 |  4 | Girl | Poor   | Straight | 23 | Man   | asian | fear     |\n",
       "| 13 | img13 |  5 | Girl | Poor   | Right    | 25 | Woman | asian | fear     |\n",
       "| 14 | img14 |  4 | Girl | Poor   | Straight | 22 | Man   | asian | angry    |\n",
       "| 15 | img15 |  4 | Girl | Poor   | Straight | 27 | Man   | asian | neutral  |\n",
       "| 16 | img16 |  4 | Girl | Poor   | Left     | 25 | Man   | asian | neutral  |\n",
       "| 17 | img17 |  4 | Boy  | Poor   | Straight | 36 | Woman | asian | happy    |\n",
       "| 18 | img18 |  2 | Boy  | Poor   | Right    | 23 | Man   | asian | sad      |\n",
       "| 19 | img19 |  2 | Boy  | Poor   | Straight | 30 | Man   | asian | happy    |\n",
       "| 20 | img20 |  2 | Boy  | Normal | Straight | 24 | Man   | asian | sad      |\n",
       "| 21 | img31 |  6 | Boy  | Good   | Straight | 29 | Man   | asian | sad      |\n",
       "| 22 | img32 | 10 | Girl | Good   | Straight | 24 | Woman | asian | neutral  |\n",
       "| 23 | img33 |  7 | Girl | Good   | Straight | 31 | Woman | asian | sad      |\n",
       "| 24 | img34 | 10 | Girl | Normal | Straight | 23 | Woman | asian | sad      |\n",
       "| 25 | img35 |  7 | Girl | Good   | Straight | 33 | Man   | asian | happy    |\n",
       "| 26 | img36 |  6 | Girl | Hidden | Straight | 21 | Man   | asian | fear     |\n",
       "| 27 | img37 | 10 | Girl | Good   | Straight | 28 | Woman | asian | fear     |\n",
       "| 28 | img38 |  6 | Boy  | Poor   | Straight | 30 | Woman | asian | neutral  |\n",
       "| 29 | img39 |  6 | Girl | Poor   | Straight | 27 | Man   | asian | happy    |\n",
       "| 30 | img40 |  6 | Boy  | Poor   | Straight | 20 | Woman | asian | neutral  |\n",
       "| ... | ... | ... | ... | ... | ... | ... | ... | ... | ... |\n",
       "| 218 | img296 | 63 | Boy  | Normal | Left     | 42 | Man   | asian | happy   |\n",
       "| 219 | img297 | 65 | Boy  | Normal | Straight | 36 | Man   | asian | neutral |\n",
       "| 220 | img298 | 60 | boy  | Good   | Straight | 44 | Man   | asian | happy   |\n",
       "| 221 | img299 | 62 | boy  | Normal | Straight | 42 | Man   | asian | neutral |\n",
       "| 222 | img300 | 62 | boy  | Poor   | Straight | 32 | Man   | asian | happy   |\n",
       "| 223 | img311 | 80 | Girl | Good   | Left     | 27 | Man   | asian | happy   |\n",
       "| 224 | img312 | 73 | Girl | Good   | Straight | 61 | Man   | asian | happy   |\n",
       "| 225 | img313 | 75 | Girl | Good   | Straight | 41 | Man   | white | fear    |\n",
       "| 226 | img314 | 74 | Girl | Good   | Straight | 56 | Woman | asian | happy   |\n",
       "| 227 | img315 | 79 | Girl | Good   | Straight | 37 | Man   | asian | neutral |\n",
       "| 228 | img316 | 72 | Girl | Good   | Straight | 42 | Woman | asian | neutral |\n",
       "| 229 | img317 | 76 | Girl | Good   | Right    | 46 | Woman | asian | angry   |\n",
       "| 230 | img318 | 75 | Girl | Good   | Straight | 46 | Man   | asian | sad     |\n",
       "| 231 | img319 | 82 | Girl | Good   | Straight | 46 | Woman | asian | happy   |\n",
       "| 232 | img320 | 80 | Girl | Good   | Left     | 41 | Man   | asian | neutral |\n",
       "| 233 | img321 | 72 | Girl | Good   | Straight | 47 | Man   | asian | happy   |\n",
       "| 234 | img322 | 77 | Girl | Good   | Straight | 51 | Woman | asian | happy   |\n",
       "| 235 | img323 | 72 | Boy  | Good   | Straight | 47 | Woman | asian | fear    |\n",
       "| 236 | img324 | 71 | Boy  | Good   | Straight | 39 | Man   | asian | sad     |\n",
       "| 237 | img325 | 77 | Boy  | Good   | Left     | 52 | Man   | asian | happy   |\n",
       "| 238 | img326 | 74 | Boy  | Good   | Straight | 47 | Man   | asian | happy   |\n",
       "| 239 | img327 | 74 | Boy  | Good   | Straight | 51 | Man   | asian | fear    |\n",
       "| 240 | img328 | 78 | Boy  | Good   | Straight | 48 | Man   | asian | happy   |\n",
       "| 241 | img329 | 80 | Boy  | Good   | Straight | 45 | Man   | asian | sad     |\n",
       "| 242 | img330 | 78 | Boy  | Good   | Straight | 42 | Man   | white | sad     |\n",
       "| 243 | img331 | 73 | Boy  | Good   | Straight | 55 | Man   | asian | neutral |\n",
       "| 244 | img332 | 77 | Boy  | Good   | Straight | 46 | Man   | asian | angry   |\n",
       "| 245 | img333 | 73 | Boy  | Good   | Straight | 52 | Man   | asian | fear    |\n",
       "| 246 | img334 | 87 | Boy  | Good   | Straight | 50 | Man   | asian | neutral |\n",
       "| 247 | img335 | 86 | Boy  | Good   | Straight | 33 | Man   | asian | happy   |\n",
       "\n"
      ],
      "text/plain": [
       "    Img    Age Gender Quality Face_angle Guess_age Guess_gender Guess_race\n",
       "1   img1    3  Boy    Normal  Straight   28        Man          asian     \n",
       "2   img2    4  Girl   Normal  Straight   28        Man          asian     \n",
       "3   img3    2  Girl   Poor    Straight   20        Woman        asian     \n",
       "4   img4    4  Girl   Normal  Straight   33        Woman        asian     \n",
       "5   img5    3  Girl   Normal  Right      29        Man          asian     \n",
       "6   img6    1  Girl   Good    Straight   29        Woman        asian     \n",
       "7   img7    3  Boy    Good    Left       28        Man          asian     \n",
       "8   img8    2  Boy    Poor    Straight   28        Man          asian     \n",
       "9   img9    1  Boy    Poor    Straight   28        Woman        asian     \n",
       "10  img10   1  boy    Poor    Straight   20        Man          asian     \n",
       "11  img11   1  Girl   Poor    Left       27        Man          asian     \n",
       "12  img12   4  Girl   Poor    Straight   23        Man          asian     \n",
       "13  img13   5  Girl   Poor    Right      25        Woman        asian     \n",
       "14  img14   4  Girl   Poor    Straight   22        Man          asian     \n",
       "15  img15   4  Girl   Poor    Straight   27        Man          asian     \n",
       "16  img16   4  Girl   Poor    Left       25        Man          asian     \n",
       "17  img17   4  Boy    Poor    Straight   36        Woman        asian     \n",
       "18  img18   2  Boy    Poor    Right      23        Man          asian     \n",
       "19  img19   2  Boy    Poor    Straight   30        Man          asian     \n",
       "20  img20   2  Boy    Normal  Straight   24        Man          asian     \n",
       "21  img31   6  Boy    Good    Straight   29        Man          asian     \n",
       "22  img32  10  Girl   Good    Straight   24        Woman        asian     \n",
       "23  img33   7  Girl   Good    Straight   31        Woman        asian     \n",
       "24  img34  10  Girl   Normal  Straight   23        Woman        asian     \n",
       "25  img35   7  Girl   Good    Straight   33        Man          asian     \n",
       "26  img36   6  Girl   Hidden  Straight   21        Man          asian     \n",
       "27  img37  10  Girl   Good    Straight   28        Woman        asian     \n",
       "28  img38   6  Boy    Poor    Straight   30        Woman        asian     \n",
       "29  img39   6  Girl   Poor    Straight   27        Man          asian     \n",
       "30  img40   6  Boy    Poor    Straight   20        Woman        asian     \n",
       "... ...    ... ...    ...     ...        ...       ...          ...       \n",
       "218 img296 63  Boy    Normal  Left       42        Man          asian     \n",
       "219 img297 65  Boy    Normal  Straight   36        Man          asian     \n",
       "220 img298 60  boy    Good    Straight   44        Man          asian     \n",
       "221 img299 62  boy    Normal  Straight   42        Man          asian     \n",
       "222 img300 62  boy    Poor    Straight   32        Man          asian     \n",
       "223 img311 80  Girl   Good    Left       27        Man          asian     \n",
       "224 img312 73  Girl   Good    Straight   61        Man          asian     \n",
       "225 img313 75  Girl   Good    Straight   41        Man          white     \n",
       "226 img314 74  Girl   Good    Straight   56        Woman        asian     \n",
       "227 img315 79  Girl   Good    Straight   37        Man          asian     \n",
       "228 img316 72  Girl   Good    Straight   42        Woman        asian     \n",
       "229 img317 76  Girl   Good    Right      46        Woman        asian     \n",
       "230 img318 75  Girl   Good    Straight   46        Man          asian     \n",
       "231 img319 82  Girl   Good    Straight   46        Woman        asian     \n",
       "232 img320 80  Girl   Good    Left       41        Man          asian     \n",
       "233 img321 72  Girl   Good    Straight   47        Man          asian     \n",
       "234 img322 77  Girl   Good    Straight   51        Woman        asian     \n",
       "235 img323 72  Boy    Good    Straight   47        Woman        asian     \n",
       "236 img324 71  Boy    Good    Straight   39        Man          asian     \n",
       "237 img325 77  Boy    Good    Left       52        Man          asian     \n",
       "238 img326 74  Boy    Good    Straight   47        Man          asian     \n",
       "239 img327 74  Boy    Good    Straight   51        Man          asian     \n",
       "240 img328 78  Boy    Good    Straight   48        Man          asian     \n",
       "241 img329 80  Boy    Good    Straight   45        Man          asian     \n",
       "242 img330 78  Boy    Good    Straight   42        Man          white     \n",
       "243 img331 73  Boy    Good    Straight   55        Man          asian     \n",
       "244 img332 77  Boy    Good    Straight   46        Man          asian     \n",
       "245 img333 73  Boy    Good    Straight   52        Man          asian     \n",
       "246 img334 87  Boy    Good    Straight   50        Man          asian     \n",
       "247 img335 86  Boy    Good    Straight   33        Man          asian     \n",
       "    Guess_emotion\n",
       "1   angry        \n",
       "2   angry        \n",
       "3   happy        \n",
       "4   happy        \n",
       "5   neutral      \n",
       "6   fear         \n",
       "7   surprise     \n",
       "8   neutral      \n",
       "9   fear         \n",
       "10  sad          \n",
       "11  happy        \n",
       "12  fear         \n",
       "13  fear         \n",
       "14  angry        \n",
       "15  neutral      \n",
       "16  neutral      \n",
       "17  happy        \n",
       "18  sad          \n",
       "19  happy        \n",
       "20  sad          \n",
       "21  sad          \n",
       "22  neutral      \n",
       "23  sad          \n",
       "24  sad          \n",
       "25  happy        \n",
       "26  fear         \n",
       "27  fear         \n",
       "28  neutral      \n",
       "29  happy        \n",
       "30  neutral      \n",
       "... ...          \n",
       "218 happy        \n",
       "219 neutral      \n",
       "220 happy        \n",
       "221 neutral      \n",
       "222 happy        \n",
       "223 happy        \n",
       "224 happy        \n",
       "225 fear         \n",
       "226 happy        \n",
       "227 neutral      \n",
       "228 neutral      \n",
       "229 angry        \n",
       "230 sad          \n",
       "231 happy        \n",
       "232 neutral      \n",
       "233 happy        \n",
       "234 happy        \n",
       "235 fear         \n",
       "236 sad          \n",
       "237 happy        \n",
       "238 happy        \n",
       "239 fear         \n",
       "240 happy        \n",
       "241 sad          \n",
       "242 sad          \n",
       "243 neutral      \n",
       "244 angry        \n",
       "245 fear         \n",
       "246 neutral      \n",
       "247 happy        "
      ]
     },
     "metadata": {},
     "output_type": "display_data"
    }
   ],
   "source": [
    "df"
   ]
  },
  {
   "cell_type": "code",
   "execution_count": 4,
   "metadata": {
    "vscode": {
     "languageId": "r"
    }
   },
   "outputs": [
    {
     "name": "stdout",
     "output_type": "stream",
     "text": [
      "'data.frame':\t247 obs. of  9 variables:\n",
      " $ Img          : chr  \"img1\" \"img2\" \"img3\" \"img4\" ...\n",
      " $ Age          : int  3 4 2 4 3 1 3 2 1 1 ...\n",
      " $ Gender       : chr  \"Boy\" \"Girl\" \"Girl\" \"Girl\" ...\n",
      " $ Quality      : chr  \"Normal\" \"Normal\" \"Poor\" \"Normal\" ...\n",
      " $ Face_angle   : chr  \"Straight\" \"Straight\" \"Straight\" \"Straight\" ...\n",
      " $ Guess_age    : int  28 28 20 33 29 29 28 28 28 20 ...\n",
      " $ Guess_gender : chr  \"Man\" \"Man\" \"Woman\" \"Woman\" ...\n",
      " $ Guess_race   : chr  \"asian\" \"asian\" \"asian\" \"asian\" ...\n",
      " $ Guess_emotion: chr  \"angry\" \"angry\" \"happy\" \"happy\" ...\n"
     ]
    }
   ],
   "source": [
    "# shows the structure of the data frame\n",
    "str(df)"
   ]
  },
  {
   "cell_type": "code",
   "execution_count": 5,
   "metadata": {
    "vscode": {
     "languageId": "r"
    }
   },
   "outputs": [
    {
     "data": {
      "text/plain": [
       "df \n",
       "\n",
       " 9  Variables      247  Observations\n",
       "--------------------------------------------------------------------------------\n",
       "Img \n",
       "       n  missing distinct \n",
       "     247        0      247 \n",
       "\n",
       "lowest : img1   img10  img101 img102 img103, highest: img87  img88  img89  img9   img90 \n",
       "--------------------------------------------------------------------------------\n",
       "Age \n",
       "       n  missing distinct     Info     Mean      Gmd      .05      .10 \n",
       "     247        0       81        1    34.23     26.9      4.0      6.6 \n",
       "     .25      .50      .75      .90      .95 \n",
       "    14.0     28.0     53.0     72.0     77.0 \n",
       "\n",
       "lowest :  1  2  3  4  5, highest: 80 82 85 86 87\n",
       "--------------------------------------------------------------------------------\n",
       "Gender \n",
       "       n  missing distinct \n",
       "     247        0        5 \n",
       "\n",
       "lowest : boy  Boy  Boy  girl Girl, highest: boy  Boy  Boy  girl Girl\n",
       "                                        \n",
       "Value        boy   Boy   Boy  girl  Girl\n",
       "Frequency     13   121     1    16    96\n",
       "Proportion 0.053 0.490 0.004 0.065 0.389\n",
       "--------------------------------------------------------------------------------\n",
       "Quality \n",
       "       n  missing distinct \n",
       "     247        0        4 \n",
       "                                      \n",
       "Value        Good Hidden Normal   Poor\n",
       "Frequency     116      8     38     85\n",
       "Proportion  0.470  0.032  0.154  0.344\n",
       "--------------------------------------------------------------------------------\n",
       "Face_angle \n",
       "       n  missing distinct \n",
       "     247        0        3 \n",
       "                                     \n",
       "Value          Left    Right Straight\n",
       "Frequency        30       26      191\n",
       "Proportion    0.121    0.105    0.773\n",
       "--------------------------------------------------------------------------------\n",
       "Guess_age \n",
       "       n  missing distinct     Info     Mean      Gmd      .05      .10 \n",
       "     247        0       38    0.997    32.23    8.753     22.0     24.0 \n",
       "     .25      .50      .75      .90      .95 \n",
       "    27.0     30.0     36.0     45.4     48.7 \n",
       "\n",
       "lowest : 19 20 21 22 23, highest: 52 54 55 56 61\n",
       "--------------------------------------------------------------------------------\n",
       "Guess_gender \n",
       "       n  missing distinct \n",
       "     247        0        2 \n",
       "                      \n",
       "Value        Man Woman\n",
       "Frequency    170    77\n",
       "Proportion 0.688 0.312\n",
       "--------------------------------------------------------------------------------\n",
       "Guess_race \n",
       "       n  missing distinct \n",
       "     247        0        4 \n",
       "                                                                          \n",
       "Value                asian          indian latino hispanic           white\n",
       "Frequency              230               1               4              12\n",
       "Proportion           0.931           0.004           0.016           0.049\n",
       "--------------------------------------------------------------------------------\n",
       "Guess_emotion \n",
       "       n  missing distinct \n",
       "     247        0        6 \n",
       "\n",
       "lowest : angry    fear     happy    neutral  sad     \n",
       "highest: fear     happy    neutral  sad      surprise\n",
       "                                                                \n",
       "Value         angry     fear    happy  neutral      sad surprise\n",
       "Frequency        19       18       95       83       31        1\n",
       "Proportion    0.077    0.073    0.385    0.336    0.126    0.004\n",
       "--------------------------------------------------------------------------------"
      ]
     },
     "metadata": {},
     "output_type": "display_data"
    }
   ],
   "source": [
    "describe(df)"
   ]
  },
  {
   "cell_type": "code",
   "execution_count": 6,
   "metadata": {
    "vscode": {
     "languageId": "r"
    }
   },
   "outputs": [],
   "source": [
    "Age_group <- list()\n",
    "for (i in df[,c('Age')]) {\n",
    "    if (i <= 5){\n",
    "        Age_group <- c(Age_group, 'less than 5')\n",
    "    } else if (i <= 10) {\n",
    "       Age_group <- c(Age_group, '5 to 10')\n",
    "    } else if (i <= 15) {\n",
    "       Age_group <- c(Age_group, '10 to 15')\n",
    "    } else if (i <= 20) {\n",
    "       Age_group <- c(Age_group, '15 to 20')\n",
    "    } else if (i <= 30) {\n",
    "       Age_group <- c(Age_group, '20 to 30')\n",
    "    } else if (i <= 40) {\n",
    "       Age_group <- c(Age_group, '30 to 40')\n",
    "    } else if (i <= 50) {\n",
    "       Age_group <- c(Age_group, '40 to 50')\n",
    "    } else if (i <= 60) {\n",
    "       Age_group <- c(Age_group, '50 to 60')\n",
    "    } else if (i <= 70) {\n",
    "       Age_group <- c(Age_group, '60 to 70')\n",
    "    } else {\n",
    "       Age_group <- c(Age_group, '70 and up')\n",
    "    }  \n",
    "}"
   ]
  },
  {
   "cell_type": "code",
   "execution_count": 7,
   "metadata": {
    "vscode": {
     "languageId": "r"
    }
   },
   "outputs": [
    {
     "data": {
      "text/html": [
       "<table class=\"dataframe\">\n",
       "<caption>A data.frame: 247 × 9</caption>\n",
       "<thead>\n",
       "\t<tr><th></th><th scope=col>Img</th><th scope=col>Age</th><th scope=col>Gender</th><th scope=col>Quality</th><th scope=col>Face_angle</th><th scope=col>Guess_age</th><th scope=col>Guess_gender</th><th scope=col>Guess_race</th><th scope=col>Guess_emotion</th></tr>\n",
       "\t<tr><th></th><th scope=col>&lt;chr&gt;</th><th scope=col>&lt;int&gt;</th><th scope=col>&lt;chr&gt;</th><th scope=col>&lt;chr&gt;</th><th scope=col>&lt;chr&gt;</th><th scope=col>&lt;int&gt;</th><th scope=col>&lt;chr&gt;</th><th scope=col>&lt;chr&gt;</th><th scope=col>&lt;chr&gt;</th></tr>\n",
       "</thead>\n",
       "<tbody>\n",
       "\t<tr><th scope=row>1</th><td>img1 </td><td> 3</td><td>Man  </td><td>Normal</td><td>Straight</td><td>28</td><td>Man  </td><td>asian</td><td>angry   </td></tr>\n",
       "\t<tr><th scope=row>2</th><td>img2 </td><td> 4</td><td>Woman</td><td>Normal</td><td>Straight</td><td>28</td><td>Man  </td><td>asian</td><td>angry   </td></tr>\n",
       "\t<tr><th scope=row>3</th><td>img3 </td><td> 2</td><td>Woman</td><td>Poor  </td><td>Straight</td><td>20</td><td>Woman</td><td>asian</td><td>happy   </td></tr>\n",
       "\t<tr><th scope=row>4</th><td>img4 </td><td> 4</td><td>Woman</td><td>Normal</td><td>Straight</td><td>33</td><td>Woman</td><td>asian</td><td>happy   </td></tr>\n",
       "\t<tr><th scope=row>5</th><td>img5 </td><td> 3</td><td>Woman</td><td>Normal</td><td>Right   </td><td>29</td><td>Man  </td><td>asian</td><td>neutral </td></tr>\n",
       "\t<tr><th scope=row>6</th><td>img6 </td><td> 1</td><td>Woman</td><td>Good  </td><td>Straight</td><td>29</td><td>Woman</td><td>asian</td><td>fear    </td></tr>\n",
       "\t<tr><th scope=row>7</th><td>img7 </td><td> 3</td><td>Man  </td><td>Good  </td><td>Left    </td><td>28</td><td>Man  </td><td>asian</td><td>surprise</td></tr>\n",
       "\t<tr><th scope=row>8</th><td>img8 </td><td> 2</td><td>Man  </td><td>Poor  </td><td>Straight</td><td>28</td><td>Man  </td><td>asian</td><td>neutral </td></tr>\n",
       "\t<tr><th scope=row>9</th><td>img9 </td><td> 1</td><td>Man  </td><td>Poor  </td><td>Straight</td><td>28</td><td>Woman</td><td>asian</td><td>fear    </td></tr>\n",
       "\t<tr><th scope=row>10</th><td>img10</td><td> 1</td><td>Man  </td><td>Poor  </td><td>Straight</td><td>20</td><td>Man  </td><td>asian</td><td>sad     </td></tr>\n",
       "\t<tr><th scope=row>11</th><td>img11</td><td> 1</td><td>Woman</td><td>Poor  </td><td>Left    </td><td>27</td><td>Man  </td><td>asian</td><td>happy   </td></tr>\n",
       "\t<tr><th scope=row>12</th><td>img12</td><td> 4</td><td>Woman</td><td>Poor  </td><td>Straight</td><td>23</td><td>Man  </td><td>asian</td><td>fear    </td></tr>\n",
       "\t<tr><th scope=row>13</th><td>img13</td><td> 5</td><td>Woman</td><td>Poor  </td><td>Right   </td><td>25</td><td>Woman</td><td>asian</td><td>fear    </td></tr>\n",
       "\t<tr><th scope=row>14</th><td>img14</td><td> 4</td><td>Woman</td><td>Poor  </td><td>Straight</td><td>22</td><td>Man  </td><td>asian</td><td>angry   </td></tr>\n",
       "\t<tr><th scope=row>15</th><td>img15</td><td> 4</td><td>Woman</td><td>Poor  </td><td>Straight</td><td>27</td><td>Man  </td><td>asian</td><td>neutral </td></tr>\n",
       "\t<tr><th scope=row>16</th><td>img16</td><td> 4</td><td>Woman</td><td>Poor  </td><td>Left    </td><td>25</td><td>Man  </td><td>asian</td><td>neutral </td></tr>\n",
       "\t<tr><th scope=row>17</th><td>img17</td><td> 4</td><td>Man  </td><td>Poor  </td><td>Straight</td><td>36</td><td>Woman</td><td>asian</td><td>happy   </td></tr>\n",
       "\t<tr><th scope=row>18</th><td>img18</td><td> 2</td><td>Man  </td><td>Poor  </td><td>Right   </td><td>23</td><td>Man  </td><td>asian</td><td>sad     </td></tr>\n",
       "\t<tr><th scope=row>19</th><td>img19</td><td> 2</td><td>Man  </td><td>Poor  </td><td>Straight</td><td>30</td><td>Man  </td><td>asian</td><td>happy   </td></tr>\n",
       "\t<tr><th scope=row>20</th><td>img20</td><td> 2</td><td>Man  </td><td>Normal</td><td>Straight</td><td>24</td><td>Man  </td><td>asian</td><td>sad     </td></tr>\n",
       "\t<tr><th scope=row>21</th><td>img31</td><td> 6</td><td>Man  </td><td>Good  </td><td>Straight</td><td>29</td><td>Man  </td><td>asian</td><td>sad     </td></tr>\n",
       "\t<tr><th scope=row>22</th><td>img32</td><td>10</td><td>Woman</td><td>Good  </td><td>Straight</td><td>24</td><td>Woman</td><td>asian</td><td>neutral </td></tr>\n",
       "\t<tr><th scope=row>23</th><td>img33</td><td> 7</td><td>Woman</td><td>Good  </td><td>Straight</td><td>31</td><td>Woman</td><td>asian</td><td>sad     </td></tr>\n",
       "\t<tr><th scope=row>24</th><td>img34</td><td>10</td><td>Woman</td><td>Normal</td><td>Straight</td><td>23</td><td>Woman</td><td>asian</td><td>sad     </td></tr>\n",
       "\t<tr><th scope=row>25</th><td>img35</td><td> 7</td><td>Woman</td><td>Good  </td><td>Straight</td><td>33</td><td>Man  </td><td>asian</td><td>happy   </td></tr>\n",
       "\t<tr><th scope=row>26</th><td>img36</td><td> 6</td><td>Woman</td><td>Hidden</td><td>Straight</td><td>21</td><td>Man  </td><td>asian</td><td>fear    </td></tr>\n",
       "\t<tr><th scope=row>27</th><td>img37</td><td>10</td><td>Woman</td><td>Good  </td><td>Straight</td><td>28</td><td>Woman</td><td>asian</td><td>fear    </td></tr>\n",
       "\t<tr><th scope=row>28</th><td>img38</td><td> 6</td><td>Man  </td><td>Poor  </td><td>Straight</td><td>30</td><td>Woman</td><td>asian</td><td>neutral </td></tr>\n",
       "\t<tr><th scope=row>29</th><td>img39</td><td> 6</td><td>Woman</td><td>Poor  </td><td>Straight</td><td>27</td><td>Man  </td><td>asian</td><td>happy   </td></tr>\n",
       "\t<tr><th scope=row>30</th><td>img40</td><td> 6</td><td>Man  </td><td>Poor  </td><td>Straight</td><td>20</td><td>Woman</td><td>asian</td><td>neutral </td></tr>\n",
       "\t<tr><th scope=row>...</th><td>...</td><td>...</td><td>...</td><td>...</td><td>...</td><td>...</td><td>...</td><td>...</td><td>...</td></tr>\n",
       "\t<tr><th scope=row>218</th><td>img296</td><td>63</td><td>Man  </td><td>Normal</td><td>Left    </td><td>42</td><td>Man  </td><td>asian</td><td>happy  </td></tr>\n",
       "\t<tr><th scope=row>219</th><td>img297</td><td>65</td><td>Man  </td><td>Normal</td><td>Straight</td><td>36</td><td>Man  </td><td>asian</td><td>neutral</td></tr>\n",
       "\t<tr><th scope=row>220</th><td>img298</td><td>60</td><td>Man  </td><td>Good  </td><td>Straight</td><td>44</td><td>Man  </td><td>asian</td><td>happy  </td></tr>\n",
       "\t<tr><th scope=row>221</th><td>img299</td><td>62</td><td>Man  </td><td>Normal</td><td>Straight</td><td>42</td><td>Man  </td><td>asian</td><td>neutral</td></tr>\n",
       "\t<tr><th scope=row>222</th><td>img300</td><td>62</td><td>Man  </td><td>Poor  </td><td>Straight</td><td>32</td><td>Man  </td><td>asian</td><td>happy  </td></tr>\n",
       "\t<tr><th scope=row>223</th><td>img311</td><td>80</td><td>Woman</td><td>Good  </td><td>Left    </td><td>27</td><td>Man  </td><td>asian</td><td>happy  </td></tr>\n",
       "\t<tr><th scope=row>224</th><td>img312</td><td>73</td><td>Woman</td><td>Good  </td><td>Straight</td><td>61</td><td>Man  </td><td>asian</td><td>happy  </td></tr>\n",
       "\t<tr><th scope=row>225</th><td>img313</td><td>75</td><td>Woman</td><td>Good  </td><td>Straight</td><td>41</td><td>Man  </td><td>white</td><td>fear   </td></tr>\n",
       "\t<tr><th scope=row>226</th><td>img314</td><td>74</td><td>Woman</td><td>Good  </td><td>Straight</td><td>56</td><td>Woman</td><td>asian</td><td>happy  </td></tr>\n",
       "\t<tr><th scope=row>227</th><td>img315</td><td>79</td><td>Woman</td><td>Good  </td><td>Straight</td><td>37</td><td>Man  </td><td>asian</td><td>neutral</td></tr>\n",
       "\t<tr><th scope=row>228</th><td>img316</td><td>72</td><td>Woman</td><td>Good  </td><td>Straight</td><td>42</td><td>Woman</td><td>asian</td><td>neutral</td></tr>\n",
       "\t<tr><th scope=row>229</th><td>img317</td><td>76</td><td>Woman</td><td>Good  </td><td>Right   </td><td>46</td><td>Woman</td><td>asian</td><td>angry  </td></tr>\n",
       "\t<tr><th scope=row>230</th><td>img318</td><td>75</td><td>Woman</td><td>Good  </td><td>Straight</td><td>46</td><td>Man  </td><td>asian</td><td>sad    </td></tr>\n",
       "\t<tr><th scope=row>231</th><td>img319</td><td>82</td><td>Woman</td><td>Good  </td><td>Straight</td><td>46</td><td>Woman</td><td>asian</td><td>happy  </td></tr>\n",
       "\t<tr><th scope=row>232</th><td>img320</td><td>80</td><td>Woman</td><td>Good  </td><td>Left    </td><td>41</td><td>Man  </td><td>asian</td><td>neutral</td></tr>\n",
       "\t<tr><th scope=row>233</th><td>img321</td><td>72</td><td>Woman</td><td>Good  </td><td>Straight</td><td>47</td><td>Man  </td><td>asian</td><td>happy  </td></tr>\n",
       "\t<tr><th scope=row>234</th><td>img322</td><td>77</td><td>Woman</td><td>Good  </td><td>Straight</td><td>51</td><td>Woman</td><td>asian</td><td>happy  </td></tr>\n",
       "\t<tr><th scope=row>235</th><td>img323</td><td>72</td><td>Man  </td><td>Good  </td><td>Straight</td><td>47</td><td>Woman</td><td>asian</td><td>fear   </td></tr>\n",
       "\t<tr><th scope=row>236</th><td>img324</td><td>71</td><td>Man  </td><td>Good  </td><td>Straight</td><td>39</td><td>Man  </td><td>asian</td><td>sad    </td></tr>\n",
       "\t<tr><th scope=row>237</th><td>img325</td><td>77</td><td>Man  </td><td>Good  </td><td>Left    </td><td>52</td><td>Man  </td><td>asian</td><td>happy  </td></tr>\n",
       "\t<tr><th scope=row>238</th><td>img326</td><td>74</td><td>Man  </td><td>Good  </td><td>Straight</td><td>47</td><td>Man  </td><td>asian</td><td>happy  </td></tr>\n",
       "\t<tr><th scope=row>239</th><td>img327</td><td>74</td><td>Man  </td><td>Good  </td><td>Straight</td><td>51</td><td>Man  </td><td>asian</td><td>fear   </td></tr>\n",
       "\t<tr><th scope=row>240</th><td>img328</td><td>78</td><td>Man  </td><td>Good  </td><td>Straight</td><td>48</td><td>Man  </td><td>asian</td><td>happy  </td></tr>\n",
       "\t<tr><th scope=row>241</th><td>img329</td><td>80</td><td>Man  </td><td>Good  </td><td>Straight</td><td>45</td><td>Man  </td><td>asian</td><td>sad    </td></tr>\n",
       "\t<tr><th scope=row>242</th><td>img330</td><td>78</td><td>Man  </td><td>Good  </td><td>Straight</td><td>42</td><td>Man  </td><td>white</td><td>sad    </td></tr>\n",
       "\t<tr><th scope=row>243</th><td>img331</td><td>73</td><td>Man  </td><td>Good  </td><td>Straight</td><td>55</td><td>Man  </td><td>asian</td><td>neutral</td></tr>\n",
       "\t<tr><th scope=row>244</th><td>img332</td><td>77</td><td>Man  </td><td>Good  </td><td>Straight</td><td>46</td><td>Man  </td><td>asian</td><td>angry  </td></tr>\n",
       "\t<tr><th scope=row>245</th><td>img333</td><td>73</td><td>Man  </td><td>Good  </td><td>Straight</td><td>52</td><td>Man  </td><td>asian</td><td>fear   </td></tr>\n",
       "\t<tr><th scope=row>246</th><td>img334</td><td>87</td><td>Man  </td><td>Good  </td><td>Straight</td><td>50</td><td>Man  </td><td>asian</td><td>neutral</td></tr>\n",
       "\t<tr><th scope=row>247</th><td>img335</td><td>86</td><td>Man  </td><td>Good  </td><td>Straight</td><td>33</td><td>Man  </td><td>asian</td><td>happy  </td></tr>\n",
       "</tbody>\n",
       "</table>\n"
      ],
      "text/latex": [
       "A data.frame: 247 × 9\n",
       "\\begin{tabular}{r|lllllllll}\n",
       "  & Img & Age & Gender & Quality & Face\\_angle & Guess\\_age & Guess\\_gender & Guess\\_race & Guess\\_emotion\\\\\n",
       "  & <chr> & <int> & <chr> & <chr> & <chr> & <int> & <chr> & <chr> & <chr>\\\\\n",
       "\\hline\n",
       "\t1 & img1  &  3 & Man   & Normal & Straight & 28 & Man   & asian & angry   \\\\\n",
       "\t2 & img2  &  4 & Woman & Normal & Straight & 28 & Man   & asian & angry   \\\\\n",
       "\t3 & img3  &  2 & Woman & Poor   & Straight & 20 & Woman & asian & happy   \\\\\n",
       "\t4 & img4  &  4 & Woman & Normal & Straight & 33 & Woman & asian & happy   \\\\\n",
       "\t5 & img5  &  3 & Woman & Normal & Right    & 29 & Man   & asian & neutral \\\\\n",
       "\t6 & img6  &  1 & Woman & Good   & Straight & 29 & Woman & asian & fear    \\\\\n",
       "\t7 & img7  &  3 & Man   & Good   & Left     & 28 & Man   & asian & surprise\\\\\n",
       "\t8 & img8  &  2 & Man   & Poor   & Straight & 28 & Man   & asian & neutral \\\\\n",
       "\t9 & img9  &  1 & Man   & Poor   & Straight & 28 & Woman & asian & fear    \\\\\n",
       "\t10 & img10 &  1 & Man   & Poor   & Straight & 20 & Man   & asian & sad     \\\\\n",
       "\t11 & img11 &  1 & Woman & Poor   & Left     & 27 & Man   & asian & happy   \\\\\n",
       "\t12 & img12 &  4 & Woman & Poor   & Straight & 23 & Man   & asian & fear    \\\\\n",
       "\t13 & img13 &  5 & Woman & Poor   & Right    & 25 & Woman & asian & fear    \\\\\n",
       "\t14 & img14 &  4 & Woman & Poor   & Straight & 22 & Man   & asian & angry   \\\\\n",
       "\t15 & img15 &  4 & Woman & Poor   & Straight & 27 & Man   & asian & neutral \\\\\n",
       "\t16 & img16 &  4 & Woman & Poor   & Left     & 25 & Man   & asian & neutral \\\\\n",
       "\t17 & img17 &  4 & Man   & Poor   & Straight & 36 & Woman & asian & happy   \\\\\n",
       "\t18 & img18 &  2 & Man   & Poor   & Right    & 23 & Man   & asian & sad     \\\\\n",
       "\t19 & img19 &  2 & Man   & Poor   & Straight & 30 & Man   & asian & happy   \\\\\n",
       "\t20 & img20 &  2 & Man   & Normal & Straight & 24 & Man   & asian & sad     \\\\\n",
       "\t21 & img31 &  6 & Man   & Good   & Straight & 29 & Man   & asian & sad     \\\\\n",
       "\t22 & img32 & 10 & Woman & Good   & Straight & 24 & Woman & asian & neutral \\\\\n",
       "\t23 & img33 &  7 & Woman & Good   & Straight & 31 & Woman & asian & sad     \\\\\n",
       "\t24 & img34 & 10 & Woman & Normal & Straight & 23 & Woman & asian & sad     \\\\\n",
       "\t25 & img35 &  7 & Woman & Good   & Straight & 33 & Man   & asian & happy   \\\\\n",
       "\t26 & img36 &  6 & Woman & Hidden & Straight & 21 & Man   & asian & fear    \\\\\n",
       "\t27 & img37 & 10 & Woman & Good   & Straight & 28 & Woman & asian & fear    \\\\\n",
       "\t28 & img38 &  6 & Man   & Poor   & Straight & 30 & Woman & asian & neutral \\\\\n",
       "\t29 & img39 &  6 & Woman & Poor   & Straight & 27 & Man   & asian & happy   \\\\\n",
       "\t30 & img40 &  6 & Man   & Poor   & Straight & 20 & Woman & asian & neutral \\\\\n",
       "\t... & ... & ... & ... & ... & ... & ... & ... & ... & ...\\\\\n",
       "\t218 & img296 & 63 & Man   & Normal & Left     & 42 & Man   & asian & happy  \\\\\n",
       "\t219 & img297 & 65 & Man   & Normal & Straight & 36 & Man   & asian & neutral\\\\\n",
       "\t220 & img298 & 60 & Man   & Good   & Straight & 44 & Man   & asian & happy  \\\\\n",
       "\t221 & img299 & 62 & Man   & Normal & Straight & 42 & Man   & asian & neutral\\\\\n",
       "\t222 & img300 & 62 & Man   & Poor   & Straight & 32 & Man   & asian & happy  \\\\\n",
       "\t223 & img311 & 80 & Woman & Good   & Left     & 27 & Man   & asian & happy  \\\\\n",
       "\t224 & img312 & 73 & Woman & Good   & Straight & 61 & Man   & asian & happy  \\\\\n",
       "\t225 & img313 & 75 & Woman & Good   & Straight & 41 & Man   & white & fear   \\\\\n",
       "\t226 & img314 & 74 & Woman & Good   & Straight & 56 & Woman & asian & happy  \\\\\n",
       "\t227 & img315 & 79 & Woman & Good   & Straight & 37 & Man   & asian & neutral\\\\\n",
       "\t228 & img316 & 72 & Woman & Good   & Straight & 42 & Woman & asian & neutral\\\\\n",
       "\t229 & img317 & 76 & Woman & Good   & Right    & 46 & Woman & asian & angry  \\\\\n",
       "\t230 & img318 & 75 & Woman & Good   & Straight & 46 & Man   & asian & sad    \\\\\n",
       "\t231 & img319 & 82 & Woman & Good   & Straight & 46 & Woman & asian & happy  \\\\\n",
       "\t232 & img320 & 80 & Woman & Good   & Left     & 41 & Man   & asian & neutral\\\\\n",
       "\t233 & img321 & 72 & Woman & Good   & Straight & 47 & Man   & asian & happy  \\\\\n",
       "\t234 & img322 & 77 & Woman & Good   & Straight & 51 & Woman & asian & happy  \\\\\n",
       "\t235 & img323 & 72 & Man   & Good   & Straight & 47 & Woman & asian & fear   \\\\\n",
       "\t236 & img324 & 71 & Man   & Good   & Straight & 39 & Man   & asian & sad    \\\\\n",
       "\t237 & img325 & 77 & Man   & Good   & Left     & 52 & Man   & asian & happy  \\\\\n",
       "\t238 & img326 & 74 & Man   & Good   & Straight & 47 & Man   & asian & happy  \\\\\n",
       "\t239 & img327 & 74 & Man   & Good   & Straight & 51 & Man   & asian & fear   \\\\\n",
       "\t240 & img328 & 78 & Man   & Good   & Straight & 48 & Man   & asian & happy  \\\\\n",
       "\t241 & img329 & 80 & Man   & Good   & Straight & 45 & Man   & asian & sad    \\\\\n",
       "\t242 & img330 & 78 & Man   & Good   & Straight & 42 & Man   & white & sad    \\\\\n",
       "\t243 & img331 & 73 & Man   & Good   & Straight & 55 & Man   & asian & neutral\\\\\n",
       "\t244 & img332 & 77 & Man   & Good   & Straight & 46 & Man   & asian & angry  \\\\\n",
       "\t245 & img333 & 73 & Man   & Good   & Straight & 52 & Man   & asian & fear   \\\\\n",
       "\t246 & img334 & 87 & Man   & Good   & Straight & 50 & Man   & asian & neutral\\\\\n",
       "\t247 & img335 & 86 & Man   & Good   & Straight & 33 & Man   & asian & happy  \\\\\n",
       "\\end{tabular}\n"
      ],
      "text/markdown": [
       "\n",
       "A data.frame: 247 × 9\n",
       "\n",
       "| <!--/--> | Img &lt;chr&gt; | Age &lt;int&gt; | Gender &lt;chr&gt; | Quality &lt;chr&gt; | Face_angle &lt;chr&gt; | Guess_age &lt;int&gt; | Guess_gender &lt;chr&gt; | Guess_race &lt;chr&gt; | Guess_emotion &lt;chr&gt; |\n",
       "|---|---|---|---|---|---|---|---|---|---|\n",
       "| 1 | img1  |  3 | Man   | Normal | Straight | 28 | Man   | asian | angry    |\n",
       "| 2 | img2  |  4 | Woman | Normal | Straight | 28 | Man   | asian | angry    |\n",
       "| 3 | img3  |  2 | Woman | Poor   | Straight | 20 | Woman | asian | happy    |\n",
       "| 4 | img4  |  4 | Woman | Normal | Straight | 33 | Woman | asian | happy    |\n",
       "| 5 | img5  |  3 | Woman | Normal | Right    | 29 | Man   | asian | neutral  |\n",
       "| 6 | img6  |  1 | Woman | Good   | Straight | 29 | Woman | asian | fear     |\n",
       "| 7 | img7  |  3 | Man   | Good   | Left     | 28 | Man   | asian | surprise |\n",
       "| 8 | img8  |  2 | Man   | Poor   | Straight | 28 | Man   | asian | neutral  |\n",
       "| 9 | img9  |  1 | Man   | Poor   | Straight | 28 | Woman | asian | fear     |\n",
       "| 10 | img10 |  1 | Man   | Poor   | Straight | 20 | Man   | asian | sad      |\n",
       "| 11 | img11 |  1 | Woman | Poor   | Left     | 27 | Man   | asian | happy    |\n",
       "| 12 | img12 |  4 | Woman | Poor   | Straight | 23 | Man   | asian | fear     |\n",
       "| 13 | img13 |  5 | Woman | Poor   | Right    | 25 | Woman | asian | fear     |\n",
       "| 14 | img14 |  4 | Woman | Poor   | Straight | 22 | Man   | asian | angry    |\n",
       "| 15 | img15 |  4 | Woman | Poor   | Straight | 27 | Man   | asian | neutral  |\n",
       "| 16 | img16 |  4 | Woman | Poor   | Left     | 25 | Man   | asian | neutral  |\n",
       "| 17 | img17 |  4 | Man   | Poor   | Straight | 36 | Woman | asian | happy    |\n",
       "| 18 | img18 |  2 | Man   | Poor   | Right    | 23 | Man   | asian | sad      |\n",
       "| 19 | img19 |  2 | Man   | Poor   | Straight | 30 | Man   | asian | happy    |\n",
       "| 20 | img20 |  2 | Man   | Normal | Straight | 24 | Man   | asian | sad      |\n",
       "| 21 | img31 |  6 | Man   | Good   | Straight | 29 | Man   | asian | sad      |\n",
       "| 22 | img32 | 10 | Woman | Good   | Straight | 24 | Woman | asian | neutral  |\n",
       "| 23 | img33 |  7 | Woman | Good   | Straight | 31 | Woman | asian | sad      |\n",
       "| 24 | img34 | 10 | Woman | Normal | Straight | 23 | Woman | asian | sad      |\n",
       "| 25 | img35 |  7 | Woman | Good   | Straight | 33 | Man   | asian | happy    |\n",
       "| 26 | img36 |  6 | Woman | Hidden | Straight | 21 | Man   | asian | fear     |\n",
       "| 27 | img37 | 10 | Woman | Good   | Straight | 28 | Woman | asian | fear     |\n",
       "| 28 | img38 |  6 | Man   | Poor   | Straight | 30 | Woman | asian | neutral  |\n",
       "| 29 | img39 |  6 | Woman | Poor   | Straight | 27 | Man   | asian | happy    |\n",
       "| 30 | img40 |  6 | Man   | Poor   | Straight | 20 | Woman | asian | neutral  |\n",
       "| ... | ... | ... | ... | ... | ... | ... | ... | ... | ... |\n",
       "| 218 | img296 | 63 | Man   | Normal | Left     | 42 | Man   | asian | happy   |\n",
       "| 219 | img297 | 65 | Man   | Normal | Straight | 36 | Man   | asian | neutral |\n",
       "| 220 | img298 | 60 | Man   | Good   | Straight | 44 | Man   | asian | happy   |\n",
       "| 221 | img299 | 62 | Man   | Normal | Straight | 42 | Man   | asian | neutral |\n",
       "| 222 | img300 | 62 | Man   | Poor   | Straight | 32 | Man   | asian | happy   |\n",
       "| 223 | img311 | 80 | Woman | Good   | Left     | 27 | Man   | asian | happy   |\n",
       "| 224 | img312 | 73 | Woman | Good   | Straight | 61 | Man   | asian | happy   |\n",
       "| 225 | img313 | 75 | Woman | Good   | Straight | 41 | Man   | white | fear    |\n",
       "| 226 | img314 | 74 | Woman | Good   | Straight | 56 | Woman | asian | happy   |\n",
       "| 227 | img315 | 79 | Woman | Good   | Straight | 37 | Man   | asian | neutral |\n",
       "| 228 | img316 | 72 | Woman | Good   | Straight | 42 | Woman | asian | neutral |\n",
       "| 229 | img317 | 76 | Woman | Good   | Right    | 46 | Woman | asian | angry   |\n",
       "| 230 | img318 | 75 | Woman | Good   | Straight | 46 | Man   | asian | sad     |\n",
       "| 231 | img319 | 82 | Woman | Good   | Straight | 46 | Woman | asian | happy   |\n",
       "| 232 | img320 | 80 | Woman | Good   | Left     | 41 | Man   | asian | neutral |\n",
       "| 233 | img321 | 72 | Woman | Good   | Straight | 47 | Man   | asian | happy   |\n",
       "| 234 | img322 | 77 | Woman | Good   | Straight | 51 | Woman | asian | happy   |\n",
       "| 235 | img323 | 72 | Man   | Good   | Straight | 47 | Woman | asian | fear    |\n",
       "| 236 | img324 | 71 | Man   | Good   | Straight | 39 | Man   | asian | sad     |\n",
       "| 237 | img325 | 77 | Man   | Good   | Left     | 52 | Man   | asian | happy   |\n",
       "| 238 | img326 | 74 | Man   | Good   | Straight | 47 | Man   | asian | happy   |\n",
       "| 239 | img327 | 74 | Man   | Good   | Straight | 51 | Man   | asian | fear    |\n",
       "| 240 | img328 | 78 | Man   | Good   | Straight | 48 | Man   | asian | happy   |\n",
       "| 241 | img329 | 80 | Man   | Good   | Straight | 45 | Man   | asian | sad     |\n",
       "| 242 | img330 | 78 | Man   | Good   | Straight | 42 | Man   | white | sad     |\n",
       "| 243 | img331 | 73 | Man   | Good   | Straight | 55 | Man   | asian | neutral |\n",
       "| 244 | img332 | 77 | Man   | Good   | Straight | 46 | Man   | asian | angry   |\n",
       "| 245 | img333 | 73 | Man   | Good   | Straight | 52 | Man   | asian | fear    |\n",
       "| 246 | img334 | 87 | Man   | Good   | Straight | 50 | Man   | asian | neutral |\n",
       "| 247 | img335 | 86 | Man   | Good   | Straight | 33 | Man   | asian | happy   |\n",
       "\n"
      ],
      "text/plain": [
       "    Img    Age Gender Quality Face_angle Guess_age Guess_gender Guess_race\n",
       "1   img1    3  Man    Normal  Straight   28        Man          asian     \n",
       "2   img2    4  Woman  Normal  Straight   28        Man          asian     \n",
       "3   img3    2  Woman  Poor    Straight   20        Woman        asian     \n",
       "4   img4    4  Woman  Normal  Straight   33        Woman        asian     \n",
       "5   img5    3  Woman  Normal  Right      29        Man          asian     \n",
       "6   img6    1  Woman  Good    Straight   29        Woman        asian     \n",
       "7   img7    3  Man    Good    Left       28        Man          asian     \n",
       "8   img8    2  Man    Poor    Straight   28        Man          asian     \n",
       "9   img9    1  Man    Poor    Straight   28        Woman        asian     \n",
       "10  img10   1  Man    Poor    Straight   20        Man          asian     \n",
       "11  img11   1  Woman  Poor    Left       27        Man          asian     \n",
       "12  img12   4  Woman  Poor    Straight   23        Man          asian     \n",
       "13  img13   5  Woman  Poor    Right      25        Woman        asian     \n",
       "14  img14   4  Woman  Poor    Straight   22        Man          asian     \n",
       "15  img15   4  Woman  Poor    Straight   27        Man          asian     \n",
       "16  img16   4  Woman  Poor    Left       25        Man          asian     \n",
       "17  img17   4  Man    Poor    Straight   36        Woman        asian     \n",
       "18  img18   2  Man    Poor    Right      23        Man          asian     \n",
       "19  img19   2  Man    Poor    Straight   30        Man          asian     \n",
       "20  img20   2  Man    Normal  Straight   24        Man          asian     \n",
       "21  img31   6  Man    Good    Straight   29        Man          asian     \n",
       "22  img32  10  Woman  Good    Straight   24        Woman        asian     \n",
       "23  img33   7  Woman  Good    Straight   31        Woman        asian     \n",
       "24  img34  10  Woman  Normal  Straight   23        Woman        asian     \n",
       "25  img35   7  Woman  Good    Straight   33        Man          asian     \n",
       "26  img36   6  Woman  Hidden  Straight   21        Man          asian     \n",
       "27  img37  10  Woman  Good    Straight   28        Woman        asian     \n",
       "28  img38   6  Man    Poor    Straight   30        Woman        asian     \n",
       "29  img39   6  Woman  Poor    Straight   27        Man          asian     \n",
       "30  img40   6  Man    Poor    Straight   20        Woman        asian     \n",
       "... ...    ... ...    ...     ...        ...       ...          ...       \n",
       "218 img296 63  Man    Normal  Left       42        Man          asian     \n",
       "219 img297 65  Man    Normal  Straight   36        Man          asian     \n",
       "220 img298 60  Man    Good    Straight   44        Man          asian     \n",
       "221 img299 62  Man    Normal  Straight   42        Man          asian     \n",
       "222 img300 62  Man    Poor    Straight   32        Man          asian     \n",
       "223 img311 80  Woman  Good    Left       27        Man          asian     \n",
       "224 img312 73  Woman  Good    Straight   61        Man          asian     \n",
       "225 img313 75  Woman  Good    Straight   41        Man          white     \n",
       "226 img314 74  Woman  Good    Straight   56        Woman        asian     \n",
       "227 img315 79  Woman  Good    Straight   37        Man          asian     \n",
       "228 img316 72  Woman  Good    Straight   42        Woman        asian     \n",
       "229 img317 76  Woman  Good    Right      46        Woman        asian     \n",
       "230 img318 75  Woman  Good    Straight   46        Man          asian     \n",
       "231 img319 82  Woman  Good    Straight   46        Woman        asian     \n",
       "232 img320 80  Woman  Good    Left       41        Man          asian     \n",
       "233 img321 72  Woman  Good    Straight   47        Man          asian     \n",
       "234 img322 77  Woman  Good    Straight   51        Woman        asian     \n",
       "235 img323 72  Man    Good    Straight   47        Woman        asian     \n",
       "236 img324 71  Man    Good    Straight   39        Man          asian     \n",
       "237 img325 77  Man    Good    Left       52        Man          asian     \n",
       "238 img326 74  Man    Good    Straight   47        Man          asian     \n",
       "239 img327 74  Man    Good    Straight   51        Man          asian     \n",
       "240 img328 78  Man    Good    Straight   48        Man          asian     \n",
       "241 img329 80  Man    Good    Straight   45        Man          asian     \n",
       "242 img330 78  Man    Good    Straight   42        Man          white     \n",
       "243 img331 73  Man    Good    Straight   55        Man          asian     \n",
       "244 img332 77  Man    Good    Straight   46        Man          asian     \n",
       "245 img333 73  Man    Good    Straight   52        Man          asian     \n",
       "246 img334 87  Man    Good    Straight   50        Man          asian     \n",
       "247 img335 86  Man    Good    Straight   33        Man          asian     \n",
       "    Guess_emotion\n",
       "1   angry        \n",
       "2   angry        \n",
       "3   happy        \n",
       "4   happy        \n",
       "5   neutral      \n",
       "6   fear         \n",
       "7   surprise     \n",
       "8   neutral      \n",
       "9   fear         \n",
       "10  sad          \n",
       "11  happy        \n",
       "12  fear         \n",
       "13  fear         \n",
       "14  angry        \n",
       "15  neutral      \n",
       "16  neutral      \n",
       "17  happy        \n",
       "18  sad          \n",
       "19  happy        \n",
       "20  sad          \n",
       "21  sad          \n",
       "22  neutral      \n",
       "23  sad          \n",
       "24  sad          \n",
       "25  happy        \n",
       "26  fear         \n",
       "27  fear         \n",
       "28  neutral      \n",
       "29  happy        \n",
       "30  neutral      \n",
       "... ...          \n",
       "218 happy        \n",
       "219 neutral      \n",
       "220 happy        \n",
       "221 neutral      \n",
       "222 happy        \n",
       "223 happy        \n",
       "224 happy        \n",
       "225 fear         \n",
       "226 happy        \n",
       "227 neutral      \n",
       "228 neutral      \n",
       "229 angry        \n",
       "230 sad          \n",
       "231 happy        \n",
       "232 neutral      \n",
       "233 happy        \n",
       "234 happy        \n",
       "235 fear         \n",
       "236 sad          \n",
       "237 happy        \n",
       "238 happy        \n",
       "239 fear         \n",
       "240 happy        \n",
       "241 sad          \n",
       "242 sad          \n",
       "243 neutral      \n",
       "244 angry        \n",
       "245 fear         \n",
       "246 neutral      \n",
       "247 happy        "
      ]
     },
     "metadata": {},
     "output_type": "display_data"
    }
   ],
   "source": [
    "index = 1\n",
    "for (i in df[,c('Gender')]) {\n",
    "    if (i == 'Boy' || i == 'boy'){\n",
    "        df[,c('Gender')][index] <- 'Man'\n",
    "    } else {\n",
    "        df[,c('Gender')][index] <- 'Woman'\n",
    "    }\n",
    "    index <- index + 1 \n",
    "}\n",
    "df"
   ]
  },
  {
   "cell_type": "markdown",
   "metadata": {},
   "source": [
    "Kiểm Tra dự đoán của DeepFace :"
   ]
  },
  {
   "cell_type": "code",
   "execution_count": 8,
   "metadata": {
    "vscode": {
     "languageId": "r"
    }
   },
   "outputs": [],
   "source": [
    "Verify_gender <- list()\n",
    "index = 1\n",
    "for (i in df[,c('Gender')]) {\n",
    "    if (i == df[,c('Guess_gender')][index]){\n",
    "        Verify_gender <- c(Verify_gender,'TRUE')\n",
    "    } else {\n",
    "        Verify_gender <- c(Verify_gender,'FALSE')\n",
    "    }\n",
    "    index <- index + 1 \n",
    "}"
   ]
  },
  {
   "cell_type": "markdown",
   "metadata": {},
   "source": [
    "Độ lệch dự đoán tuổi\n"
   ]
  },
  {
   "cell_type": "code",
   "execution_count": 9,
   "metadata": {
    "vscode": {
     "languageId": "r"
    }
   },
   "outputs": [],
   "source": [
    "Deviant <- list()\n",
    "index = 1\n",
    "for (i in df[,c('Age')]) {\n",
    "    Deviant <- c(Deviant,df[,c('Guess_age')][index] - i)\n",
    "    index <- index + 1\n",
    "}"
   ]
  },
  {
   "cell_type": "markdown",
   "metadata": {},
   "source": [
    "Đánh giá độ chính xác dự đoán tuổi:\n",
    "\n",
    "+ Lệch dưới 5 : God Prediction\n",
    "+ Lệch từ 5 -10 tuổi : Not Good Prediction\n",
    "+ Lệch Trên 10 tuổi : Bad Prediction"
   ]
  },
  {
   "cell_type": "code",
   "execution_count": 10,
   "metadata": {
    "vscode": {
     "languageId": "r"
    }
   },
   "outputs": [],
   "source": [
    "Age_accuracy <- list()\n",
    "index = 1\n",
    "for (i in df[,c('Age')]) {\n",
    "    if (abs(df[,c('Guess_age')][index] - i) <=5) {\n",
    "       Age_accuracy <- c(Age_accuracy, \"Good prediction\")\n",
    "    } else if (abs(df[,c('Guess_age')][index] - i) <=10) {\n",
    "       Age_accuracy <- c(Age_accuracy, \"Not Good prediction\")\n",
    "    } else {\n",
    "        Age_accuracy <- c(Age_accuracy, \"Bad prediction\")\n",
    "    }\n",
    "    \n",
    "    index <- index + 1\n",
    "}"
   ]
  },
  {
   "cell_type": "code",
   "execution_count": 11,
   "metadata": {
    "vscode": {
     "languageId": "r"
    }
   },
   "outputs": [],
   "source": [
    "df <- df %>%\n",
    "  add_column(Deviant = as.integer(Deviant),\n",
    "             .after = \"Guess_age\")\n",
    "df <- df %>%\n",
    "  add_column(Verify_gender = as.character(Verify_gender),\n",
    "             .after = \"Guess_gender\")\n",
    "df <- df %>%\n",
    "  add_column(Age_accuracy = as.character(Age_accuracy),\n",
    "             .after = \"Deviant\")\n",
    "df <- df %>%\n",
    "  add_column(Age_group = as.character(Age_group),\n",
    "             .after = \"Guess_emotion\")"
   ]
  },
  {
   "cell_type": "code",
   "execution_count": 12,
   "metadata": {
    "vscode": {
     "languageId": "r"
    }
   },
   "outputs": [
    {
     "data": {
      "text/html": [
       "<table class=\"dataframe\">\n",
       "<caption>A data.frame: 10 × 13</caption>\n",
       "<thead>\n",
       "\t<tr><th></th><th scope=col>Img</th><th scope=col>Age</th><th scope=col>Gender</th><th scope=col>Quality</th><th scope=col>Face_angle</th><th scope=col>Guess_age</th><th scope=col>Deviant</th><th scope=col>Age_accuracy</th><th scope=col>Guess_gender</th><th scope=col>Verify_gender</th><th scope=col>Guess_race</th><th scope=col>Guess_emotion</th><th scope=col>Age_group</th></tr>\n",
       "\t<tr><th></th><th scope=col>&lt;chr&gt;</th><th scope=col>&lt;int&gt;</th><th scope=col>&lt;chr&gt;</th><th scope=col>&lt;chr&gt;</th><th scope=col>&lt;chr&gt;</th><th scope=col>&lt;int&gt;</th><th scope=col>&lt;int&gt;</th><th scope=col>&lt;chr&gt;</th><th scope=col>&lt;chr&gt;</th><th scope=col>&lt;chr&gt;</th><th scope=col>&lt;chr&gt;</th><th scope=col>&lt;chr&gt;</th><th scope=col>&lt;chr&gt;</th></tr>\n",
       "</thead>\n",
       "<tbody>\n",
       "\t<tr><th scope=row>1</th><td>img1 </td><td>3</td><td>Man  </td><td>Normal</td><td>Straight</td><td>28</td><td>25</td><td>Bad prediction</td><td>Man  </td><td>TRUE </td><td>asian</td><td>angry   </td><td>less than 5</td></tr>\n",
       "\t<tr><th scope=row>2</th><td>img2 </td><td>4</td><td>Woman</td><td>Normal</td><td>Straight</td><td>28</td><td>24</td><td>Bad prediction</td><td>Man  </td><td>FALSE</td><td>asian</td><td>angry   </td><td>less than 5</td></tr>\n",
       "\t<tr><th scope=row>3</th><td>img3 </td><td>2</td><td>Woman</td><td>Poor  </td><td>Straight</td><td>20</td><td>18</td><td>Bad prediction</td><td>Woman</td><td>TRUE </td><td>asian</td><td>happy   </td><td>less than 5</td></tr>\n",
       "\t<tr><th scope=row>4</th><td>img4 </td><td>4</td><td>Woman</td><td>Normal</td><td>Straight</td><td>33</td><td>29</td><td>Bad prediction</td><td>Woman</td><td>TRUE </td><td>asian</td><td>happy   </td><td>less than 5</td></tr>\n",
       "\t<tr><th scope=row>5</th><td>img5 </td><td>3</td><td>Woman</td><td>Normal</td><td>Right   </td><td>29</td><td>26</td><td>Bad prediction</td><td>Man  </td><td>FALSE</td><td>asian</td><td>neutral </td><td>less than 5</td></tr>\n",
       "\t<tr><th scope=row>6</th><td>img6 </td><td>1</td><td>Woman</td><td>Good  </td><td>Straight</td><td>29</td><td>28</td><td>Bad prediction</td><td>Woman</td><td>TRUE </td><td>asian</td><td>fear    </td><td>less than 5</td></tr>\n",
       "\t<tr><th scope=row>7</th><td>img7 </td><td>3</td><td>Man  </td><td>Good  </td><td>Left    </td><td>28</td><td>25</td><td>Bad prediction</td><td>Man  </td><td>TRUE </td><td>asian</td><td>surprise</td><td>less than 5</td></tr>\n",
       "\t<tr><th scope=row>8</th><td>img8 </td><td>2</td><td>Man  </td><td>Poor  </td><td>Straight</td><td>28</td><td>26</td><td>Bad prediction</td><td>Man  </td><td>TRUE </td><td>asian</td><td>neutral </td><td>less than 5</td></tr>\n",
       "\t<tr><th scope=row>9</th><td>img9 </td><td>1</td><td>Man  </td><td>Poor  </td><td>Straight</td><td>28</td><td>27</td><td>Bad prediction</td><td>Woman</td><td>FALSE</td><td>asian</td><td>fear    </td><td>less than 5</td></tr>\n",
       "\t<tr><th scope=row>10</th><td>img10</td><td>1</td><td>Man  </td><td>Poor  </td><td>Straight</td><td>20</td><td>19</td><td>Bad prediction</td><td>Man  </td><td>TRUE </td><td>asian</td><td>sad     </td><td>less than 5</td></tr>\n",
       "</tbody>\n",
       "</table>\n"
      ],
      "text/latex": [
       "A data.frame: 10 × 13\n",
       "\\begin{tabular}{r|lllllllllllll}\n",
       "  & Img & Age & Gender & Quality & Face\\_angle & Guess\\_age & Deviant & Age\\_accuracy & Guess\\_gender & Verify\\_gender & Guess\\_race & Guess\\_emotion & Age\\_group\\\\\n",
       "  & <chr> & <int> & <chr> & <chr> & <chr> & <int> & <int> & <chr> & <chr> & <chr> & <chr> & <chr> & <chr>\\\\\n",
       "\\hline\n",
       "\t1 & img1  & 3 & Man   & Normal & Straight & 28 & 25 & Bad prediction & Man   & TRUE  & asian & angry    & less than 5\\\\\n",
       "\t2 & img2  & 4 & Woman & Normal & Straight & 28 & 24 & Bad prediction & Man   & FALSE & asian & angry    & less than 5\\\\\n",
       "\t3 & img3  & 2 & Woman & Poor   & Straight & 20 & 18 & Bad prediction & Woman & TRUE  & asian & happy    & less than 5\\\\\n",
       "\t4 & img4  & 4 & Woman & Normal & Straight & 33 & 29 & Bad prediction & Woman & TRUE  & asian & happy    & less than 5\\\\\n",
       "\t5 & img5  & 3 & Woman & Normal & Right    & 29 & 26 & Bad prediction & Man   & FALSE & asian & neutral  & less than 5\\\\\n",
       "\t6 & img6  & 1 & Woman & Good   & Straight & 29 & 28 & Bad prediction & Woman & TRUE  & asian & fear     & less than 5\\\\\n",
       "\t7 & img7  & 3 & Man   & Good   & Left     & 28 & 25 & Bad prediction & Man   & TRUE  & asian & surprise & less than 5\\\\\n",
       "\t8 & img8  & 2 & Man   & Poor   & Straight & 28 & 26 & Bad prediction & Man   & TRUE  & asian & neutral  & less than 5\\\\\n",
       "\t9 & img9  & 1 & Man   & Poor   & Straight & 28 & 27 & Bad prediction & Woman & FALSE & asian & fear     & less than 5\\\\\n",
       "\t10 & img10 & 1 & Man   & Poor   & Straight & 20 & 19 & Bad prediction & Man   & TRUE  & asian & sad      & less than 5\\\\\n",
       "\\end{tabular}\n"
      ],
      "text/markdown": [
       "\n",
       "A data.frame: 10 × 13\n",
       "\n",
       "| <!--/--> | Img &lt;chr&gt; | Age &lt;int&gt; | Gender &lt;chr&gt; | Quality &lt;chr&gt; | Face_angle &lt;chr&gt; | Guess_age &lt;int&gt; | Deviant &lt;int&gt; | Age_accuracy &lt;chr&gt; | Guess_gender &lt;chr&gt; | Verify_gender &lt;chr&gt; | Guess_race &lt;chr&gt; | Guess_emotion &lt;chr&gt; | Age_group &lt;chr&gt; |\n",
       "|---|---|---|---|---|---|---|---|---|---|---|---|---|---|\n",
       "| 1 | img1  | 3 | Man   | Normal | Straight | 28 | 25 | Bad prediction | Man   | TRUE  | asian | angry    | less than 5 |\n",
       "| 2 | img2  | 4 | Woman | Normal | Straight | 28 | 24 | Bad prediction | Man   | FALSE | asian | angry    | less than 5 |\n",
       "| 3 | img3  | 2 | Woman | Poor   | Straight | 20 | 18 | Bad prediction | Woman | TRUE  | asian | happy    | less than 5 |\n",
       "| 4 | img4  | 4 | Woman | Normal | Straight | 33 | 29 | Bad prediction | Woman | TRUE  | asian | happy    | less than 5 |\n",
       "| 5 | img5  | 3 | Woman | Normal | Right    | 29 | 26 | Bad prediction | Man   | FALSE | asian | neutral  | less than 5 |\n",
       "| 6 | img6  | 1 | Woman | Good   | Straight | 29 | 28 | Bad prediction | Woman | TRUE  | asian | fear     | less than 5 |\n",
       "| 7 | img7  | 3 | Man   | Good   | Left     | 28 | 25 | Bad prediction | Man   | TRUE  | asian | surprise | less than 5 |\n",
       "| 8 | img8  | 2 | Man   | Poor   | Straight | 28 | 26 | Bad prediction | Man   | TRUE  | asian | neutral  | less than 5 |\n",
       "| 9 | img9  | 1 | Man   | Poor   | Straight | 28 | 27 | Bad prediction | Woman | FALSE | asian | fear     | less than 5 |\n",
       "| 10 | img10 | 1 | Man   | Poor   | Straight | 20 | 19 | Bad prediction | Man   | TRUE  | asian | sad      | less than 5 |\n",
       "\n"
      ],
      "text/plain": [
       "   Img   Age Gender Quality Face_angle Guess_age Deviant Age_accuracy  \n",
       "1  img1  3   Man    Normal  Straight   28        25      Bad prediction\n",
       "2  img2  4   Woman  Normal  Straight   28        24      Bad prediction\n",
       "3  img3  2   Woman  Poor    Straight   20        18      Bad prediction\n",
       "4  img4  4   Woman  Normal  Straight   33        29      Bad prediction\n",
       "5  img5  3   Woman  Normal  Right      29        26      Bad prediction\n",
       "6  img6  1   Woman  Good    Straight   29        28      Bad prediction\n",
       "7  img7  3   Man    Good    Left       28        25      Bad prediction\n",
       "8  img8  2   Man    Poor    Straight   28        26      Bad prediction\n",
       "9  img9  1   Man    Poor    Straight   28        27      Bad prediction\n",
       "10 img10 1   Man    Poor    Straight   20        19      Bad prediction\n",
       "   Guess_gender Verify_gender Guess_race Guess_emotion Age_group  \n",
       "1  Man          TRUE          asian      angry         less than 5\n",
       "2  Man          FALSE         asian      angry         less than 5\n",
       "3  Woman        TRUE          asian      happy         less than 5\n",
       "4  Woman        TRUE          asian      happy         less than 5\n",
       "5  Man          FALSE         asian      neutral       less than 5\n",
       "6  Woman        TRUE          asian      fear          less than 5\n",
       "7  Man          TRUE          asian      surprise      less than 5\n",
       "8  Man          TRUE          asian      neutral       less than 5\n",
       "9  Woman        FALSE         asian      fear          less than 5\n",
       "10 Man          TRUE          asian      sad           less than 5"
      ]
     },
     "metadata": {},
     "output_type": "display_data"
    }
   ],
   "source": [
    "head(df, 10)"
   ]
  },
  {
   "cell_type": "code",
   "execution_count": 13,
   "metadata": {
    "vscode": {
     "languageId": "r"
    }
   },
   "outputs": [],
   "source": [
    "Mode <- function(dataframe){\n",
    "    mode <- c()\n",
    "    name <- c()\n",
    "\n",
    "    getmode <- function(v) {\n",
    "        uniqv <- unique(v)\n",
    "        uniqv[which.max(tabulate(match(v, uniqv)))]\n",
    "    }\n",
    "    for (i in names(dataframe)){\n",
    "        name <- c(name,i)\n",
    "    } \n",
    "    for (i in 1:length(dataframe)){\n",
    "        mode <- c(mode, getmode(df[,i]))\n",
    "    }\n",
    "    data.frame(name,mode)\n",
    "}"
   ]
  },
  {
   "cell_type": "markdown",
   "metadata": {},
   "source": [
    "(1)Làm thêm các thống kê về số lượng \n",
    "+ Góc mặt ( Số góc mặt thẳng, trái ,phải , che) \n",
    "+ Chất lượng ảnh (tương tự ở trên)\n"
   ]
  },
  {
   "cell_type": "code",
   "execution_count": 14,
   "metadata": {
    "vscode": {
     "languageId": "r"
    }
   },
   "outputs": [
    {
     "data": {
      "text/html": [
       "<table class=\"dataframe\">\n",
       "<caption>A data.frame: 13 × 2</caption>\n",
       "<thead>\n",
       "\t<tr><th scope=col>name</th><th scope=col>mode</th></tr>\n",
       "\t<tr><th scope=col>&lt;chr&gt;</th><th scope=col>&lt;chr&gt;</th></tr>\n",
       "</thead>\n",
       "<tbody>\n",
       "\t<tr><td>Img          </td><td>img1          </td></tr>\n",
       "\t<tr><td>Age          </td><td>14            </td></tr>\n",
       "\t<tr><td>Gender       </td><td>Man           </td></tr>\n",
       "\t<tr><td>Quality      </td><td>Good          </td></tr>\n",
       "\t<tr><td>Face_angle   </td><td>Straight      </td></tr>\n",
       "\t<tr><td>Guess_age    </td><td>28            </td></tr>\n",
       "\t<tr><td>Deviant      </td><td>18            </td></tr>\n",
       "\t<tr><td>Age_accuracy </td><td>Bad prediction</td></tr>\n",
       "\t<tr><td>Guess_gender </td><td>Man           </td></tr>\n",
       "\t<tr><td>Verify_gender</td><td>TRUE          </td></tr>\n",
       "\t<tr><td>Guess_race   </td><td>asian         </td></tr>\n",
       "\t<tr><td>Guess_emotion</td><td>happy         </td></tr>\n",
       "\t<tr><td>Age_group    </td><td>20 to 30      </td></tr>\n",
       "</tbody>\n",
       "</table>\n"
      ],
      "text/latex": [
       "A data.frame: 13 × 2\n",
       "\\begin{tabular}{ll}\n",
       " name & mode\\\\\n",
       " <chr> & <chr>\\\\\n",
       "\\hline\n",
       "\t Img           & img1          \\\\\n",
       "\t Age           & 14            \\\\\n",
       "\t Gender        & Man           \\\\\n",
       "\t Quality       & Good          \\\\\n",
       "\t Face\\_angle    & Straight      \\\\\n",
       "\t Guess\\_age     & 28            \\\\\n",
       "\t Deviant       & 18            \\\\\n",
       "\t Age\\_accuracy  & Bad prediction\\\\\n",
       "\t Guess\\_gender  & Man           \\\\\n",
       "\t Verify\\_gender & TRUE          \\\\\n",
       "\t Guess\\_race    & asian         \\\\\n",
       "\t Guess\\_emotion & happy         \\\\\n",
       "\t Age\\_group     & 20 to 30      \\\\\n",
       "\\end{tabular}\n"
      ],
      "text/markdown": [
       "\n",
       "A data.frame: 13 × 2\n",
       "\n",
       "| name &lt;chr&gt; | mode &lt;chr&gt; |\n",
       "|---|---|\n",
       "| Img           | img1           |\n",
       "| Age           | 14             |\n",
       "| Gender        | Man            |\n",
       "| Quality       | Good           |\n",
       "| Face_angle    | Straight       |\n",
       "| Guess_age     | 28             |\n",
       "| Deviant       | 18             |\n",
       "| Age_accuracy  | Bad prediction |\n",
       "| Guess_gender  | Man            |\n",
       "| Verify_gender | TRUE           |\n",
       "| Guess_race    | asian          |\n",
       "| Guess_emotion | happy          |\n",
       "| Age_group     | 20 to 30       |\n",
       "\n"
      ],
      "text/plain": [
       "   name          mode          \n",
       "1  Img           img1          \n",
       "2  Age           14            \n",
       "3  Gender        Man           \n",
       "4  Quality       Good          \n",
       "5  Face_angle    Straight      \n",
       "6  Guess_age     28            \n",
       "7  Deviant       18            \n",
       "8  Age_accuracy  Bad prediction\n",
       "9  Guess_gender  Man           \n",
       "10 Verify_gender TRUE          \n",
       "11 Guess_race    asian         \n",
       "12 Guess_emotion happy         \n",
       "13 Age_group     20 to 30      "
      ]
     },
     "metadata": {},
     "output_type": "display_data"
    }
   ],
   "source": [
    "Mode(df)"
   ]
  },
  {
   "cell_type": "markdown",
   "metadata": {},
   "source": [
    "(2) Biểu đồ Box Plot về dư đoán tuổi ở các nhóm:\n",
    "\n",
    "Cột Y tuổi dự đoán \n",
    "\n",
    "Cột X Các Nhóm tuổi"
   ]
  },
  {
   "cell_type": "markdown",
   "metadata": {},
   "source": [
    "Đánh giá dự đoán về giới tính:"
   ]
  },
  {
   "cell_type": "code",
   "execution_count": 15,
   "metadata": {
    "vscode": {
     "languageId": "r"
    }
   },
   "outputs": [
    {
     "data": {
      "text/html": [
       "<table class=\"dataframe\">\n",
       "<caption>A data.frame: 2 × 2</caption>\n",
       "<thead>\n",
       "\t<tr><th></th><th scope=col>Var1</th><th scope=col>Freq</th></tr>\n",
       "\t<tr><th></th><th scope=col>&lt;fct&gt;</th><th scope=col>&lt;int&gt;</th></tr>\n",
       "</thead>\n",
       "<tbody>\n",
       "\t<tr><th scope=row>1</th><td>FALSE</td><td> 92</td></tr>\n",
       "\t<tr><th scope=row>2</th><td>TRUE </td><td>155</td></tr>\n",
       "</tbody>\n",
       "</table>\n"
      ],
      "text/latex": [
       "A data.frame: 2 × 2\n",
       "\\begin{tabular}{r|ll}\n",
       "  & Var1 & Freq\\\\\n",
       "  & <fct> & <int>\\\\\n",
       "\\hline\n",
       "\t1 & FALSE &  92\\\\\n",
       "\t2 & TRUE  & 155\\\\\n",
       "\\end{tabular}\n"
      ],
      "text/markdown": [
       "\n",
       "A data.frame: 2 × 2\n",
       "\n",
       "| <!--/--> | Var1 &lt;fct&gt; | Freq &lt;int&gt; |\n",
       "|---|---|---|\n",
       "| 1 | FALSE |  92 |\n",
       "| 2 | TRUE  | 155 |\n",
       "\n"
      ],
      "text/plain": [
       "  Var1  Freq\n",
       "1 FALSE  92 \n",
       "2 TRUE  155 "
      ]
     },
     "metadata": {},
     "output_type": "display_data"
    }
   ],
   "source": [
    "tab = data.frame(table(df$Verify_gender))\n",
    "head(tab)"
   ]
  },
  {
   "cell_type": "markdown",
   "metadata": {},
   "source": [
    "**Phước**  \n",
    "(3)\n",
    "Biểu đồ đánh giá độ chính xác trong dự đoán về giới tính \n",
    "\n",
    "( Bar chart cột ngang, vẽ theo tỉ lệ phần trăm TRUE, FALSE)\n",
    "\n",
    "Nhận xét độ chính xác của việc dự đoán Giới tính của DEEPFACE"
   ]
  },
  {
   "cell_type": "markdown",
   "metadata": {},
   "source": [
    "----\n",
    "Bảng dự đoán dân tộc\n",
    "\n",
    "**Phước**\n",
    "\n",
    "Biểu đồ bar chart đánh giá phần trăm dự đoán đúng (asian) Phần trăm dự đoán sai( các dân tộc còn lại)\n",
    "\n",
    "Nhận xét :"
   ]
  },
  {
   "cell_type": "code",
   "execution_count": 16,
   "metadata": {
    "vscode": {
     "languageId": "r"
    }
   },
   "outputs": [
    {
     "data": {
      "text/html": [
       "<table class=\"dataframe\">\n",
       "<caption>A data.frame: 4 × 2</caption>\n",
       "<thead>\n",
       "\t<tr><th></th><th scope=col>Var1</th><th scope=col>Freq</th></tr>\n",
       "\t<tr><th></th><th scope=col>&lt;fct&gt;</th><th scope=col>&lt;int&gt;</th></tr>\n",
       "</thead>\n",
       "<tbody>\n",
       "\t<tr><th scope=row>1</th><td>asian          </td><td>230</td></tr>\n",
       "\t<tr><th scope=row>2</th><td>indian         </td><td>  1</td></tr>\n",
       "\t<tr><th scope=row>3</th><td>latino hispanic</td><td>  4</td></tr>\n",
       "\t<tr><th scope=row>4</th><td>white          </td><td> 12</td></tr>\n",
       "</tbody>\n",
       "</table>\n"
      ],
      "text/latex": [
       "A data.frame: 4 × 2\n",
       "\\begin{tabular}{r|ll}\n",
       "  & Var1 & Freq\\\\\n",
       "  & <fct> & <int>\\\\\n",
       "\\hline\n",
       "\t1 & asian           & 230\\\\\n",
       "\t2 & indian          &   1\\\\\n",
       "\t3 & latino hispanic &   4\\\\\n",
       "\t4 & white           &  12\\\\\n",
       "\\end{tabular}\n"
      ],
      "text/markdown": [
       "\n",
       "A data.frame: 4 × 2\n",
       "\n",
       "| <!--/--> | Var1 &lt;fct&gt; | Freq &lt;int&gt; |\n",
       "|---|---|---|\n",
       "| 1 | asian           | 230 |\n",
       "| 2 | indian          |   1 |\n",
       "| 3 | latino hispanic |   4 |\n",
       "| 4 | white           |  12 |\n",
       "\n"
      ],
      "text/plain": [
       "  Var1            Freq\n",
       "1 asian           230 \n",
       "2 indian            1 \n",
       "3 latino hispanic   4 \n",
       "4 white            12 "
      ]
     },
     "metadata": {},
     "output_type": "display_data"
    }
   ],
   "source": [
    "tab = data.frame(table(df$Guess_race))\n",
    "head(tab)"
   ]
  },
  {
   "cell_type": "code",
   "execution_count": 17,
   "metadata": {},
   "outputs": [
    {
     "data": {
      "image/png": "[encoded data removed]",
      "text/plain": [
       "Plot with title \"Compare the number between the different Valuation\""
      ]
     },
     "metadata": {
      "image/png": {
       "height": 420,
       "width": 420
      }
     },
     "output_type": "display_data"
    }
   ],
   "source": [
    "barplot(height=tab$Freq, names=tab$Var1,  \n",
    "        col=\"#10c3d4\",\n",
    "        horiz=T, las=0,\n",
    "        xlab=\"Quantily\", \n",
    "        main=\"Compare the number between the different Valuation\",\n",
    "        )"
   ]
  },
  {
   "cell_type": "code",
   "execution_count": 18,
   "metadata": {},
   "outputs": [
    {
     "data": {
      "image/png": "[encoded data removed]",
      "text/plain": [
       "plot without title"
      ]
     },
     "metadata": {
      "image/png": {
       "height": 420,
       "width": 420
      }
     },
     "output_type": "display_data"
    }
   ],
   "source": [
    " pie(c(230,1,4,12), c(\"Chau A\",\"An Đo\",\" Tay Ban Nha \",\"White\"),\n",
    "       col=2:5, edges=10000, lwd=10, clockwise=TRUE)"
   ]
  },
  {
   "cell_type": "markdown",
   "metadata": {},
   "source": [
    "**Bảng đánh giá độ chính xác của dự đoán về tuổi**\n",
    "\n",
    "\n",
    "**Phước**\n",
    "\n",
    "Biểu đồ đánh giá dự đoán về tuổi theo phần trăm (bar chart)"
   ]
  },
  {
   "cell_type": "code",
   "execution_count": 19,
   "metadata": {
    "vscode": {
     "languageId": "r"
    }
   },
   "outputs": [
    {
     "data": {
      "text/html": [
       "<table class=\"dataframe\">\n",
       "<caption>A matrix: 2 × 3 of type chr</caption>\n",
       "<tbody>\n",
       "\t<tr><th scope=row>Var1</th><td>Bad prediction</td><td>Good prediction</td><td>Not Good prediction</td></tr>\n",
       "\t<tr><th scope=row>Freq</th><td>159           </td><td> 48            </td><td> 40                </td></tr>\n",
       "</tbody>\n",
       "</table>\n"
      ],
      "text/latex": [
       "A matrix: 2 × 3 of type chr\n",
       "\\begin{tabular}{r|lll}\n",
       "\tVar1 & Bad prediction & Good prediction & Not Good prediction\\\\\n",
       "\tFreq & 159            &  48             &  40                \\\\\n",
       "\\end{tabular}\n"
      ],
      "text/markdown": [
       "\n",
       "A matrix: 2 × 3 of type chr\n",
       "\n",
       "| Var1 | Bad prediction | Good prediction | Not Good prediction |\n",
       "| Freq | 159            |  48             |  40                 |\n",
       "\n"
      ],
      "text/plain": [
       "     [,1]           [,2]            [,3]               \n",
       "Var1 Bad prediction Good prediction Not Good prediction\n",
       "Freq 159             48              40                "
      ]
     },
     "metadata": {},
     "output_type": "display_data"
    }
   ],
   "source": [
    "tab = data.frame(table(df$Age_accuracy))\n",
    "t(tab)"
   ]
  },
  {
   "cell_type": "code",
   "execution_count": 20,
   "metadata": {},
   "outputs": [
    {
     "data": {
      "image/png": "[encoded data removed]",
      "text/plain": [
       "Plot with title \"Compare the number between the different Valuation\""
      ]
     },
     "metadata": {
      "image/png": {
       "height": 420,
       "width": 420
      }
     },
     "output_type": "display_data"
    }
   ],
   "source": [
    "barplot(height=tab$Freq, names=tab$Var1,  \n",
    "        col=\"#20a3d4\",\n",
    "        horiz=T, las=0,\n",
    "        xlab=\"Quantily\", \n",
    "        main=\"Compare the number between the different Valuation\",\n",
    "        )"
   ]
  },
  {
   "cell_type": "markdown",
   "metadata": {},
   "source": [
    "Bảng trung bình dự đoán tuổi của các nhóm tuổi"
   ]
  },
  {
   "cell_type": "code",
   "execution_count": 36,
   "metadata": {
    "vscode": {
     "languageId": "r"
    }
   },
   "outputs": [
    {
     "data": {
      "text/html": [
       "<table class=\"dataframe\">\n",
       "<caption>A data.frame: 10 × 2</caption>\n",
       "<thead>\n",
       "\t<tr><th></th><th scope=col>Age_group</th><th scope=col>Guess_age</th></tr>\n",
       "\t<tr><th></th><th scope=col>&lt;chr&gt;</th><th scope=col>&lt;dbl&gt;</th></tr>\n",
       "</thead>\n",
       "<tbody>\n",
       "\t<tr><th scope=row>1</th><td>10 to 15   </td><td>27.20000</td></tr>\n",
       "\t<tr><th scope=row>2</th><td>15 to 20   </td><td>26.10000</td></tr>\n",
       "\t<tr><th scope=row>3</th><td>20 to 30   </td><td>29.12195</td></tr>\n",
       "\t<tr><th scope=row>4</th><td>30 to 40   </td><td>28.66667</td></tr>\n",
       "\t<tr><th scope=row>5</th><td>40 to 50   </td><td>34.16667</td></tr>\n",
       "\t<tr><th scope=row>6</th><td>5 to 10    </td><td>27.28571</td></tr>\n",
       "\t<tr><th scope=row>7</th><td>50 to 60   </td><td>38.89286</td></tr>\n",
       "\t<tr><th scope=row>8</th><td>60 to 70   </td><td>38.42857</td></tr>\n",
       "\t<tr><th scope=row>9</th><td>70 and up  </td><td>45.53571</td></tr>\n",
       "\t<tr><th scope=row>10</th><td>less than 5</td><td>26.65000</td></tr>\n",
       "</tbody>\n",
       "</table>\n"
      ],
      "text/latex": [
       "A data.frame: 10 × 2\n",
       "\\begin{tabular}{r|ll}\n",
       "  & Age\\_group & Guess\\_age\\\\\n",
       "  & <chr> & <dbl>\\\\\n",
       "\\hline\n",
       "\t1 & 10 to 15    & 27.20000\\\\\n",
       "\t2 & 15 to 20    & 26.10000\\\\\n",
       "\t3 & 20 to 30    & 29.12195\\\\\n",
       "\t4 & 30 to 40    & 28.66667\\\\\n",
       "\t5 & 40 to 50    & 34.16667\\\\\n",
       "\t6 & 5 to 10     & 27.28571\\\\\n",
       "\t7 & 50 to 60    & 38.89286\\\\\n",
       "\t8 & 60 to 70    & 38.42857\\\\\n",
       "\t9 & 70 and up   & 45.53571\\\\\n",
       "\t10 & less than 5 & 26.65000\\\\\n",
       "\\end{tabular}\n"
      ],
      "text/markdown": [
       "\n",
       "A data.frame: 10 × 2\n",
       "\n",
       "| <!--/--> | Age_group &lt;chr&gt; | Guess_age &lt;dbl&gt; |\n",
       "|---|---|---|\n",
       "| 1 | 10 to 15    | 27.20000 |\n",
       "| 2 | 15 to 20    | 26.10000 |\n",
       "| 3 | 20 to 30    | 29.12195 |\n",
       "| 4 | 30 to 40    | 28.66667 |\n",
       "| 5 | 40 to 50    | 34.16667 |\n",
       "| 6 | 5 to 10     | 27.28571 |\n",
       "| 7 | 50 to 60    | 38.89286 |\n",
       "| 8 | 60 to 70    | 38.42857 |\n",
       "| 9 | 70 and up   | 45.53571 |\n",
       "| 10 | less than 5 | 26.65000 |\n",
       "\n"
      ],
      "text/plain": [
       "   Age_group   Guess_age\n",
       "1  10 to 15    27.20000 \n",
       "2  15 to 20    26.10000 \n",
       "3  20 to 30    29.12195 \n",
       "4  30 to 40    28.66667 \n",
       "5  40 to 50    34.16667 \n",
       "6  5 to 10     27.28571 \n",
       "7  50 to 60    38.89286 \n",
       "8  60 to 70    38.42857 \n",
       "9  70 and up   45.53571 \n",
       "10 less than 5 26.65000 "
      ]
     },
     "metadata": {},
     "output_type": "display_data"
    },
    {
     "data": {
      "text/html": [
       "<table class=\"dataframe\">\n",
       "<caption>A data.frame: 10 × 2</caption>\n",
       "<thead>\n",
       "\t<tr><th></th><th scope=col>Age_group</th><th scope=col>Age</th></tr>\n",
       "\t<tr><th></th><th scope=col>&lt;chr&gt;</th><th scope=col>&lt;dbl&gt;</th></tr>\n",
       "</thead>\n",
       "<tbody>\n",
       "\t<tr><th scope=row>1</th><td>10 to 15   </td><td>13.166667</td></tr>\n",
       "\t<tr><th scope=row>2</th><td>15 to 20   </td><td>17.650000</td></tr>\n",
       "\t<tr><th scope=row>3</th><td>20 to 30   </td><td>25.243902</td></tr>\n",
       "\t<tr><th scope=row>4</th><td>30 to 40   </td><td>34.285714</td></tr>\n",
       "\t<tr><th scope=row>5</th><td>40 to 50   </td><td>46.500000</td></tr>\n",
       "\t<tr><th scope=row>6</th><td>5 to 10    </td><td> 8.238095</td></tr>\n",
       "\t<tr><th scope=row>7</th><td>50 to 60   </td><td>55.071429</td></tr>\n",
       "\t<tr><th scope=row>8</th><td>60 to 70   </td><td>65.571429</td></tr>\n",
       "\t<tr><th scope=row>9</th><td>70 and up  </td><td>76.714286</td></tr>\n",
       "\t<tr><th scope=row>10</th><td>less than 5</td><td> 2.800000</td></tr>\n",
       "</tbody>\n",
       "</table>\n"
      ],
      "text/latex": [
       "A data.frame: 10 × 2\n",
       "\\begin{tabular}{r|ll}\n",
       "  & Age\\_group & Age\\\\\n",
       "  & <chr> & <dbl>\\\\\n",
       "\\hline\n",
       "\t1 & 10 to 15    & 13.166667\\\\\n",
       "\t2 & 15 to 20    & 17.650000\\\\\n",
       "\t3 & 20 to 30    & 25.243902\\\\\n",
       "\t4 & 30 to 40    & 34.285714\\\\\n",
       "\t5 & 40 to 50    & 46.500000\\\\\n",
       "\t6 & 5 to 10     &  8.238095\\\\\n",
       "\t7 & 50 to 60    & 55.071429\\\\\n",
       "\t8 & 60 to 70    & 65.571429\\\\\n",
       "\t9 & 70 and up   & 76.714286\\\\\n",
       "\t10 & less than 5 &  2.800000\\\\\n",
       "\\end{tabular}\n"
      ],
      "text/markdown": [
       "\n",
       "A data.frame: 10 × 2\n",
       "\n",
       "| <!--/--> | Age_group &lt;chr&gt; | Age &lt;dbl&gt; |\n",
       "|---|---|---|\n",
       "| 1 | 10 to 15    | 13.166667 |\n",
       "| 2 | 15 to 20    | 17.650000 |\n",
       "| 3 | 20 to 30    | 25.243902 |\n",
       "| 4 | 30 to 40    | 34.285714 |\n",
       "| 5 | 40 to 50    | 46.500000 |\n",
       "| 6 | 5 to 10     |  8.238095 |\n",
       "| 7 | 50 to 60    | 55.071429 |\n",
       "| 8 | 60 to 70    | 65.571429 |\n",
       "| 9 | 70 and up   | 76.714286 |\n",
       "| 10 | less than 5 |  2.800000 |\n",
       "\n"
      ],
      "text/plain": [
       "   Age_group   Age      \n",
       "1  10 to 15    13.166667\n",
       "2  15 to 20    17.650000\n",
       "3  20 to 30    25.243902\n",
       "4  30 to 40    34.285714\n",
       "5  40 to 50    46.500000\n",
       "6  5 to 10      8.238095\n",
       "7  50 to 60    55.071429\n",
       "8  60 to 70    65.571429\n",
       "9  70 and up   76.714286\n",
       "10 less than 5  2.800000"
      ]
     },
     "metadata": {},
     "output_type": "display_data"
    },
    {
     "data": {
      "text/html": [
       "<table class=\"dataframe\">\n",
       "<caption>A data.frame: 10 × 3</caption>\n",
       "<thead>\n",
       "\t<tr><th scope=col>Age_group</th><th scope=col>Guess_age</th><th scope=col>Age</th></tr>\n",
       "\t<tr><th scope=col>&lt;chr&gt;</th><th scope=col>&lt;dbl&gt;</th><th scope=col>&lt;dbl&gt;</th></tr>\n",
       "</thead>\n",
       "<tbody>\n",
       "\t<tr><td>10 to 15   </td><td>27.20000</td><td>13.166667</td></tr>\n",
       "\t<tr><td>15 to 20   </td><td>26.10000</td><td>17.650000</td></tr>\n",
       "\t<tr><td>20 to 30   </td><td>29.12195</td><td>25.243902</td></tr>\n",
       "\t<tr><td>30 to 40   </td><td>28.66667</td><td>34.285714</td></tr>\n",
       "\t<tr><td>40 to 50   </td><td>34.16667</td><td>46.500000</td></tr>\n",
       "\t<tr><td>5 to 10    </td><td>27.28571</td><td> 8.238095</td></tr>\n",
       "\t<tr><td>50 to 60   </td><td>38.89286</td><td>55.071429</td></tr>\n",
       "\t<tr><td>60 to 70   </td><td>38.42857</td><td>65.571429</td></tr>\n",
       "\t<tr><td>70 and up  </td><td>45.53571</td><td>76.714286</td></tr>\n",
       "\t<tr><td>less than 5</td><td>26.65000</td><td> 2.800000</td></tr>\n",
       "</tbody>\n",
       "</table>\n"
      ],
      "text/latex": [
       "A data.frame: 10 × 3\n",
       "\\begin{tabular}{lll}\n",
       " Age\\_group & Guess\\_age & Age\\\\\n",
       " <chr> & <dbl> & <dbl>\\\\\n",
       "\\hline\n",
       "\t 10 to 15    & 27.20000 & 13.166667\\\\\n",
       "\t 15 to 20    & 26.10000 & 17.650000\\\\\n",
       "\t 20 to 30    & 29.12195 & 25.243902\\\\\n",
       "\t 30 to 40    & 28.66667 & 34.285714\\\\\n",
       "\t 40 to 50    & 34.16667 & 46.500000\\\\\n",
       "\t 5 to 10     & 27.28571 &  8.238095\\\\\n",
       "\t 50 to 60    & 38.89286 & 55.071429\\\\\n",
       "\t 60 to 70    & 38.42857 & 65.571429\\\\\n",
       "\t 70 and up   & 45.53571 & 76.714286\\\\\n",
       "\t less than 5 & 26.65000 &  2.800000\\\\\n",
       "\\end{tabular}\n"
      ],
      "text/markdown": [
       "\n",
       "A data.frame: 10 × 3\n",
       "\n",
       "| Age_group &lt;chr&gt; | Guess_age &lt;dbl&gt; | Age &lt;dbl&gt; |\n",
       "|---|---|---|\n",
       "| 10 to 15    | 27.20000 | 13.166667 |\n",
       "| 15 to 20    | 26.10000 | 17.650000 |\n",
       "| 20 to 30    | 29.12195 | 25.243902 |\n",
       "| 30 to 40    | 28.66667 | 34.285714 |\n",
       "| 40 to 50    | 34.16667 | 46.500000 |\n",
       "| 5 to 10     | 27.28571 |  8.238095 |\n",
       "| 50 to 60    | 38.89286 | 55.071429 |\n",
       "| 60 to 70    | 38.42857 | 65.571429 |\n",
       "| 70 and up   | 45.53571 | 76.714286 |\n",
       "| less than 5 | 26.65000 |  2.800000 |\n",
       "\n"
      ],
      "text/plain": [
       "   Age_group   Guess_age Age      \n",
       "1  10 to 15    27.20000  13.166667\n",
       "2  15 to 20    26.10000  17.650000\n",
       "3  20 to 30    29.12195  25.243902\n",
       "4  30 to 40    28.66667  34.285714\n",
       "5  40 to 50    34.16667  46.500000\n",
       "6  5 to 10     27.28571   8.238095\n",
       "7  50 to 60    38.89286  55.071429\n",
       "8  60 to 70    38.42857  65.571429\n",
       "9  70 and up   45.53571  76.714286\n",
       "10 less than 5 26.65000   2.800000"
      ]
     },
     "metadata": {},
     "output_type": "display_data"
    }
   ],
   "source": [
    "data = aggregate(Guess_age ~ Age_group, df, mean)\n",
    "head(data, 10)\n",
    "data1 = aggregate(Age ~ Age_group, df, mean)\n",
    "head(data1, 10)\n",
    "data3 <-merge(x=data, y=data1, by.x=\"Age_group\", by.y=\"Age_group\")\n",
    "data3"
   ]
  },
  {
   "cell_type": "code",
   "execution_count": 40,
   "metadata": {},
   "outputs": [
    {
     "data": {
      "image/png": "[encoded data removed]",
      "text/plain": [
       "Plot with title \"Compare the number between the different Valuation\""
      ]
     },
     "metadata": {
      "image/png": {
       "height": 420,
       "width": 420
      }
     },
     "output_type": "display_data"
    },
    {
     "data": {
      "image/png": "[encoded data removed]",
      "text/plain": [
       "Plot with title \"Compare the number between the different Valuation\""
      ]
     },
     "metadata": {
      "image/png": {
       "height": 420,
       "width": 420
      }
     },
     "output_type": "display_data"
    }
   ],
   "source": [
    "barplot(height=data3$Guess_age, names=data3$Age_group,  \n",
    "        col=\"#80a3d4\",\n",
    "        horiz=T, las=0,\n",
    "        xlab=\"Quantily\", \n",
    "        main=\"Compare the number between the different Valuation\"\n",
    "        )\n",
    "barplot(height=data3$Age, names=data3$Age_group,  \n",
    "        col=\"#10a3d4\",\n",
    "        horiz=T, las=0,\n",
    "        xlab=\"Quantily\", \n",
    "        main=\"Compare the number between the different Valuation\"\n",
    "        )"
   ]
  },
  {
   "cell_type": "markdown",
   "metadata": {},
   "source": [
    "----\n",
    "# Các Phép kiểm định\n",
    "\n",
    "Sử dụng kiểm định Chisquare để kiểm tra các yếu tố như Góc mặt, chất lượng ảnh có ảnh hưởng đến độ chính xác các dự đoán của DF không\n"
   ]
  },
  {
   "cell_type": "markdown",
   "metadata": {},
   "source": [
    "**Phát biểu giả thuyết:**\n",
    "**Phước**\n",
    "+ H0:  Giới tính không ảnh hưởng đế nhóm tuổi   (các yếu tố này độc lập với nhau )\n",
    "+ H1: Giới tính ảnh hưởng đến nhóm tuổi  ( các yếu tố này phụ thuộc nhau )"
   ]
  },
  {
   "cell_type": "code",
   "execution_count": 52,
   "metadata": {
    "vscode": {
     "languageId": "r"
    }
   },
   "outputs": [
    {
     "data": {
      "text/plain": [
       "\n",
       "\tPearson's Chi-squared test\n",
       "\n",
       "data:  df$Verify_gender and df$Age_group\n",
       "X-squared = 14.159, df = 9, p-value = 0.1168\n"
      ]
     },
     "metadata": {},
     "output_type": "display_data"
    },
    {
     "data": {
      "text/html": [
       "<table class=\"dataframe\">\n",
       "<caption>A data.frame: 6 × 3</caption>\n",
       "<thead>\n",
       "\t<tr><th></th><th scope=col>Verify_gender</th><th scope=col>Age_group</th><th scope=col>Count</th></tr>\n",
       "\t<tr><th></th><th scope=col>&lt;fct&gt;</th><th scope=col>&lt;fct&gt;</th><th scope=col>&lt;int&gt;</th></tr>\n",
       "</thead>\n",
       "<tbody>\n",
       "\t<tr><th scope=row>1</th><td>FALSE</td><td>10 to 15</td><td>15</td></tr>\n",
       "\t<tr><th scope=row>2</th><td>TRUE </td><td>10 to 15</td><td>15</td></tr>\n",
       "\t<tr><th scope=row>3</th><td>FALSE</td><td>15 to 20</td><td>10</td></tr>\n",
       "\t<tr><th scope=row>4</th><td>TRUE </td><td>15 to 20</td><td>10</td></tr>\n",
       "\t<tr><th scope=row>5</th><td>FALSE</td><td>20 to 30</td><td>13</td></tr>\n",
       "\t<tr><th scope=row>6</th><td>TRUE </td><td>20 to 30</td><td>28</td></tr>\n",
       "</tbody>\n",
       "</table>\n"
      ],
      "text/latex": [
       "A data.frame: 6 × 3\n",
       "\\begin{tabular}{r|lll}\n",
       "  & Verify\\_gender & Age\\_group & Count\\\\\n",
       "  & <fct> & <fct> & <int>\\\\\n",
       "\\hline\n",
       "\t1 & FALSE & 10 to 15 & 15\\\\\n",
       "\t2 & TRUE  & 10 to 15 & 15\\\\\n",
       "\t3 & FALSE & 15 to 20 & 10\\\\\n",
       "\t4 & TRUE  & 15 to 20 & 10\\\\\n",
       "\t5 & FALSE & 20 to 30 & 13\\\\\n",
       "\t6 & TRUE  & 20 to 30 & 28\\\\\n",
       "\\end{tabular}\n"
      ],
      "text/markdown": [
       "\n",
       "A data.frame: 6 × 3\n",
       "\n",
       "| <!--/--> | Verify_gender &lt;fct&gt; | Age_group &lt;fct&gt; | Count &lt;int&gt; |\n",
       "|---|---|---|---|\n",
       "| 1 | FALSE | 10 to 15 | 15 |\n",
       "| 2 | TRUE  | 10 to 15 | 15 |\n",
       "| 3 | FALSE | 15 to 20 | 10 |\n",
       "| 4 | TRUE  | 15 to 20 | 10 |\n",
       "| 5 | FALSE | 20 to 30 | 13 |\n",
       "| 6 | TRUE  | 20 to 30 | 28 |\n",
       "\n"
      ],
      "text/plain": [
       "  Verify_gender Age_group Count\n",
       "1 FALSE         10 to 15  15   \n",
       "2 TRUE          10 to 15  15   \n",
       "3 FALSE         15 to 20  10   \n",
       "4 TRUE          15 to 20  10   \n",
       "5 FALSE         20 to 30  13   \n",
       "6 TRUE          20 to 30  28   "
      ]
     },
     "metadata": {},
     "output_type": "display_data"
    }
   ],
   "source": [
    "Tab = data.frame(table(df$Verify_gender,df$Age_group))\n",
    "chisq.test(df$Verify_gender,df$Age_group)\n",
    "\n",
    "colnames(Tab) <- c('Verify_gender','Age_group','Count')\n",
    "head(Tab)"
   ]
  },
  {
   "cell_type": "markdown",
   "metadata": {},
   "source": [
    "#### nhận xét p value > 0.05 \n",
    "Đủ điều kiện để chấp nhận H0, có nghĩa là giới tính không ảnh hưởng đến nhóm tuổi\n"
   ]
  },
  {
   "cell_type": "code",
   "execution_count": 53,
   "metadata": {
    "vscode": {
     "languageId": "r"
    }
   },
   "outputs": [
    {
     "data": {
      "image/png": "[encoded data removed]",
      "text/plain": [
       "Plot with title \"Plot shows the accuracy in Gender Prediction\""
      ]
     },
     "metadata": {
      "image/png": {
       "height": 420,
       "width": 420
      }
     },
     "output_type": "display_data"
    }
   ],
   "source": [
    "my_bar <- barplot(Tab$Count , border=F , names.arg=Tab$Age_group, \n",
    "                  las=2 , \n",
    "                  col=c(rgb(0.3,0.1,0.4,0.6) , rgb(0.3,0.5,0.4,0.6) ) , #, rgb(0.3,0.9,0.4,0.6) ,  rgb(0.3,0.9,0.4,0.6)\n",
    "                  ylim=c(0,30) , \n",
    "                  main=\"Plot shows the accuracy in Gender Prediction\" )\n",
    "par(mar=c(6,4,4,4))\n",
    "# Add abline\n",
    "l = 4.85/2\n",
    "abline(v=c(l ,2*l, 3*l,4*l, 5*l, 6*l, 7*l, 8*l,9*l) , col=\"black\")\n",
    " \n",
    "# Add the text \n",
    "text(my_bar, Tab$Count+0.4 , paste(\"\", Tab$Count, sep=\"\") ,cex=0.8) \n",
    " \n",
    "#Legende\n",
    "legend(\"topleft\", legend = c(\"FALSE\",\"TRUE\") , \n",
    "     col = c(rgb(0.3,0.1,0.4,0.6) , rgb(0.3,0.5,0.4,0.6)) , \n",
    "     bty = \"n\", pch=20 , pt.cex = 2, cex = 0.8, horiz = FALSE, inset = c(0.05, 0.05))\n"
   ]
  },
  {
   "cell_type": "markdown",
   "metadata": {},
   "source": []
  },
  {
   "cell_type": "markdown",
   "metadata": {},
   "source": [
    "**Phát biểu giả thuyết:**\n",
    "**Phước**\n",
    "+ H0: Chất lượng hình ảnh không ảnh hưởng đến yếu tố kiểm tra giới tính ( 2 biến này độc lập với nhau )\n",
    "+ H1: Chất lượng hình ảnh ảnh hưởng đến yếu tố kiểm tra giới tính ( 2 biến này phụ thuộc lẫn nhau )"
   ]
  },
  {
   "cell_type": "code",
   "execution_count": 23,
   "metadata": {
    "vscode": {
     "languageId": "r"
    }
   },
   "outputs": [
    {
     "data": {
      "text/plain": [
       "       \n",
       "        Good Hidden Normal Poor\n",
       "  FALSE   36      5     17   34\n",
       "  TRUE    80      3     21   51"
      ]
     },
     "metadata": {},
     "output_type": "display_data"
    },
    {
     "name": "stderr",
     "output_type": "stream",
     "text": [
      "Warning message in chisq.test(df$Verify_gender, df$Quality):\n",
      "\"Chi-squared approximation may be incorrect\"\n"
     ]
    },
    {
     "data": {
      "text/plain": [
       "\n",
       "\tPearson's Chi-squared test\n",
       "\n",
       "data:  df$Verify_gender and df$Quality\n",
       "X-squared = 5.2858, df = 3, p-value = 0.152\n"
      ]
     },
     "metadata": {},
     "output_type": "display_data"
    }
   ],
   "source": [
    "table(df$Verify_gender,df$Quality)\n",
    "chisq.test(df$Verify_gender,df$Quality)"
   ]
  },
  {
   "cell_type": "markdown",
   "metadata": {},
   "source": [
    "Nhận xét: P > 0.05 : Chấp nhận H0, có nghĩa là chất lượng hình ảnh không ảnh hưởndg đến yếu tố xác minh giới tính"
   ]
  },
  {
   "cell_type": "code",
   "execution_count": 55,
   "metadata": {
    "vscode": {
     "languageId": "r"
    }
   },
   "outputs": [
    {
     "name": "stderr",
     "output_type": "stream",
     "text": [
      "Warning message in chisq.test(df$Age_accuracy, df$Quality):\n",
      "\"Chi-squared approximation may be incorrect\"\n"
     ]
    },
    {
     "data": {
      "text/plain": [
       "\n",
       "\tPearson's Chi-squared test\n",
       "\n",
       "data:  df$Age_accuracy and df$Quality\n",
       "X-squared = 6.8631, df = 6, p-value = 0.3337\n"
      ]
     },
     "metadata": {},
     "output_type": "display_data"
    },
    {
     "data": {
      "text/html": [
       "<table class=\"dataframe\">\n",
       "<caption>A data.frame: 6 × 3</caption>\n",
       "<thead>\n",
       "\t<tr><th></th><th scope=col>Prediction</th><th scope=col>Quality</th><th scope=col>Count</th></tr>\n",
       "\t<tr><th></th><th scope=col>&lt;fct&gt;</th><th scope=col>&lt;fct&gt;</th><th scope=col>&lt;int&gt;</th></tr>\n",
       "</thead>\n",
       "<tbody>\n",
       "\t<tr><th scope=row>1</th><td>Bad prediction     </td><td>Good  </td><td>79</td></tr>\n",
       "\t<tr><th scope=row>2</th><td>Good prediction    </td><td>Good  </td><td>18</td></tr>\n",
       "\t<tr><th scope=row>3</th><td>Not Good prediction</td><td>Good  </td><td>19</td></tr>\n",
       "\t<tr><th scope=row>4</th><td>Bad prediction     </td><td>Hidden</td><td> 7</td></tr>\n",
       "\t<tr><th scope=row>5</th><td>Good prediction    </td><td>Hidden</td><td> 0</td></tr>\n",
       "\t<tr><th scope=row>6</th><td>Not Good prediction</td><td>Hidden</td><td> 1</td></tr>\n",
       "</tbody>\n",
       "</table>\n"
      ],
      "text/latex": [
       "A data.frame: 6 × 3\n",
       "\\begin{tabular}{r|lll}\n",
       "  & Prediction & Quality & Count\\\\\n",
       "  & <fct> & <fct> & <int>\\\\\n",
       "\\hline\n",
       "\t1 & Bad prediction      & Good   & 79\\\\\n",
       "\t2 & Good prediction     & Good   & 18\\\\\n",
       "\t3 & Not Good prediction & Good   & 19\\\\\n",
       "\t4 & Bad prediction      & Hidden &  7\\\\\n",
       "\t5 & Good prediction     & Hidden &  0\\\\\n",
       "\t6 & Not Good prediction & Hidden &  1\\\\\n",
       "\\end{tabular}\n"
      ],
      "text/markdown": [
       "\n",
       "A data.frame: 6 × 3\n",
       "\n",
       "| <!--/--> | Prediction &lt;fct&gt; | Quality &lt;fct&gt; | Count &lt;int&gt; |\n",
       "|---|---|---|---|\n",
       "| 1 | Bad prediction      | Good   | 79 |\n",
       "| 2 | Good prediction     | Good   | 18 |\n",
       "| 3 | Not Good prediction | Good   | 19 |\n",
       "| 4 | Bad prediction      | Hidden |  7 |\n",
       "| 5 | Good prediction     | Hidden |  0 |\n",
       "| 6 | Not Good prediction | Hidden |  1 |\n",
       "\n"
      ],
      "text/plain": [
       "  Prediction          Quality Count\n",
       "1 Bad prediction      Good    79   \n",
       "2 Good prediction     Good    18   \n",
       "3 Not Good prediction Good    19   \n",
       "4 Bad prediction      Hidden   7   \n",
       "5 Good prediction     Hidden   0   \n",
       "6 Not Good prediction Hidden   1   "
      ]
     },
     "metadata": {},
     "output_type": "display_data"
    }
   ],
   "source": [
    "Tab = data.frame(table(df$Age_accuracy,df$Quality))\n",
    "chisq.test(df$Age_accuracy,df$Quality)\n",
    "\n",
    "colnames(Tab) <- c( 'Prediction','Quality','Count')\n",
    "head(Tab)"
   ]
  },
  {
   "cell_type": "code",
   "execution_count": 66,
   "metadata": {
    "vscode": {
     "languageId": "r"
    }
   },
   "outputs": [
    {
     "data": {
      "image/png": "[encoded data removed]",
      "text/plain": [
       "Plot with title \"Plot shows the accuracy in Age Prediction Depends on Quality\""
      ]
     },
     "metadata": {
      "image/png": {
       "height": 420,
       "width": 420
      }
     },
     "output_type": "display_data"
    }
   ],
   "source": [
    "my_bar <- barplot(Tab$Count , border=F , names.arg=Tab$Quality, \n",
    "                  las=2 , \n",
    "                  col=c(rgb(0.3,0.1,0.4,0.6) , rgb(0.3,0.5,0.4,0.6) , rgb(0.3,0.9,0.4,0.6)) , #, rgb(0.3,0.9,0.4,0.6) ,  rgb(0.3,0.9,0.4,0.6)\n",
    "                  ylim=c(0, 120) , \n",
    "                  main=\"Plot shows the accuracy in Age Prediction Depends on Quality\" )\n",
    "par(mar=c(6,4,4,4))\n",
    "# Add abline\n",
    "l = 4.85/4*3\n",
    "abline(v=c(l ,2*l, 3*l,4*l, 5*l) , col=\"black\")\n",
    " \n",
    "# Add the text \n",
    "text(my_bar, Tab$Count+2 , paste(\"\", Tab$Count, sep=\"\") ,cex=1) \n",
    " \n",
    "#Legende\n",
    "legend(\"topleft\", legend = c(\"Bad prediction\",\"Good prediction\",\"Not Good prediction\") , \n",
    "     col = c(rgb(0.3,0.1,0.4,0.6) , rgb(0.3,0.5,0.4,0.6), rgb(0.3,0.9,0.4,0.6)) , \n",
    "     bty = \"n\", pch=20 , pt.cex = 2, cex = 0.8, horiz = FALSE, inset = c(0.05, 0.05))"
   ]
  },
  {
   "cell_type": "markdown",
   "metadata": {},
   "source": []
  },
  {
   "cell_type": "markdown",
   "metadata": {},
   "source": [
    "## Tương tự các phép kiểm định còn lại"
   ]
  },
  {
   "cell_type": "code",
   "execution_count": 25,
   "metadata": {
    "vscode": {
     "languageId": "r"
    }
   },
   "outputs": [
    {
     "data": {
      "text/plain": [
       "                     \n",
       "                      Left Right Straight\n",
       "  Bad prediction        14    16      129\n",
       "  Good prediction        7     7       34\n",
       "  Not Good prediction    9     3       28"
      ]
     },
     "metadata": {},
     "output_type": "display_data"
    },
    {
     "name": "stderr",
     "output_type": "stream",
     "text": [
      "Warning message in chisq.test(df$Age_accuracy, df$Face_angle):\n",
      "\"Chi-squared approximation may be incorrect\"\n"
     ]
    },
    {
     "data": {
      "text/plain": [
       "\n",
       "\tPearson's Chi-squared test\n",
       "\n",
       "data:  df$Age_accuracy and df$Face_angle\n",
       "X-squared = 7.1948, df = 4, p-value = 0.1259\n"
      ]
     },
     "metadata": {},
     "output_type": "display_data"
    }
   ],
   "source": [
    "table(df$Age_accuracy,df$Face_angle)\n",
    "chisq.test(df$Age_accuracy,df$Face_angle)"
   ]
  },
  {
   "cell_type": "code",
   "execution_count": 26,
   "metadata": {
    "vscode": {
     "languageId": "r"
    }
   },
   "outputs": [
    {
     "data": {
      "text/plain": [
       "       \n",
       "        Left Right Straight\n",
       "  FALSE   16    11       65\n",
       "  TRUE    14    15      126"
      ]
     },
     "metadata": {},
     "output_type": "display_data"
    },
    {
     "data": {
      "text/plain": [
       "\n",
       "\tPearson's Chi-squared test\n",
       "\n",
       "data:  df$Verify_gender and df$Face_angle\n",
       "X-squared = 4.4511, df = 2, p-value = 0.108\n"
      ]
     },
     "metadata": {},
     "output_type": "display_data"
    }
   ],
   "source": [
    "table(df$Verify_gender,df$Face_angle)\n",
    "chisq.test(df$Verify_gender,df$Face_angle)"
   ]
  }
 ],
 "metadata": {
  "kernelspec": {
   "display_name": "R",
   "language": "R",
   "name": "ir"
  },
  "language_info": {
   "codemirror_mode": "r",
   "file_extension": ".r",
   "mimetype": "text/x-r-source",
   "name": "R",
   "pygments_lexer": "r",
   "version": "4.1.2"
  }
 },
 "nbformat": 4,
 "nbformat_minor": 2
}
