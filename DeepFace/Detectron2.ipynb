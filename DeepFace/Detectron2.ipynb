{
 "cells": [
  {
   "cell_type": "code",
   "execution_count": 3,
   "metadata": {},
   "outputs": [],
   "source": [
    "#!pip install pyyaml==5.1"
   ]
  },
  {
   "cell_type": "code",
   "execution_count": 15,
   "metadata": {},
   "outputs": [
    {
     "name": "stdout",
     "output_type": "stream",
     "text": [
      "Requirement already satisfied: pip in c:\\users\\admin\\appdata\\local\\programs\\python\\python310\\lib\\site-packages (22.0.4)\n"
     ]
    }
   ],
   "source": [
    "#! pip install -U pip"
   ]
  },
  {
   "cell_type": "code",
   "execution_count": 24,
   "metadata": {},
   "outputs": [
    {
     "name": "stderr",
     "output_type": "stream",
     "text": [
      "ERROR: torch-1.4.0-cp38-cp38-win_amd64.whl is not a supported wheel on this platform.\n"
     ]
    }
   ],
   "source": [
    "! pip install https://download.pytorch.org/whl/cu101/torch-1.4.0-cp38-cp38-win_amd64.whl"
   ]
  },
  {
   "cell_type": "code",
   "execution_count": 8,
   "metadata": {},
   "outputs": [
    {
     "name": "stdout",
     "output_type": "stream",
     "text": [
      "---------------------------------------------------------------------- \n",
      " Just take photo wait for minius to analyze face...\n",
      "{'emotion': {'angry': 64.77228789164351, 'disgust': 8.7846080538912e-05, 'fear': 0.026397868468857912, 'happy': 0.3459183239739134, 'sad': 8.600124484308033, 'surprise': 1.224478779702114, 'neutral': 25.030709804934848}, 'dominant_emotion': 'angry', 'region': {'x': 321, 'y': 136, 'w': 206, 'h': 274}}\n",
      "opencv_frame_0.jpg written!\n",
      "================================================================================ \n",
      " Escape hit, closing...\n"
     ]
    }
   ],
   "source": [
    "import cv2\n",
    "from deepface import DeepFace\n",
    "\n",
    "cam = cv2.VideoCapture(0)\n",
    "    \n",
    "cv2.namedWindow(\"test\")\n",
    " \n",
    "img_counter = 0\n",
    " \n",
    "while True:\n",
    "    ret, frame = cam.read()\n",
    "    ret = ~ret\n",
    "\n",
    "    if not ret:\n",
    "        print(\"failed to grab frame\")\n",
    "        break\n",
    "\n",
    "    cv2.imshow(\"test\", frame)\n",
    "\n",
    "    \n",
    "    k = cv2.waitKey(1)\n",
    "    if k%256 == 27:\n",
    "        # ESC pressed\n",
    "        print('='*100, '\\n'\n",
    "            ,\"Escape hit, closing...\")\n",
    "        break\n",
    "    elif k%256 == 32:\n",
    "        # SPACE pressed\n",
    "        print('-'*100, '\\n' \n",
    "                    ,'Just take photo wait for minius to analyze face...')\n",
    "        img_name = \"opencv_frame_{}.jpg\".format(img_counter)\n",
    "        cv2.imwrite(img_name, frame)\n",
    "        cv2.imshow(img_name)\n",
    "        img = cv2.imwrite(img_name, frame)\n",
    "        \n",
    "        img_adj = DeepFace.analyze(img_path = img_name,  actions = ['emotion']\n",
    "                        ,detector_backend='retinaface')\n",
    "        print(img_adj)\n",
    "        print(\"{} written!\".format(img_name))\n",
    "        img_counter += 1\n",
    " \n",
    "cam.release()\n",
    "cv2.destroyAllWindows()"
   ]
  }
 ],
 "metadata": {
  "interpreter": {
   "hash": "bfb4883d108fc92ac768439090a2e92bb9a1f760a54beeecfd6762b5dcd70fe3"
  },
  "kernelspec": {
   "display_name": "Python 3.10.1 64-bit",
   "language": "python",
   "name": "python3"
  },
  "language_info": {
   "codemirror_mode": {
    "name": "ipython",
    "version": 3
   },
   "file_extension": ".py",
   "mimetype": "text/x-python",
   "name": "python",
   "nbconvert_exporter": "python",
   "pygments_lexer": "ipython3",
   "version": "3.10.1"
  },
  "orig_nbformat": 4
 },
 "nbformat": 4,
 "nbformat_minor": 2
}
